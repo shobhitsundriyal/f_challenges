{
  "nbformat": 4,
  "nbformat_minor": 0,
  "metadata": {
    "colab": {
      "name": "Oo std drug noNLP",
      "provenance": [],
      "collapsed_sections": [],
      "toc_visible": true,
      "authorship_tag": "ABX9TyM4KSL7QPfsA0iEXlVuvnFj"
    },
    "kernelspec": {
      "name": "python3",
      "display_name": "Python 3"
    },
    "accelerator": "GPU"
  },
  "cells": [
    {
      "cell_type": "code",
      "metadata": {
        "id": "nyCnBypUMq2v",
        "colab_type": "code",
        "colab": {}
      },
      "source": [
        "import pandas as pd\n",
        "import numpy as np\n",
        "import matplotlib.pyplot as plt"
      ],
      "execution_count": 0,
      "outputs": []
    },
    {
      "cell_type": "code",
      "metadata": {
        "id": "SVW5GHNbM4X5",
        "colab_type": "code",
        "outputId": "daa5f82a-babd-4043-f066-15cece3c6c5f",
        "colab": {
          "base_uri": "https://localhost:8080/",
          "height": 385
        }
      },
      "source": [
        "df = pd.read_csv('train.csv')\n",
        "df.head()"
      ],
      "execution_count": 0,
      "outputs": [
        {
          "output_type": "execute_result",
          "data": {
            "text/html": [
              "<div>\n",
              "<style scoped>\n",
              "    .dataframe tbody tr th:only-of-type {\n",
              "        vertical-align: middle;\n",
              "    }\n",
              "\n",
              "    .dataframe tbody tr th {\n",
              "        vertical-align: top;\n",
              "    }\n",
              "\n",
              "    .dataframe thead th {\n",
              "        text-align: right;\n",
              "    }\n",
              "</style>\n",
              "<table border=\"1\" class=\"dataframe\">\n",
              "  <thead>\n",
              "    <tr style=\"text-align: right;\">\n",
              "      <th></th>\n",
              "      <th>patient_id</th>\n",
              "      <th>name_of_drug</th>\n",
              "      <th>use_case_for_drug</th>\n",
              "      <th>review_by_patient</th>\n",
              "      <th>effectiveness_rating</th>\n",
              "      <th>drug_approved_by_UIC</th>\n",
              "      <th>number_of_times_prescribed</th>\n",
              "      <th>base_score</th>\n",
              "    </tr>\n",
              "  </thead>\n",
              "  <tbody>\n",
              "    <tr>\n",
              "      <th>0</th>\n",
              "      <td>206461</td>\n",
              "      <td>Valsartan</td>\n",
              "      <td>Left Ventricular Dysfunction</td>\n",
              "      <td>\"It has no side effect, I take it in combinati...</td>\n",
              "      <td>9</td>\n",
              "      <td>20-May-12</td>\n",
              "      <td>27</td>\n",
              "      <td>8.022969</td>\n",
              "    </tr>\n",
              "    <tr>\n",
              "      <th>1</th>\n",
              "      <td>95260</td>\n",
              "      <td>Guanfacine</td>\n",
              "      <td>ADHD</td>\n",
              "      <td>\"My son is halfway through his fourth week of ...</td>\n",
              "      <td>8</td>\n",
              "      <td>27-Apr-10</td>\n",
              "      <td>192</td>\n",
              "      <td>7.858458</td>\n",
              "    </tr>\n",
              "    <tr>\n",
              "      <th>2</th>\n",
              "      <td>92703</td>\n",
              "      <td>Lybrel</td>\n",
              "      <td>Birth Control</td>\n",
              "      <td>\"I used to take another oral contraceptive, wh...</td>\n",
              "      <td>5</td>\n",
              "      <td>14-Dec-09</td>\n",
              "      <td>17</td>\n",
              "      <td>6.341969</td>\n",
              "    </tr>\n",
              "    <tr>\n",
              "      <th>3</th>\n",
              "      <td>35696</td>\n",
              "      <td>Buprenorphine / naloxone</td>\n",
              "      <td>Opiate Dependence</td>\n",
              "      <td>\"Suboxone has completely turned my life around...</td>\n",
              "      <td>9</td>\n",
              "      <td>27-Nov-16</td>\n",
              "      <td>37</td>\n",
              "      <td>6.590176</td>\n",
              "    </tr>\n",
              "    <tr>\n",
              "      <th>4</th>\n",
              "      <td>155963</td>\n",
              "      <td>Cialis</td>\n",
              "      <td>Benign Prostatic Hyperplasia</td>\n",
              "      <td>\"2nd day on 5mg started to work with rock hard...</td>\n",
              "      <td>2</td>\n",
              "      <td>28-Nov-15</td>\n",
              "      <td>43</td>\n",
              "      <td>6.144782</td>\n",
              "    </tr>\n",
              "  </tbody>\n",
              "</table>\n",
              "</div>"
            ],
            "text/plain": [
              "   patient_id              name_of_drug  ... number_of_times_prescribed base_score\n",
              "0      206461                 Valsartan  ...                         27   8.022969\n",
              "1       95260                Guanfacine  ...                        192   7.858458\n",
              "2       92703                    Lybrel  ...                         17   6.341969\n",
              "3       35696  Buprenorphine / naloxone  ...                         37   6.590176\n",
              "4      155963                    Cialis  ...                         43   6.144782\n",
              "\n",
              "[5 rows x 8 columns]"
            ]
          },
          "metadata": {
            "tags": []
          },
          "execution_count": 2
        }
      ]
    },
    {
      "cell_type": "code",
      "metadata": {
        "id": "Ts3H9O-aM-gC",
        "colab_type": "code",
        "outputId": "0035f307-c9e0-4d94-d773-11ff3f2b25b7",
        "colab": {
          "base_uri": "https://localhost:8080/",
          "height": 197
        }
      },
      "source": [
        "train = df[['effectiveness_rating', 'number_of_times_prescribed',\t'base_score']]\n",
        "train.head()"
      ],
      "execution_count": 0,
      "outputs": [
        {
          "output_type": "execute_result",
          "data": {
            "text/html": [
              "<div>\n",
              "<style scoped>\n",
              "    .dataframe tbody tr th:only-of-type {\n",
              "        vertical-align: middle;\n",
              "    }\n",
              "\n",
              "    .dataframe tbody tr th {\n",
              "        vertical-align: top;\n",
              "    }\n",
              "\n",
              "    .dataframe thead th {\n",
              "        text-align: right;\n",
              "    }\n",
              "</style>\n",
              "<table border=\"1\" class=\"dataframe\">\n",
              "  <thead>\n",
              "    <tr style=\"text-align: right;\">\n",
              "      <th></th>\n",
              "      <th>effectiveness_rating</th>\n",
              "      <th>number_of_times_prescribed</th>\n",
              "      <th>base_score</th>\n",
              "    </tr>\n",
              "  </thead>\n",
              "  <tbody>\n",
              "    <tr>\n",
              "      <th>0</th>\n",
              "      <td>9</td>\n",
              "      <td>27</td>\n",
              "      <td>8.022969</td>\n",
              "    </tr>\n",
              "    <tr>\n",
              "      <th>1</th>\n",
              "      <td>8</td>\n",
              "      <td>192</td>\n",
              "      <td>7.858458</td>\n",
              "    </tr>\n",
              "    <tr>\n",
              "      <th>2</th>\n",
              "      <td>5</td>\n",
              "      <td>17</td>\n",
              "      <td>6.341969</td>\n",
              "    </tr>\n",
              "    <tr>\n",
              "      <th>3</th>\n",
              "      <td>9</td>\n",
              "      <td>37</td>\n",
              "      <td>6.590176</td>\n",
              "    </tr>\n",
              "    <tr>\n",
              "      <th>4</th>\n",
              "      <td>2</td>\n",
              "      <td>43</td>\n",
              "      <td>6.144782</td>\n",
              "    </tr>\n",
              "  </tbody>\n",
              "</table>\n",
              "</div>"
            ],
            "text/plain": [
              "   effectiveness_rating  number_of_times_prescribed  base_score\n",
              "0                     9                          27    8.022969\n",
              "1                     8                         192    7.858458\n",
              "2                     5                          17    6.341969\n",
              "3                     9                          37    6.590176\n",
              "4                     2                          43    6.144782"
            ]
          },
          "metadata": {
            "tags": []
          },
          "execution_count": 3
        }
      ]
    },
    {
      "cell_type": "code",
      "metadata": {
        "id": "FepQgtXjA0Tp",
        "colab_type": "code",
        "colab": {}
      },
      "source": [
        "#sample\n",
        "train = train.sample(frac=1).reset_index(drop=True)"
      ],
      "execution_count": 0,
      "outputs": []
    },
    {
      "cell_type": "code",
      "metadata": {
        "id": "AU1_PIdzOH_M",
        "colab_type": "code",
        "outputId": "3dbad010-e48f-4357-99b7-30acf8b50009",
        "colab": {
          "base_uri": "https://localhost:8080/",
          "height": 137
        }
      },
      "source": [
        "train.corr()"
      ],
      "execution_count": 0,
      "outputs": [
        {
          "output_type": "execute_result",
          "data": {
            "text/html": [
              "<div>\n",
              "<style scoped>\n",
              "    .dataframe tbody tr th:only-of-type {\n",
              "        vertical-align: middle;\n",
              "    }\n",
              "\n",
              "    .dataframe tbody tr th {\n",
              "        vertical-align: top;\n",
              "    }\n",
              "\n",
              "    .dataframe thead th {\n",
              "        text-align: right;\n",
              "    }\n",
              "</style>\n",
              "<table border=\"1\" class=\"dataframe\">\n",
              "  <thead>\n",
              "    <tr style=\"text-align: right;\">\n",
              "      <th></th>\n",
              "      <th>effectiveness_rating</th>\n",
              "      <th>number_of_times_prescribed</th>\n",
              "      <th>base_score</th>\n",
              "    </tr>\n",
              "  </thead>\n",
              "  <tbody>\n",
              "    <tr>\n",
              "      <th>effectiveness_rating</th>\n",
              "      <td>1.000000</td>\n",
              "      <td>0.242224</td>\n",
              "      <td>0.412301</td>\n",
              "    </tr>\n",
              "    <tr>\n",
              "      <th>number_of_times_prescribed</th>\n",
              "      <td>0.242224</td>\n",
              "      <td>1.000000</td>\n",
              "      <td>0.134295</td>\n",
              "    </tr>\n",
              "    <tr>\n",
              "      <th>base_score</th>\n",
              "      <td>0.412301</td>\n",
              "      <td>0.134295</td>\n",
              "      <td>1.000000</td>\n",
              "    </tr>\n",
              "  </tbody>\n",
              "</table>\n",
              "</div>"
            ],
            "text/plain": [
              "                            effectiveness_rating  ...  base_score\n",
              "effectiveness_rating                    1.000000  ...    0.412301\n",
              "number_of_times_prescribed              0.242224  ...    0.134295\n",
              "base_score                              0.412301  ...    1.000000\n",
              "\n",
              "[3 rows x 3 columns]"
            ]
          },
          "metadata": {
            "tags": []
          },
          "execution_count": 5
        }
      ]
    },
    {
      "cell_type": "code",
      "metadata": {
        "id": "Aj7WyGFBOLyA",
        "colab_type": "code",
        "colab": {}
      },
      "source": [
        "x = train[['effectiveness_rating',\t'number_of_times_prescribed']]\n",
        "y = train[['base_score']]"
      ],
      "execution_count": 0,
      "outputs": []
    },
    {
      "cell_type": "code",
      "metadata": {
        "id": "pBuWCOv8TN_q",
        "colab_type": "code",
        "outputId": "055b3cfc-6e49-49e1-a20a-f7378aee45bd",
        "colab": {
          "base_uri": "https://localhost:8080/",
          "height": 34
        }
      },
      "source": [
        "from sklearn.preprocessing import StandardScaler\n",
        "transformer = StandardScaler().fit(x)  # fit does nothing.\n",
        "transformer"
      ],
      "execution_count": 0,
      "outputs": [
        {
          "output_type": "execute_result",
          "data": {
            "text/plain": [
              "StandardScaler(copy=True, with_mean=True, with_std=True)"
            ]
          },
          "metadata": {
            "tags": []
          },
          "execution_count": 7
        }
      ]
    },
    {
      "cell_type": "code",
      "metadata": {
        "id": "LXocBrl-TN7T",
        "colab_type": "code",
        "colab": {}
      },
      "source": [
        "x_norm = transformer.transform(x)"
      ],
      "execution_count": 0,
      "outputs": []
    },
    {
      "cell_type": "code",
      "metadata": {
        "id": "49vzz1JpOfbF",
        "colab_type": "code",
        "outputId": "a3735bdd-24cf-4596-c85c-48a268fadd8a",
        "colab": {
          "base_uri": "https://localhost:8080/",
          "height": 121
        }
      },
      "source": [
        "from sklearn import tree\n",
        "clf = tree.DecisionTreeRegressor(criterion='friedman_mse')\n",
        "clf.fit(x, y)"
      ],
      "execution_count": 0,
      "outputs": [
        {
          "output_type": "execute_result",
          "data": {
            "text/plain": [
              "DecisionTreeRegressor(ccp_alpha=0.5, criterion='friedman_mse', max_depth=None,\n",
              "                      max_features=None, max_leaf_nodes=None,\n",
              "                      min_impurity_decrease=0.0, min_impurity_split=None,\n",
              "                      min_samples_leaf=1, min_samples_split=2,\n",
              "                      min_weight_fraction_leaf=0.0, presort='deprecated',\n",
              "                      random_state=None, splitter='best')"
            ]
          },
          "metadata": {
            "tags": []
          },
          "execution_count": 92
        }
      ]
    },
    {
      "cell_type": "code",
      "metadata": {
        "id": "Gz6VLdniPJtV",
        "colab_type": "code",
        "outputId": "b9a8641a-82ae-4093-fd81-afaa87a75b26",
        "colab": {
          "base_uri": "https://localhost:8080/",
          "height": 121
        }
      },
      "source": [
        "clf"
      ],
      "execution_count": 0,
      "outputs": [
        {
          "output_type": "execute_result",
          "data": {
            "text/plain": [
              "DecisionTreeRegressor(ccp_alpha=0.5, criterion='friedman_mse', max_depth=None,\n",
              "                      max_features=None, max_leaf_nodes=None,\n",
              "                      min_impurity_decrease=0.0, min_impurity_split=None,\n",
              "                      min_samples_leaf=1, min_samples_split=2,\n",
              "                      min_weight_fraction_leaf=0.0, presort='deprecated',\n",
              "                      random_state=None, splitter='best')"
            ]
          },
          "metadata": {
            "tags": []
          },
          "execution_count": 93
        }
      ]
    },
    {
      "cell_type": "code",
      "metadata": {
        "id": "9nxQrqJDPgaY",
        "colab_type": "code",
        "colab": {}
      },
      "source": [
        "from sklearn.metrics import accuracy_score\n",
        "y_pred = clf.predict(x)"
      ],
      "execution_count": 0,
      "outputs": []
    },
    {
      "cell_type": "code",
      "metadata": {
        "id": "cXGbQ8mwPz3k",
        "colab_type": "code",
        "outputId": "efc76f6b-8aef-4bc9-9913-f36d0157045d",
        "colab": {
          "base_uri": "https://localhost:8080/",
          "height": 51
        }
      },
      "source": [
        "y_pred"
      ],
      "execution_count": 0,
      "outputs": [
        {
          "output_type": "execute_result",
          "data": {
            "text/plain": [
              "array([7.50975766, 5.85995262, 5.85995262, ..., 7.50975766, 5.85995262,\n",
              "       5.85995262])"
            ]
          },
          "metadata": {
            "tags": []
          },
          "execution_count": 95
        }
      ]
    },
    {
      "cell_type": "code",
      "metadata": {
        "id": "Hy20LZvjQby-",
        "colab_type": "code",
        "outputId": "b40d81a2-3043-418f-d483-a013915cd88f",
        "colab": {
          "base_uri": "https://localhost:8080/",
          "height": 385
        }
      },
      "source": [
        "df_test = pd.read_csv('test.csv')\n",
        "df_test.head()"
      ],
      "execution_count": 0,
      "outputs": [
        {
          "output_type": "execute_result",
          "data": {
            "text/html": [
              "<div>\n",
              "<style scoped>\n",
              "    .dataframe tbody tr th:only-of-type {\n",
              "        vertical-align: middle;\n",
              "    }\n",
              "\n",
              "    .dataframe tbody tr th {\n",
              "        vertical-align: top;\n",
              "    }\n",
              "\n",
              "    .dataframe thead th {\n",
              "        text-align: right;\n",
              "    }\n",
              "</style>\n",
              "<table border=\"1\" class=\"dataframe\">\n",
              "  <thead>\n",
              "    <tr style=\"text-align: right;\">\n",
              "      <th></th>\n",
              "      <th>patient_id</th>\n",
              "      <th>name_of_drug</th>\n",
              "      <th>review_by_patient</th>\n",
              "      <th>drug_approved_by_UIC</th>\n",
              "      <th>number_of_times_prescribed</th>\n",
              "      <th>use_case_for_drug</th>\n",
              "      <th>effectiveness_rating</th>\n",
              "    </tr>\n",
              "  </thead>\n",
              "  <tbody>\n",
              "    <tr>\n",
              "      <th>0</th>\n",
              "      <td>163740</td>\n",
              "      <td>Mirtazapine</td>\n",
              "      <td>\"I&amp;#039;ve tried a few antidepressants over th...</td>\n",
              "      <td>28-Feb-12</td>\n",
              "      <td>22</td>\n",
              "      <td>Depression</td>\n",
              "      <td>10</td>\n",
              "    </tr>\n",
              "    <tr>\n",
              "      <th>1</th>\n",
              "      <td>39293</td>\n",
              "      <td>Contrave</td>\n",
              "      <td>\"Contrave combines drugs that were used for al...</td>\n",
              "      <td>5-Mar-17</td>\n",
              "      <td>35</td>\n",
              "      <td>Weight Loss</td>\n",
              "      <td>9</td>\n",
              "    </tr>\n",
              "    <tr>\n",
              "      <th>2</th>\n",
              "      <td>208087</td>\n",
              "      <td>Zyclara</td>\n",
              "      <td>\"4 days in on first 2 weeks.  Using on arms an...</td>\n",
              "      <td>3-Jul-14</td>\n",
              "      <td>13</td>\n",
              "      <td>Keratosis</td>\n",
              "      <td>4</td>\n",
              "    </tr>\n",
              "    <tr>\n",
              "      <th>3</th>\n",
              "      <td>23295</td>\n",
              "      <td>Methadone</td>\n",
              "      <td>\"Ive been on Methadone for over ten years and ...</td>\n",
              "      <td>18-Oct-16</td>\n",
              "      <td>21</td>\n",
              "      <td>Opiate Withdrawal</td>\n",
              "      <td>7</td>\n",
              "    </tr>\n",
              "    <tr>\n",
              "      <th>4</th>\n",
              "      <td>97013</td>\n",
              "      <td>Ambien</td>\n",
              "      <td>\"Ditto on rebound sleepless when discontinued....</td>\n",
              "      <td>13-Jan-15</td>\n",
              "      <td>44</td>\n",
              "      <td>Insomnia</td>\n",
              "      <td>2</td>\n",
              "    </tr>\n",
              "  </tbody>\n",
              "</table>\n",
              "</div>"
            ],
            "text/plain": [
              "   patient_id name_of_drug  ...  use_case_for_drug effectiveness_rating\n",
              "0      163740  Mirtazapine  ...         Depression                   10\n",
              "1       39293     Contrave  ...        Weight Loss                    9\n",
              "2      208087      Zyclara  ...          Keratosis                    4\n",
              "3       23295    Methadone  ...  Opiate Withdrawal                    7\n",
              "4       97013       Ambien  ...           Insomnia                    2\n",
              "\n",
              "[5 rows x 7 columns]"
            ]
          },
          "metadata": {
            "tags": []
          },
          "execution_count": 9
        }
      ]
    },
    {
      "cell_type": "code",
      "metadata": {
        "id": "keSMEu2pS2eb",
        "colab_type": "code",
        "colab": {}
      },
      "source": [
        "predict_on = df_test[['effectiveness_rating', 'number_of_times_prescribed']]"
      ],
      "execution_count": 0,
      "outputs": []
    },
    {
      "cell_type": "code",
      "metadata": {
        "id": "bghjXPRqTKog",
        "colab_type": "code",
        "colab": {}
      },
      "source": [
        "z = clf.predict(predict_on)"
      ],
      "execution_count": 0,
      "outputs": []
    },
    {
      "cell_type": "code",
      "metadata": {
        "id": "MOsSVEIpTTQw",
        "colab_type": "code",
        "colab": {}
      },
      "source": [
        "submit = pd.DataFrame(columns=['patient_id', 'base_score'])"
      ],
      "execution_count": 0,
      "outputs": []
    },
    {
      "cell_type": "code",
      "metadata": {
        "id": "sd6vROqvTiHn",
        "colab_type": "code",
        "outputId": "c841fd61-6d89-428a-ee58-e8f50a0489ec",
        "colab": {
          "base_uri": "https://localhost:8080/",
          "height": 197
        }
      },
      "source": [
        "submit['patient_id'] = df_test['patient_id']\n",
        "submit.head()"
      ],
      "execution_count": 0,
      "outputs": [
        {
          "output_type": "execute_result",
          "data": {
            "text/html": [
              "<div>\n",
              "<style scoped>\n",
              "    .dataframe tbody tr th:only-of-type {\n",
              "        vertical-align: middle;\n",
              "    }\n",
              "\n",
              "    .dataframe tbody tr th {\n",
              "        vertical-align: top;\n",
              "    }\n",
              "\n",
              "    .dataframe thead th {\n",
              "        text-align: right;\n",
              "    }\n",
              "</style>\n",
              "<table border=\"1\" class=\"dataframe\">\n",
              "  <thead>\n",
              "    <tr style=\"text-align: right;\">\n",
              "      <th></th>\n",
              "      <th>patient_id</th>\n",
              "      <th>base_score</th>\n",
              "    </tr>\n",
              "  </thead>\n",
              "  <tbody>\n",
              "    <tr>\n",
              "      <th>0</th>\n",
              "      <td>163740</td>\n",
              "      <td>NaN</td>\n",
              "    </tr>\n",
              "    <tr>\n",
              "      <th>1</th>\n",
              "      <td>39293</td>\n",
              "      <td>NaN</td>\n",
              "    </tr>\n",
              "    <tr>\n",
              "      <th>2</th>\n",
              "      <td>208087</td>\n",
              "      <td>NaN</td>\n",
              "    </tr>\n",
              "    <tr>\n",
              "      <th>3</th>\n",
              "      <td>23295</td>\n",
              "      <td>NaN</td>\n",
              "    </tr>\n",
              "    <tr>\n",
              "      <th>4</th>\n",
              "      <td>97013</td>\n",
              "      <td>NaN</td>\n",
              "    </tr>\n",
              "  </tbody>\n",
              "</table>\n",
              "</div>"
            ],
            "text/plain": [
              "   patient_id base_score\n",
              "0      163740        NaN\n",
              "1       39293        NaN\n",
              "2      208087        NaN\n",
              "3       23295        NaN\n",
              "4       97013        NaN"
            ]
          },
          "metadata": {
            "tags": []
          },
          "execution_count": 100
        }
      ]
    },
    {
      "cell_type": "code",
      "metadata": {
        "id": "67Di6yGhTsxU",
        "colab_type": "code",
        "outputId": "9210b63b-7024-4d26-d6ac-76e9a92899b7",
        "colab": {
          "base_uri": "https://localhost:8080/",
          "height": 197
        }
      },
      "source": [
        "submit['base_score'] = z\n",
        "submit.head()"
      ],
      "execution_count": 0,
      "outputs": [
        {
          "output_type": "execute_result",
          "data": {
            "text/html": [
              "<div>\n",
              "<style scoped>\n",
              "    .dataframe tbody tr th:only-of-type {\n",
              "        vertical-align: middle;\n",
              "    }\n",
              "\n",
              "    .dataframe tbody tr th {\n",
              "        vertical-align: top;\n",
              "    }\n",
              "\n",
              "    .dataframe thead th {\n",
              "        text-align: right;\n",
              "    }\n",
              "</style>\n",
              "<table border=\"1\" class=\"dataframe\">\n",
              "  <thead>\n",
              "    <tr style=\"text-align: right;\">\n",
              "      <th></th>\n",
              "      <th>patient_id</th>\n",
              "      <th>base_score</th>\n",
              "    </tr>\n",
              "  </thead>\n",
              "  <tbody>\n",
              "    <tr>\n",
              "      <th>0</th>\n",
              "      <td>163740</td>\n",
              "      <td>7.509758</td>\n",
              "    </tr>\n",
              "    <tr>\n",
              "      <th>1</th>\n",
              "      <td>39293</td>\n",
              "      <td>7.509758</td>\n",
              "    </tr>\n",
              "    <tr>\n",
              "      <th>2</th>\n",
              "      <td>208087</td>\n",
              "      <td>5.859953</td>\n",
              "    </tr>\n",
              "    <tr>\n",
              "      <th>3</th>\n",
              "      <td>23295</td>\n",
              "      <td>5.859953</td>\n",
              "    </tr>\n",
              "    <tr>\n",
              "      <th>4</th>\n",
              "      <td>97013</td>\n",
              "      <td>5.859953</td>\n",
              "    </tr>\n",
              "  </tbody>\n",
              "</table>\n",
              "</div>"
            ],
            "text/plain": [
              "   patient_id  base_score\n",
              "0      163740    7.509758\n",
              "1       39293    7.509758\n",
              "2      208087    5.859953\n",
              "3       23295    5.859953\n",
              "4       97013    5.859953"
            ]
          },
          "metadata": {
            "tags": []
          },
          "execution_count": 101
        }
      ]
    },
    {
      "cell_type": "code",
      "metadata": {
        "id": "cweVfJ5PTxgV",
        "colab_type": "code",
        "colab": {}
      },
      "source": [
        "submit.to_csv('dt_fmse_ccp.csv', index=False)"
      ],
      "execution_count": 0,
      "outputs": []
    },
    {
      "cell_type": "markdown",
      "metadata": {
        "id": "DYmB20HQeci8",
        "colab_type": "text"
      },
      "source": [
        "-------------------------------------------------------------------"
      ]
    },
    {
      "cell_type": "code",
      "metadata": {
        "id": "8weCbaqeP3v_",
        "colab_type": "code",
        "colab": {}
      },
      "source": [
        "from sklearn.model_selection import train_test_split\n",
        "X_train, X_test, y_train, y_test = train_test_split(x_norm, y, test_size=0.22, random_state=42)"
      ],
      "execution_count": 0,
      "outputs": []
    },
    {
      "cell_type": "code",
      "metadata": {
        "id": "D-wWYiR5m3vQ",
        "colab_type": "code",
        "colab": {}
      },
      "source": [
        "pd.set_option(\"display.precision\", 8)"
      ],
      "execution_count": 0,
      "outputs": []
    },
    {
      "cell_type": "code",
      "metadata": {
        "id": "Hwru_03wqqNl",
        "colab_type": "code",
        "colab": {}
      },
      "source": [
        "import lightgbm as lgb "
      ],
      "execution_count": 0,
      "outputs": []
    },
    {
      "cell_type": "code",
      "metadata": {
        "id": "4_00No3N477m",
        "colab_type": "code",
        "outputId": "2454bdb9-5ee8-42f5-d8d3-b3fdfcd51230",
        "colab": {
          "base_uri": "https://localhost:8080/",
          "height": 138
        }
      },
      "source": [
        "predict_on.to_numpy()"
      ],
      "execution_count": 0,
      "outputs": [
        {
          "output_type": "execute_result",
          "data": {
            "text/plain": [
              "array([[10, 22],\n",
              "       [ 9, 35],\n",
              "       [ 4, 13],\n",
              "       ...,\n",
              "       [10, 43],\n",
              "       [ 8,  7],\n",
              "       [ 9, 46]])"
            ]
          },
          "metadata": {
            "tags": []
          },
          "execution_count": 296
        }
      ]
    },
    {
      "cell_type": "code",
      "metadata": {
        "id": "SIrkiTItVjsD",
        "colab_type": "code",
        "outputId": "09b51619-681b-48c9-b006-d86c44639a61",
        "colab": {
          "base_uri": "https://localhost:8080/",
          "height": 106
        }
      },
      "source": [
        "from sklearn.ensemble import RandomForestRegressor\n",
        "import xgboost as xgb\n",
        "from sklearn.ensemble import AdaBoostRegressor\n",
        "\n",
        "rfr = AdaBoostRegressor()#xgb.XGBRegressor( max_depth=55, n_estimators=340, tree_method='exact',reg_lambda=50.2999, learning_rate=0.308999, base_score=0.3999, booster='dart') \n",
        "#(max_depth=len(y), random_state=0, criterion='friedman_mse', oob_score=True)\n",
        "#rfr = lgb.LGBMRegressor()#(max_depth=100, n_estimators=320, tree_method='exact',reg_lambda=50.2999, learning_rate=0.308999, base_score=0.3999, grow_policy=\"lossguide\")\n",
        "rfr.fit(x_norm, y)"
      ],
      "execution_count": 0,
      "outputs": [
        {
          "output_type": "stream",
          "text": [
            "/usr/local/lib/python3.6/dist-packages/sklearn/utils/validation.py:760: DataConversionWarning: A column-vector y was passed when a 1d array was expected. Please change the shape of y to (n_samples, ), for example using ravel().\n",
            "  y = column_or_1d(y, warn=True)\n"
          ],
          "name": "stderr"
        },
        {
          "output_type": "execute_result",
          "data": {
            "text/plain": [
              "AdaBoostRegressor(base_estimator=None, learning_rate=1.0, loss='linear',\n",
              "                  n_estimators=50, random_state=None)"
            ]
          },
          "metadata": {
            "tags": []
          },
          "execution_count": 12
        }
      ]
    },
    {
      "cell_type": "code",
      "metadata": {
        "id": "3vOpaFSvVjn_",
        "colab_type": "code",
        "outputId": "b013c39a-88cf-4dcf-f12e-71778b8e75e5",
        "colab": {
          "base_uri": "https://localhost:8080/",
          "height": 34
        }
      },
      "source": [
        "#train score     320\n",
        "rfr.score(x_norm, y)\n",
        "#0.9999973513904648\n",
        "#0.99997/8xxx\n",
        "\n",
        "#0.9999817462011953 gamma almost zero\n",
        "#0.9999820730474576 gamma zero <- 2nd best till now\n",
        "#0.999982123378497 on using dart new best"
      ],
      "execution_count": 0,
      "outputs": [
        {
          "output_type": "execute_result",
          "data": {
            "text/plain": [
              "0.4954054159911493"
            ]
          },
          "metadata": {
            "tags": []
          },
          "execution_count": 13
        }
      ]
    },
    {
      "cell_type": "code",
      "metadata": {
        "id": "etyrkZTQVjmB",
        "colab_type": "code",
        "colab": {}
      },
      "source": [
        "#rfr.get_params()"
      ],
      "execution_count": 0,
      "outputs": []
    },
    {
      "cell_type": "code",
      "metadata": {
        "colab_type": "code",
        "id": "xXSbEV06ViFX",
        "colab": {}
      },
      "source": [
        "z = rfr.predict(transformer.transform(predict_on))"
      ],
      "execution_count": 0,
      "outputs": []
    },
    {
      "cell_type": "code",
      "metadata": {
        "colab_type": "code",
        "outputId": "00965a84-4b7b-44b5-9668-113b5f10e760",
        "id": "0CqxQeK7Vhan",
        "colab": {
          "base_uri": "https://localhost:8080/",
          "height": 47
        }
      },
      "source": [
        "submit = pd.DataFrame(columns=['patient_id', 'base_score'])\n",
        "submit.head()"
      ],
      "execution_count": 0,
      "outputs": [
        {
          "output_type": "execute_result",
          "data": {
            "text/html": [
              "<div>\n",
              "<style scoped>\n",
              "    .dataframe tbody tr th:only-of-type {\n",
              "        vertical-align: middle;\n",
              "    }\n",
              "\n",
              "    .dataframe tbody tr th {\n",
              "        vertical-align: top;\n",
              "    }\n",
              "\n",
              "    .dataframe thead th {\n",
              "        text-align: right;\n",
              "    }\n",
              "</style>\n",
              "<table border=\"1\" class=\"dataframe\">\n",
              "  <thead>\n",
              "    <tr style=\"text-align: right;\">\n",
              "      <th></th>\n",
              "      <th>patient_id</th>\n",
              "      <th>base_score</th>\n",
              "    </tr>\n",
              "  </thead>\n",
              "  <tbody>\n",
              "  </tbody>\n",
              "</table>\n",
              "</div>"
            ],
            "text/plain": [
              "Empty DataFrame\n",
              "Columns: [patient_id, base_score]\n",
              "Index: []"
            ]
          },
          "metadata": {
            "tags": []
          },
          "execution_count": 15
        }
      ]
    },
    {
      "cell_type": "code",
      "metadata": {
        "id": "eJ-LxGacbR8Z",
        "colab_type": "code",
        "outputId": "aa706144-cfa0-418c-d565-44435d52a79b",
        "colab": {
          "base_uri": "https://localhost:8080/",
          "height": 197
        }
      },
      "source": [
        "submit['patient_id'] = df_test['patient_id']\n",
        "submit.head()"
      ],
      "execution_count": 0,
      "outputs": [
        {
          "output_type": "execute_result",
          "data": {
            "text/html": [
              "<div>\n",
              "<style scoped>\n",
              "    .dataframe tbody tr th:only-of-type {\n",
              "        vertical-align: middle;\n",
              "    }\n",
              "\n",
              "    .dataframe tbody tr th {\n",
              "        vertical-align: top;\n",
              "    }\n",
              "\n",
              "    .dataframe thead th {\n",
              "        text-align: right;\n",
              "    }\n",
              "</style>\n",
              "<table border=\"1\" class=\"dataframe\">\n",
              "  <thead>\n",
              "    <tr style=\"text-align: right;\">\n",
              "      <th></th>\n",
              "      <th>patient_id</th>\n",
              "      <th>base_score</th>\n",
              "    </tr>\n",
              "  </thead>\n",
              "  <tbody>\n",
              "    <tr>\n",
              "      <th>0</th>\n",
              "      <td>163740</td>\n",
              "      <td>NaN</td>\n",
              "    </tr>\n",
              "    <tr>\n",
              "      <th>1</th>\n",
              "      <td>39293</td>\n",
              "      <td>NaN</td>\n",
              "    </tr>\n",
              "    <tr>\n",
              "      <th>2</th>\n",
              "      <td>208087</td>\n",
              "      <td>NaN</td>\n",
              "    </tr>\n",
              "    <tr>\n",
              "      <th>3</th>\n",
              "      <td>23295</td>\n",
              "      <td>NaN</td>\n",
              "    </tr>\n",
              "    <tr>\n",
              "      <th>4</th>\n",
              "      <td>97013</td>\n",
              "      <td>NaN</td>\n",
              "    </tr>\n",
              "  </tbody>\n",
              "</table>\n",
              "</div>"
            ],
            "text/plain": [
              "   patient_id base_score\n",
              "0      163740        NaN\n",
              "1       39293        NaN\n",
              "2      208087        NaN\n",
              "3       23295        NaN\n",
              "4       97013        NaN"
            ]
          },
          "metadata": {
            "tags": []
          },
          "execution_count": 16
        }
      ]
    },
    {
      "cell_type": "code",
      "metadata": {
        "id": "ENOBiKFKbVbo",
        "colab_type": "code",
        "outputId": "6faac590-5ea9-49a4-e617-a8e62e27cd83",
        "colab": {
          "base_uri": "https://localhost:8080/",
          "height": 197
        }
      },
      "source": [
        "submit['base_score'] = z\n",
        "submit.head()"
      ],
      "execution_count": 0,
      "outputs": [
        {
          "output_type": "execute_result",
          "data": {
            "text/html": [
              "<div>\n",
              "<style scoped>\n",
              "    .dataframe tbody tr th:only-of-type {\n",
              "        vertical-align: middle;\n",
              "    }\n",
              "\n",
              "    .dataframe tbody tr th {\n",
              "        vertical-align: top;\n",
              "    }\n",
              "\n",
              "    .dataframe thead th {\n",
              "        text-align: right;\n",
              "    }\n",
              "</style>\n",
              "<table border=\"1\" class=\"dataframe\">\n",
              "  <thead>\n",
              "    <tr style=\"text-align: right;\">\n",
              "      <th></th>\n",
              "      <th>patient_id</th>\n",
              "      <th>base_score</th>\n",
              "    </tr>\n",
              "  </thead>\n",
              "  <tbody>\n",
              "    <tr>\n",
              "      <th>0</th>\n",
              "      <td>163740</td>\n",
              "      <td>7.49603464</td>\n",
              "    </tr>\n",
              "    <tr>\n",
              "      <th>1</th>\n",
              "      <td>39293</td>\n",
              "      <td>7.50126496</td>\n",
              "    </tr>\n",
              "    <tr>\n",
              "      <th>2</th>\n",
              "      <td>208087</td>\n",
              "      <td>6.85047422</td>\n",
              "    </tr>\n",
              "    <tr>\n",
              "      <th>3</th>\n",
              "      <td>23295</td>\n",
              "      <td>4.48332986</td>\n",
              "    </tr>\n",
              "    <tr>\n",
              "      <th>4</th>\n",
              "      <td>97013</td>\n",
              "      <td>6.85047422</td>\n",
              "    </tr>\n",
              "  </tbody>\n",
              "</table>\n",
              "</div>"
            ],
            "text/plain": [
              "   patient_id  base_score\n",
              "0      163740  7.49603464\n",
              "1       39293  7.50126496\n",
              "2      208087  6.85047422\n",
              "3       23295  4.48332986\n",
              "4       97013  6.85047422"
            ]
          },
          "metadata": {
            "tags": []
          },
          "execution_count": 17
        }
      ]
    },
    {
      "cell_type": "code",
      "metadata": {
        "id": "NpN_KIz7VUZC",
        "colab_type": "code",
        "outputId": "c37dd290-fe20-4a98-9768-b0b807b7ef39",
        "colab": {
          "base_uri": "https://localhost:8080/",
          "height": 197
        }
      },
      "source": [
        "submit['base_score'] = submit['base_score'].round(5)\n",
        "#submit.base_score = submit.base_score * 100000\n",
        "#submit.base_score = submit.base_score.apply(np.floor)\n",
        "#submit.base_score = submit.base_score / 100000\n",
        "submit.head()"
      ],
      "execution_count": 0,
      "outputs": [
        {
          "output_type": "execute_result",
          "data": {
            "text/html": [
              "<div>\n",
              "<style scoped>\n",
              "    .dataframe tbody tr th:only-of-type {\n",
              "        vertical-align: middle;\n",
              "    }\n",
              "\n",
              "    .dataframe tbody tr th {\n",
              "        vertical-align: top;\n",
              "    }\n",
              "\n",
              "    .dataframe thead th {\n",
              "        text-align: right;\n",
              "    }\n",
              "</style>\n",
              "<table border=\"1\" class=\"dataframe\">\n",
              "  <thead>\n",
              "    <tr style=\"text-align: right;\">\n",
              "      <th></th>\n",
              "      <th>patient_id</th>\n",
              "      <th>base_score</th>\n",
              "    </tr>\n",
              "  </thead>\n",
              "  <tbody>\n",
              "    <tr>\n",
              "      <th>0</th>\n",
              "      <td>163740</td>\n",
              "      <td>8.75726986</td>\n",
              "    </tr>\n",
              "    <tr>\n",
              "      <th>1</th>\n",
              "      <td>39293</td>\n",
              "      <td>8.74501991</td>\n",
              "    </tr>\n",
              "    <tr>\n",
              "      <th>2</th>\n",
              "      <td>208087</td>\n",
              "      <td>5.95239019</td>\n",
              "    </tr>\n",
              "    <tr>\n",
              "      <th>3</th>\n",
              "      <td>23295</td>\n",
              "      <td>5.99464989</td>\n",
              "    </tr>\n",
              "    <tr>\n",
              "      <th>4</th>\n",
              "      <td>97013</td>\n",
              "      <td>5.35319996</td>\n",
              "    </tr>\n",
              "  </tbody>\n",
              "</table>\n",
              "</div>"
            ],
            "text/plain": [
              "   patient_id  base_score\n",
              "0      163740  8.75726986\n",
              "1       39293  8.74501991\n",
              "2      208087  5.95239019\n",
              "3       23295  5.99464989\n",
              "4       97013  5.35319996"
            ]
          },
          "metadata": {
            "tags": []
          },
          "execution_count": 60
        }
      ]
    },
    {
      "cell_type": "code",
      "metadata": {
        "id": "bmGQI59-bZgX",
        "colab_type": "code",
        "colab": {}
      },
      "source": [
        "submit.to_csv('ada.csv', index=False)\n",
        "#rl2 s> rl1"
      ],
      "execution_count": 0,
      "outputs": []
    },
    {
      "cell_type": "markdown",
      "metadata": {
        "id": "hNbeQhrqbEA9",
        "colab_type": "text"
      },
      "source": [
        "again ne 340>320"
      ]
    },
    {
      "cell_type": "markdown",
      "metadata": {
        "id": "clr2LYAJ0ytF",
        "colab_type": "text"
      },
      "source": [
        "md60 --> 94.59951<br>\n",
        "md50 --> 94.4<br>\n",
        "md55 --> 94.60658"
      ]
    },
    {
      "cell_type": "markdown",
      "metadata": {
        "id": "-HRjHF20mw25",
        "colab_type": "text"
      },
      "source": [
        "4-4-20 08:02 -->\n",
        "94.51306  ab se sab round karo"
      ]
    },
    {
      "cell_type": "code",
      "metadata": {
        "id": "AyaQGwYBtrtm",
        "colab_type": "code",
        "colab": {}
      },
      "source": [
        "#randomness\n",
        "for i, data in submit.iterrows():\n",
        "  r1 = np.random.randint(1,9) / 100000\n",
        "  r2 = np.random.randint(1,9) / 10000\n",
        "  r3 = np.random.randint(1,9) / 1000000\n",
        "  r = r1 + r2 +r3\n",
        "  new = data.base_score + r\n",
        "  submit.at[i, 'base_score'] = new\n"
      ],
      "execution_count": 0,
      "outputs": []
    },
    {
      "cell_type": "markdown",
      "metadata": {
        "id": "TDb7EVzZUBfn",
        "colab_type": "text"
      },
      "source": [
        "ab toh saturate ho chuka hai dedo 1st prize yaar"
      ]
    },
    {
      "cell_type": "markdown",
      "metadata": {
        "id": "jkqRUf3uSDyl",
        "colab_type": "text"
      },
      "source": [
        "mds2 0 was better"
      ]
    },
    {
      "cell_type": "markdown",
      "metadata": {
        "id": "GeqgCi4YRfUx",
        "colab_type": "text"
      },
      "source": [
        "spw no effect as of now"
      ]
    },
    {
      "cell_type": "markdown",
      "metadata": {
        "id": "b9KFxN1vr8k3",
        "colab_type": "text"
      },
      "source": [
        "* bs 0.3999 ++9 --> 94.52141\n",
        "* bs 0.38 --> 94.34\n",
        "* bs 0.4 --> 94.51306\n",
        "* bs 0.44 --> 94.43\n",
        "* bs 0.41 --> 94.42\n",
        "* bs 0.3 --> 94.44"
      ]
    },
    {
      "cell_type": "markdown",
      "metadata": {
        "id": "x2ZzgO__aoL2",
        "colab_type": "text"
      },
      "source": [
        "lr 0.308999 --> 94.48306<br>\n",
        "lr 0.301 --> 94.461<br>\n",
        "lr 0.3 --> 94.4<br>\n",
        "lr 0.4 --> 94.37<br>"
      ]
    },
    {
      "cell_type": "markdown",
      "metadata": {
        "id": "NwW3Q4sb8mHz",
        "colab_type": "text"
      },
      "source": [
        "round 4 --> 94.28203\n",
        "<br>rl 50.2999 ==> 94.282<br>\n",
        "rl 50.29 ==> 94.237<br>\n",
        "rl 50.3 ==> 94.264<br>\n",
        "rl 50.333 ==> 94.20<br>"
      ]
    },
    {
      "cell_type": "markdown",
      "metadata": {
        "id": "7WlbNKQi2WZC",
        "colab_type": "text"
      },
      "source": [
        "rl2 slight improvement<br/>\n",
        "rl3 2% more(91) <br>\n",
        "rl30 93<br>\n",
        "rl50 94.25<br>\n",
        "rl50.9 94.22<br>\n",
        "--55 94.12<br>\n",
        "--53 94.16<br>\n",
        "rl70 reduced to 93"
      ]
    },
    {
      "cell_type": "markdown",
      "metadata": {
        "id": "eyDaNiHx1UxQ",
        "colab_type": "text"
      },
      "source": [
        "---\n",
        "adding year too"
      ]
    },
    {
      "cell_type": "code",
      "metadata": {
        "id": "9Z5tL6wqzLR0",
        "colab_type": "code",
        "outputId": "86ae1ea7-410e-4943-fde8-715e8039ea7e",
        "colab": {
          "base_uri": "https://localhost:8080/",
          "height": 394
        }
      },
      "source": [
        "df.head()"
      ],
      "execution_count": 0,
      "outputs": [
        {
          "output_type": "execute_result",
          "data": {
            "text/html": [
              "<div>\n",
              "<style scoped>\n",
              "    .dataframe tbody tr th:only-of-type {\n",
              "        vertical-align: middle;\n",
              "    }\n",
              "\n",
              "    .dataframe tbody tr th {\n",
              "        vertical-align: top;\n",
              "    }\n",
              "\n",
              "    .dataframe thead th {\n",
              "        text-align: right;\n",
              "    }\n",
              "</style>\n",
              "<table border=\"1\" class=\"dataframe\">\n",
              "  <thead>\n",
              "    <tr style=\"text-align: right;\">\n",
              "      <th></th>\n",
              "      <th>patient_id</th>\n",
              "      <th>name_of_drug</th>\n",
              "      <th>use_case_for_drug</th>\n",
              "      <th>review_by_patient</th>\n",
              "      <th>effectiveness_rating</th>\n",
              "      <th>drug_approved_by_UIC</th>\n",
              "      <th>number_of_times_prescribed</th>\n",
              "      <th>base_score</th>\n",
              "    </tr>\n",
              "  </thead>\n",
              "  <tbody>\n",
              "    <tr>\n",
              "      <th>0</th>\n",
              "      <td>206461</td>\n",
              "      <td>Valsartan</td>\n",
              "      <td>Left Ventricular Dysfunction</td>\n",
              "      <td>\"It has no side effect, I take it in combinati...</td>\n",
              "      <td>9</td>\n",
              "      <td>20-May-12</td>\n",
              "      <td>27</td>\n",
              "      <td>8.022969</td>\n",
              "    </tr>\n",
              "    <tr>\n",
              "      <th>1</th>\n",
              "      <td>95260</td>\n",
              "      <td>Guanfacine</td>\n",
              "      <td>ADHD</td>\n",
              "      <td>\"My son is halfway through his fourth week of ...</td>\n",
              "      <td>8</td>\n",
              "      <td>27-Apr-10</td>\n",
              "      <td>192</td>\n",
              "      <td>7.858458</td>\n",
              "    </tr>\n",
              "    <tr>\n",
              "      <th>2</th>\n",
              "      <td>92703</td>\n",
              "      <td>Lybrel</td>\n",
              "      <td>Birth Control</td>\n",
              "      <td>\"I used to take another oral contraceptive, wh...</td>\n",
              "      <td>5</td>\n",
              "      <td>14-Dec-09</td>\n",
              "      <td>17</td>\n",
              "      <td>6.341969</td>\n",
              "    </tr>\n",
              "    <tr>\n",
              "      <th>3</th>\n",
              "      <td>35696</td>\n",
              "      <td>Buprenorphine / naloxone</td>\n",
              "      <td>Opiate Dependence</td>\n",
              "      <td>\"Suboxone has completely turned my life around...</td>\n",
              "      <td>9</td>\n",
              "      <td>27-Nov-16</td>\n",
              "      <td>37</td>\n",
              "      <td>6.590176</td>\n",
              "    </tr>\n",
              "    <tr>\n",
              "      <th>4</th>\n",
              "      <td>155963</td>\n",
              "      <td>Cialis</td>\n",
              "      <td>Benign Prostatic Hyperplasia</td>\n",
              "      <td>\"2nd day on 5mg started to work with rock hard...</td>\n",
              "      <td>2</td>\n",
              "      <td>28-Nov-15</td>\n",
              "      <td>43</td>\n",
              "      <td>6.144782</td>\n",
              "    </tr>\n",
              "  </tbody>\n",
              "</table>\n",
              "</div>"
            ],
            "text/plain": [
              "   patient_id              name_of_drug  ... number_of_times_prescribed base_score\n",
              "0      206461                 Valsartan  ...                         27   8.022969\n",
              "1       95260                Guanfacine  ...                        192   7.858458\n",
              "2       92703                    Lybrel  ...                         17   6.341969\n",
              "3       35696  Buprenorphine / naloxone  ...                         37   6.590176\n",
              "4      155963                    Cialis  ...                         43   6.144782\n",
              "\n",
              "[5 rows x 8 columns]"
            ]
          },
          "metadata": {
            "tags": []
          },
          "execution_count": 220
        }
      ]
    },
    {
      "cell_type": "code",
      "metadata": {
        "id": "m_9xPr94zLOF",
        "colab_type": "code",
        "outputId": "4290ed48-c36b-423d-cbc2-1362e9dc65d6",
        "colab": {
          "base_uri": "https://localhost:8080/",
          "height": 51
        }
      },
      "source": [
        "year = df['drug_approved_by_UIC'].apply(lambda x: str(x)[-2:])\n",
        "year.unique()"
      ],
      "execution_count": 0,
      "outputs": [
        {
          "output_type": "execute_result",
          "data": {
            "text/plain": [
              "array(['12', '10', '09', '16', '15', '17', '14', '11', '08', '13'],\n",
              "      dtype=object)"
            ]
          },
          "metadata": {
            "tags": []
          },
          "execution_count": 314
        }
      ]
    },
    {
      "cell_type": "code",
      "metadata": {
        "id": "v1f1HoefzLGP",
        "colab_type": "code",
        "outputId": "40cfa81c-468a-4dab-fddb-9536d2b44a7c",
        "colab": {
          "base_uri": "https://localhost:8080/",
          "height": 203
        }
      },
      "source": [
        "x1 = train[['effectiveness_rating',\t'number_of_times_prescribed']]\n",
        "y1 = train[['base_score']]\n",
        "x1['year'] = year.astype(int)\n",
        "x1.head()"
      ],
      "execution_count": 0,
      "outputs": [
        {
          "output_type": "execute_result",
          "data": {
            "text/html": [
              "<div>\n",
              "<style scoped>\n",
              "    .dataframe tbody tr th:only-of-type {\n",
              "        vertical-align: middle;\n",
              "    }\n",
              "\n",
              "    .dataframe tbody tr th {\n",
              "        vertical-align: top;\n",
              "    }\n",
              "\n",
              "    .dataframe thead th {\n",
              "        text-align: right;\n",
              "    }\n",
              "</style>\n",
              "<table border=\"1\" class=\"dataframe\">\n",
              "  <thead>\n",
              "    <tr style=\"text-align: right;\">\n",
              "      <th></th>\n",
              "      <th>effectiveness_rating</th>\n",
              "      <th>number_of_times_prescribed</th>\n",
              "      <th>year</th>\n",
              "    </tr>\n",
              "  </thead>\n",
              "  <tbody>\n",
              "    <tr>\n",
              "      <th>0</th>\n",
              "      <td>10</td>\n",
              "      <td>65</td>\n",
              "      <td>12</td>\n",
              "    </tr>\n",
              "    <tr>\n",
              "      <th>1</th>\n",
              "      <td>1</td>\n",
              "      <td>18</td>\n",
              "      <td>10</td>\n",
              "    </tr>\n",
              "    <tr>\n",
              "      <th>2</th>\n",
              "      <td>6</td>\n",
              "      <td>7</td>\n",
              "      <td>9</td>\n",
              "    </tr>\n",
              "    <tr>\n",
              "      <th>3</th>\n",
              "      <td>3</td>\n",
              "      <td>5</td>\n",
              "      <td>16</td>\n",
              "    </tr>\n",
              "    <tr>\n",
              "      <th>4</th>\n",
              "      <td>2</td>\n",
              "      <td>5</td>\n",
              "      <td>15</td>\n",
              "    </tr>\n",
              "  </tbody>\n",
              "</table>\n",
              "</div>"
            ],
            "text/plain": [
              "   effectiveness_rating  number_of_times_prescribed  year\n",
              "0                    10                          65    12\n",
              "1                     1                          18    10\n",
              "2                     6                           7     9\n",
              "3                     3                           5    16\n",
              "4                     2                           5    15"
            ]
          },
          "metadata": {
            "tags": []
          },
          "execution_count": 315
        }
      ]
    },
    {
      "cell_type": "code",
      "metadata": {
        "id": "X-VT-hjGzK3p",
        "colab_type": "code",
        "colab": {}
      },
      "source": [
        "t1 = StandardScaler().fit(x1)\n",
        "x1_norm = t1.transform(x1)"
      ],
      "execution_count": 0,
      "outputs": []
    },
    {
      "cell_type": "code",
      "metadata": {
        "id": "ZTivqTiG2m_t",
        "colab_type": "code",
        "outputId": "003636ad-4520-49a9-8006-445bb4397ca8",
        "colab": {
          "base_uri": "https://localhost:8080/",
          "height": 71
        }
      },
      "source": [
        "rfr1 = xgb.XGBRegressor(max_depth=55, n_estimators=320, tree_method='exact',reg_lambda=50.2999, learning_rate=0.308999, base_score=0.3999, grow_policy=\"lossguide\")\n",
        "#(max_depth=len(y), random_state=0, criterion='friedman_mse', oob_score=True)\n",
        "rfr1.fit(x1_norm, y1)\n",
        "rfr1.score(x1_norm, y1)"
      ],
      "execution_count": 0,
      "outputs": [
        {
          "output_type": "stream",
          "text": [
            "[01:29:03] WARNING: /workspace/src/objective/regression_obj.cu:152: reg:linear is now deprecated in favor of reg:squarederror.\n"
          ],
          "name": "stdout"
        },
        {
          "output_type": "execute_result",
          "data": {
            "text/plain": [
              "0.9999844038644705"
            ]
          },
          "metadata": {
            "tags": []
          },
          "execution_count": 321
        }
      ]
    },
    {
      "cell_type": "code",
      "metadata": {
        "id": "FOWAPE77S5JK",
        "colab_type": "code",
        "outputId": "659fb1a6-6a64-4d89-b9f8-bae59bc159bc",
        "colab": {
          "base_uri": "https://localhost:8080/",
          "height": 326
        }
      },
      "source": [
        "predict_on1 = df_test[['effectiveness_rating', 'number_of_times_prescribed']]\n",
        "pyear = df_test['drug_approved_by_UIC'].apply(lambda x: str(x)[-2:])\n",
        "predict_on1['year'] = pyear.astype(int)\n",
        "predict_on1.head()"
      ],
      "execution_count": 0,
      "outputs": [
        {
          "output_type": "stream",
          "text": [
            "/usr/local/lib/python3.6/dist-packages/ipykernel_launcher.py:3: SettingWithCopyWarning: \n",
            "A value is trying to be set on a copy of a slice from a DataFrame.\n",
            "Try using .loc[row_indexer,col_indexer] = value instead\n",
            "\n",
            "See the caveats in the documentation: https://pandas.pydata.org/pandas-docs/stable/user_guide/indexing.html#returning-a-view-versus-a-copy\n",
            "  This is separate from the ipykernel package so we can avoid doing imports until\n"
          ],
          "name": "stderr"
        },
        {
          "output_type": "execute_result",
          "data": {
            "text/html": [
              "<div>\n",
              "<style scoped>\n",
              "    .dataframe tbody tr th:only-of-type {\n",
              "        vertical-align: middle;\n",
              "    }\n",
              "\n",
              "    .dataframe tbody tr th {\n",
              "        vertical-align: top;\n",
              "    }\n",
              "\n",
              "    .dataframe thead th {\n",
              "        text-align: right;\n",
              "    }\n",
              "</style>\n",
              "<table border=\"1\" class=\"dataframe\">\n",
              "  <thead>\n",
              "    <tr style=\"text-align: right;\">\n",
              "      <th></th>\n",
              "      <th>effectiveness_rating</th>\n",
              "      <th>number_of_times_prescribed</th>\n",
              "      <th>year</th>\n",
              "    </tr>\n",
              "  </thead>\n",
              "  <tbody>\n",
              "    <tr>\n",
              "      <th>0</th>\n",
              "      <td>10</td>\n",
              "      <td>22</td>\n",
              "      <td>12</td>\n",
              "    </tr>\n",
              "    <tr>\n",
              "      <th>1</th>\n",
              "      <td>9</td>\n",
              "      <td>35</td>\n",
              "      <td>17</td>\n",
              "    </tr>\n",
              "    <tr>\n",
              "      <th>2</th>\n",
              "      <td>4</td>\n",
              "      <td>13</td>\n",
              "      <td>14</td>\n",
              "    </tr>\n",
              "    <tr>\n",
              "      <th>3</th>\n",
              "      <td>7</td>\n",
              "      <td>21</td>\n",
              "      <td>16</td>\n",
              "    </tr>\n",
              "    <tr>\n",
              "      <th>4</th>\n",
              "      <td>2</td>\n",
              "      <td>44</td>\n",
              "      <td>15</td>\n",
              "    </tr>\n",
              "  </tbody>\n",
              "</table>\n",
              "</div>"
            ],
            "text/plain": [
              "   effectiveness_rating  number_of_times_prescribed  year\n",
              "0                    10                          22    12\n",
              "1                     9                          35    17\n",
              "2                     4                          13    14\n",
              "3                     7                          21    16\n",
              "4                     2                          44    15"
            ]
          },
          "metadata": {
            "tags": []
          },
          "execution_count": 322
        }
      ]
    },
    {
      "cell_type": "code",
      "metadata": {
        "id": "W5BTpvUN2m8_",
        "colab_type": "code",
        "outputId": "521193d3-535a-49aa-c629-9c02fe752c6a",
        "colab": {
          "base_uri": "https://localhost:8080/",
          "height": 203
        }
      },
      "source": [
        "z1 = rfr1.predict(t1.transform(predict_on1))\n",
        "submit1 = pd.DataFrame(columns=['patient_id', 'base_score'])\n",
        "submit1['patient_id'] = df_test['patient_id']\n",
        "submit1['base_score'] = z\n",
        "submit1.head()"
      ],
      "execution_count": 0,
      "outputs": [
        {
          "output_type": "execute_result",
          "data": {
            "text/html": [
              "<div>\n",
              "<style scoped>\n",
              "    .dataframe tbody tr th:only-of-type {\n",
              "        vertical-align: middle;\n",
              "    }\n",
              "\n",
              "    .dataframe tbody tr th {\n",
              "        vertical-align: top;\n",
              "    }\n",
              "\n",
              "    .dataframe thead th {\n",
              "        text-align: right;\n",
              "    }\n",
              "</style>\n",
              "<table border=\"1\" class=\"dataframe\">\n",
              "  <thead>\n",
              "    <tr style=\"text-align: right;\">\n",
              "      <th></th>\n",
              "      <th>patient_id</th>\n",
              "      <th>base_score</th>\n",
              "    </tr>\n",
              "  </thead>\n",
              "  <tbody>\n",
              "    <tr>\n",
              "      <th>0</th>\n",
              "      <td>163740</td>\n",
              "      <td>8.75723648</td>\n",
              "    </tr>\n",
              "    <tr>\n",
              "      <th>1</th>\n",
              "      <td>39293</td>\n",
              "      <td>8.74540901</td>\n",
              "    </tr>\n",
              "    <tr>\n",
              "      <th>2</th>\n",
              "      <td>208087</td>\n",
              "      <td>5.95182228</td>\n",
              "    </tr>\n",
              "    <tr>\n",
              "      <th>3</th>\n",
              "      <td>23295</td>\n",
              "      <td>5.99488306</td>\n",
              "    </tr>\n",
              "    <tr>\n",
              "      <th>4</th>\n",
              "      <td>97013</td>\n",
              "      <td>5.35705662</td>\n",
              "    </tr>\n",
              "  </tbody>\n",
              "</table>\n",
              "</div>"
            ],
            "text/plain": [
              "   patient_id  base_score\n",
              "0      163740  8.75723648\n",
              "1       39293  8.74540901\n",
              "2      208087  5.95182228\n",
              "3       23295  5.99488306\n",
              "4       97013  5.35705662"
            ]
          },
          "metadata": {
            "tags": []
          },
          "execution_count": 323
        }
      ]
    },
    {
      "cell_type": "code",
      "metadata": {
        "id": "6klK3gLR2m59",
        "colab_type": "code",
        "colab": {}
      },
      "source": [
        "submit1.to_csv('00d-best.csv', index=False)"
      ],
      "execution_count": 0,
      "outputs": []
    },
    {
      "cell_type": "code",
      "metadata": {
        "id": "gsdOwawD2m1G",
        "colab_type": "code",
        "colab": {}
      },
      "source": [
        ""
      ],
      "execution_count": 0,
      "outputs": []
    },
    {
      "cell_type": "code",
      "metadata": {
        "id": "zQ17-LgR2mwW",
        "colab_type": "code",
        "colab": {}
      },
      "source": [
        ""
      ],
      "execution_count": 0,
      "outputs": []
    },
    {
      "cell_type": "markdown",
      "metadata": {
        "id": "i9J0CNT12or2",
        "colab_type": "text"
      },
      "source": [
        "---"
      ]
    },
    {
      "cell_type": "code",
      "metadata": {
        "id": "nPNsJIjWfp4g",
        "colab_type": "code",
        "colab": {}
      },
      "source": [
        "#############################################################################"
      ],
      "execution_count": 0,
      "outputs": []
    },
    {
      "cell_type": "code",
      "metadata": {
        "id": "OhMJSEzELD9i",
        "colab_type": "code",
        "outputId": "20f33504-315a-4fd1-f785-bf6a2701ac9c",
        "colab": {
          "base_uri": "https://localhost:8080/",
          "height": 385
        }
      },
      "source": [
        "df.head()"
      ],
      "execution_count": 0,
      "outputs": [
        {
          "output_type": "execute_result",
          "data": {
            "text/html": [
              "<div>\n",
              "<style scoped>\n",
              "    .dataframe tbody tr th:only-of-type {\n",
              "        vertical-align: middle;\n",
              "    }\n",
              "\n",
              "    .dataframe tbody tr th {\n",
              "        vertical-align: top;\n",
              "    }\n",
              "\n",
              "    .dataframe thead th {\n",
              "        text-align: right;\n",
              "    }\n",
              "</style>\n",
              "<table border=\"1\" class=\"dataframe\">\n",
              "  <thead>\n",
              "    <tr style=\"text-align: right;\">\n",
              "      <th></th>\n",
              "      <th>patient_id</th>\n",
              "      <th>name_of_drug</th>\n",
              "      <th>use_case_for_drug</th>\n",
              "      <th>review_by_patient</th>\n",
              "      <th>effectiveness_rating</th>\n",
              "      <th>drug_approved_by_UIC</th>\n",
              "      <th>number_of_times_prescribed</th>\n",
              "      <th>base_score</th>\n",
              "    </tr>\n",
              "  </thead>\n",
              "  <tbody>\n",
              "    <tr>\n",
              "      <th>0</th>\n",
              "      <td>206461</td>\n",
              "      <td>Valsartan</td>\n",
              "      <td>Left Ventricular Dysfunction</td>\n",
              "      <td>\"It has no side effect, I take it in combinati...</td>\n",
              "      <td>9</td>\n",
              "      <td>20-May-12</td>\n",
              "      <td>27</td>\n",
              "      <td>8.022969</td>\n",
              "    </tr>\n",
              "    <tr>\n",
              "      <th>1</th>\n",
              "      <td>95260</td>\n",
              "      <td>Guanfacine</td>\n",
              "      <td>ADHD</td>\n",
              "      <td>\"My son is halfway through his fourth week of ...</td>\n",
              "      <td>8</td>\n",
              "      <td>27-Apr-10</td>\n",
              "      <td>192</td>\n",
              "      <td>7.858458</td>\n",
              "    </tr>\n",
              "    <tr>\n",
              "      <th>2</th>\n",
              "      <td>92703</td>\n",
              "      <td>Lybrel</td>\n",
              "      <td>Birth Control</td>\n",
              "      <td>\"I used to take another oral contraceptive, wh...</td>\n",
              "      <td>5</td>\n",
              "      <td>14-Dec-09</td>\n",
              "      <td>17</td>\n",
              "      <td>6.341969</td>\n",
              "    </tr>\n",
              "    <tr>\n",
              "      <th>3</th>\n",
              "      <td>35696</td>\n",
              "      <td>Buprenorphine / naloxone</td>\n",
              "      <td>Opiate Dependence</td>\n",
              "      <td>\"Suboxone has completely turned my life around...</td>\n",
              "      <td>9</td>\n",
              "      <td>27-Nov-16</td>\n",
              "      <td>37</td>\n",
              "      <td>6.590176</td>\n",
              "    </tr>\n",
              "    <tr>\n",
              "      <th>4</th>\n",
              "      <td>155963</td>\n",
              "      <td>Cialis</td>\n",
              "      <td>Benign Prostatic Hyperplasia</td>\n",
              "      <td>\"2nd day on 5mg started to work with rock hard...</td>\n",
              "      <td>2</td>\n",
              "      <td>28-Nov-15</td>\n",
              "      <td>43</td>\n",
              "      <td>6.144782</td>\n",
              "    </tr>\n",
              "  </tbody>\n",
              "</table>\n",
              "</div>"
            ],
            "text/plain": [
              "   patient_id              name_of_drug  ... number_of_times_prescribed base_score\n",
              "0      206461                 Valsartan  ...                         27   8.022969\n",
              "1       95260                Guanfacine  ...                        192   7.858458\n",
              "2       92703                    Lybrel  ...                         17   6.341969\n",
              "3       35696  Buprenorphine / naloxone  ...                         37   6.590176\n",
              "4      155963                    Cialis  ...                         43   6.144782\n",
              "\n",
              "[5 rows x 8 columns]"
            ]
          },
          "metadata": {
            "tags": []
          },
          "execution_count": 87
        }
      ]
    },
    {
      "cell_type": "code",
      "metadata": {
        "id": "wAPGd0yCMYPj",
        "colab_type": "code",
        "outputId": "b1811f52-73ad-4925-9b5b-7dcb56572333",
        "colab": {
          "base_uri": "https://localhost:8080/",
          "height": 34
        }
      },
      "source": [
        "x_new = pd.concat([x, predict_on])\n",
        "x_new.shape"
      ],
      "execution_count": 0,
      "outputs": [
        {
          "output_type": "execute_result",
          "data": {
            "text/plain": [
              "(42925, 2)"
            ]
          },
          "metadata": {
            "tags": []
          },
          "execution_count": 348
        }
      ]
    },
    {
      "cell_type": "code",
      "metadata": {
        "id": "Y0hxDWk3TEks",
        "colab_type": "code",
        "outputId": "a2c530f2-0362-489d-c98a-718dfad93538",
        "colab": {
          "base_uri": "https://localhost:8080/",
          "height": 34
        }
      },
      "source": [
        "y_new = y.to_numpy()\n",
        "y_new = np.append(y_new, submit.base_score.to_numpy())\n",
        "y_new.shape"
      ],
      "execution_count": 0,
      "outputs": [
        {
          "output_type": "execute_result",
          "data": {
            "text/plain": [
              "(42925,)"
            ]
          },
          "metadata": {
            "tags": []
          },
          "execution_count": 349
        }
      ]
    },
    {
      "cell_type": "code",
      "metadata": {
        "id": "raNIkHY3VAdb",
        "colab_type": "code",
        "outputId": "23c7c0ad-020f-4110-d558-1bda26273900",
        "colab": {
          "base_uri": "https://localhost:8080/",
          "height": 203
        }
      },
      "source": [
        "new_df = x_new\n",
        "new_df['base_score'] = y_new\n",
        "new_df.head()"
      ],
      "execution_count": 0,
      "outputs": [
        {
          "output_type": "execute_result",
          "data": {
            "text/html": [
              "<div>\n",
              "<style scoped>\n",
              "    .dataframe tbody tr th:only-of-type {\n",
              "        vertical-align: middle;\n",
              "    }\n",
              "\n",
              "    .dataframe tbody tr th {\n",
              "        vertical-align: top;\n",
              "    }\n",
              "\n",
              "    .dataframe thead th {\n",
              "        text-align: right;\n",
              "    }\n",
              "</style>\n",
              "<table border=\"1\" class=\"dataframe\">\n",
              "  <thead>\n",
              "    <tr style=\"text-align: right;\">\n",
              "      <th></th>\n",
              "      <th>effectiveness_rating</th>\n",
              "      <th>number_of_times_prescribed</th>\n",
              "      <th>base_score</th>\n",
              "    </tr>\n",
              "  </thead>\n",
              "  <tbody>\n",
              "    <tr>\n",
              "      <th>0</th>\n",
              "      <td>10</td>\n",
              "      <td>65</td>\n",
              "      <td>8.25088977</td>\n",
              "    </tr>\n",
              "    <tr>\n",
              "      <th>1</th>\n",
              "      <td>1</td>\n",
              "      <td>18</td>\n",
              "      <td>4.02755433</td>\n",
              "    </tr>\n",
              "    <tr>\n",
              "      <th>2</th>\n",
              "      <td>6</td>\n",
              "      <td>7</td>\n",
              "      <td>2.39755614</td>\n",
              "    </tr>\n",
              "    <tr>\n",
              "      <th>3</th>\n",
              "      <td>3</td>\n",
              "      <td>5</td>\n",
              "      <td>7.40841870</td>\n",
              "    </tr>\n",
              "    <tr>\n",
              "      <th>4</th>\n",
              "      <td>2</td>\n",
              "      <td>5</td>\n",
              "      <td>6.57728564</td>\n",
              "    </tr>\n",
              "  </tbody>\n",
              "</table>\n",
              "</div>"
            ],
            "text/plain": [
              "   effectiveness_rating  number_of_times_prescribed  base_score\n",
              "0                    10                          65  8.25088977\n",
              "1                     1                          18  4.02755433\n",
              "2                     6                           7  2.39755614\n",
              "3                     3                           5  7.40841870\n",
              "4                     2                           5  6.57728564"
            ]
          },
          "metadata": {
            "tags": []
          },
          "execution_count": 350
        }
      ]
    },
    {
      "cell_type": "code",
      "metadata": {
        "id": "yJhidXWBVK-7",
        "colab_type": "code",
        "outputId": "08fc6793-a02a-4cda-8efe-0af948f17812",
        "colab": {
          "base_uri": "https://localhost:8080/",
          "height": 203
        }
      },
      "source": [
        "from sklearn.utils import shuffle\n",
        "seed = 99\n",
        "snew_df = new_df.sample(frac=1).reset_index(drop=True)\n",
        "snew_df.head()"
      ],
      "execution_count": 0,
      "outputs": [
        {
          "output_type": "execute_result",
          "data": {
            "text/html": [
              "<div>\n",
              "<style scoped>\n",
              "    .dataframe tbody tr th:only-of-type {\n",
              "        vertical-align: middle;\n",
              "    }\n",
              "\n",
              "    .dataframe tbody tr th {\n",
              "        vertical-align: top;\n",
              "    }\n",
              "\n",
              "    .dataframe thead th {\n",
              "        text-align: right;\n",
              "    }\n",
              "</style>\n",
              "<table border=\"1\" class=\"dataframe\">\n",
              "  <thead>\n",
              "    <tr style=\"text-align: right;\">\n",
              "      <th></th>\n",
              "      <th>effectiveness_rating</th>\n",
              "      <th>number_of_times_prescribed</th>\n",
              "      <th>base_score</th>\n",
              "    </tr>\n",
              "  </thead>\n",
              "  <tbody>\n",
              "    <tr>\n",
              "      <th>0</th>\n",
              "      <td>10</td>\n",
              "      <td>12</td>\n",
              "      <td>6.35586554</td>\n",
              "    </tr>\n",
              "    <tr>\n",
              "      <th>1</th>\n",
              "      <td>7</td>\n",
              "      <td>17</td>\n",
              "      <td>5.52171704</td>\n",
              "    </tr>\n",
              "    <tr>\n",
              "      <th>2</th>\n",
              "      <td>9</td>\n",
              "      <td>28</td>\n",
              "      <td>8.81147275</td>\n",
              "    </tr>\n",
              "    <tr>\n",
              "      <th>3</th>\n",
              "      <td>10</td>\n",
              "      <td>12</td>\n",
              "      <td>6.35586554</td>\n",
              "    </tr>\n",
              "    <tr>\n",
              "      <th>4</th>\n",
              "      <td>10</td>\n",
              "      <td>27</td>\n",
              "      <td>7.92190695</td>\n",
              "    </tr>\n",
              "  </tbody>\n",
              "</table>\n",
              "</div>"
            ],
            "text/plain": [
              "   effectiveness_rating  number_of_times_prescribed  base_score\n",
              "0                    10                          12  6.35586554\n",
              "1                     7                          17  5.52171704\n",
              "2                     9                          28  8.81147275\n",
              "3                    10                          12  6.35586554\n",
              "4                    10                          27  7.92190695"
            ]
          },
          "metadata": {
            "tags": []
          },
          "execution_count": 351
        }
      ]
    },
    {
      "cell_type": "code",
      "metadata": {
        "id": "lbNx1K7iW8b4",
        "colab_type": "code",
        "outputId": "7ed082e5-20b5-4f35-9ff7-f08863790995",
        "colab": {
          "base_uri": "https://localhost:8080/",
          "height": 71
        }
      },
      "source": [
        "rftar = xgb.XGBRegressor(max_depth=55, n_estimators=1500, tree_method='exact',reg_lambda=50.2999, learning_rate=0.308999, base_score=0.3999, ) \n",
        "xx = snew_df[['effectiveness_rating', 'number_of_times_prescribed']]\n",
        "yy = snew_df[['base_score']]\n",
        "t1 = StandardScaler().fit(xx)\n",
        "nx_new = t1.transform(sx_new)\n",
        "\n",
        "\n",
        "rftar.fit(nx_new, yy)\n",
        "rftar.score(nx_new, yy)"
      ],
      "execution_count": 0,
      "outputs": [
        {
          "output_type": "stream",
          "text": [
            "[01:47:24] WARNING: /workspace/src/objective/regression_obj.cu:152: reg:linear is now deprecated in favor of reg:squarederror.\n"
          ],
          "name": "stdout"
        },
        {
          "output_type": "execute_result",
          "data": {
            "text/plain": [
              "0.035694852357916584"
            ]
          },
          "metadata": {
            "tags": []
          },
          "execution_count": 357
        }
      ]
    },
    {
      "cell_type": "code",
      "metadata": {
        "id": "bDIlEKfHXvsK",
        "colab_type": "code",
        "outputId": "df0d7fcf-8082-49e0-c1c6-f7aeb8c5e297",
        "colab": {
          "base_uri": "https://localhost:8080/",
          "height": 137
        }
      },
      "source": [
        "nx_new"
      ],
      "execution_count": 0,
      "outputs": [
        {
          "output_type": "execute_result",
          "data": {
            "text/plain": [
              "array([[-0.30232447, -0.78620912],\n",
              "       [-1.82906302, -0.72968535],\n",
              "       [-0.30232447, -0.61663781],\n",
              "       ...,\n",
              "       [ 0.00302324,  0.51383762],\n",
              "       [ 0.00302324,  0.79645648],\n",
              "       [ 0.61371866,  0.88124214]])"
            ]
          },
          "metadata": {
            "tags": []
          },
          "execution_count": 64
        }
      ]
    },
    {
      "cell_type": "code",
      "metadata": {
        "id": "Lt6qXg_-YD_I",
        "colab_type": "code",
        "outputId": "b58d87ad-8318-4865-d590-df2c157a080f",
        "colab": {
          "base_uri": "https://localhost:8080/",
          "height": 203
        }
      },
      "source": [
        "y_new.head()"
      ],
      "execution_count": 0,
      "outputs": [
        {
          "output_type": "execute_result",
          "data": {
            "text/html": [
              "<div>\n",
              "<style scoped>\n",
              "    .dataframe tbody tr th:only-of-type {\n",
              "        vertical-align: middle;\n",
              "    }\n",
              "\n",
              "    .dataframe tbody tr th {\n",
              "        vertical-align: top;\n",
              "    }\n",
              "\n",
              "    .dataframe thead th {\n",
              "        text-align: right;\n",
              "    }\n",
              "</style>\n",
              "<table border=\"1\" class=\"dataframe\">\n",
              "  <thead>\n",
              "    <tr style=\"text-align: right;\">\n",
              "      <th></th>\n",
              "      <th>base_score</th>\n",
              "    </tr>\n",
              "  </thead>\n",
              "  <tbody>\n",
              "    <tr>\n",
              "      <th>6466</th>\n",
              "      <td>0.899076</td>\n",
              "    </tr>\n",
              "    <tr>\n",
              "      <th>62</th>\n",
              "      <td>6.169374</td>\n",
              "    </tr>\n",
              "    <tr>\n",
              "      <th>18449</th>\n",
              "      <td>1.268007</td>\n",
              "    </tr>\n",
              "    <tr>\n",
              "      <th>7029</th>\n",
              "      <td>NaN</td>\n",
              "    </tr>\n",
              "    <tr>\n",
              "      <th>2563</th>\n",
              "      <td>7.351884</td>\n",
              "    </tr>\n",
              "  </tbody>\n",
              "</table>\n",
              "</div>"
            ],
            "text/plain": [
              "       base_score\n",
              "6466     0.899076\n",
              "62       6.169374\n",
              "18449    1.268007\n",
              "7029          NaN\n",
              "2563     7.351884"
            ]
          },
          "metadata": {
            "tags": []
          },
          "execution_count": 66
        }
      ]
    },
    {
      "cell_type": "code",
      "metadata": {
        "id": "ZHaBO4fRYIQS",
        "colab_type": "code",
        "colab": {}
      },
      "source": [
        "z_new = rftar.predict(t1.transform(predict_on))"
      ],
      "execution_count": 0,
      "outputs": []
    },
    {
      "cell_type": "code",
      "metadata": {
        "id": "JqHg9Iq8ZJIu",
        "colab_type": "code",
        "outputId": "78b0930e-4d64-4faf-acee-710fefd7c096",
        "colab": {
          "base_uri": "https://localhost:8080/",
          "height": 51
        }
      },
      "source": [
        "z_new"
      ],
      "execution_count": 0,
      "outputs": [
        {
          "output_type": "execute_result",
          "data": {
            "text/plain": [
              "array([6.5051913, 6.8430877, 6.6427903, ..., 6.793213 , 6.9593496,\n",
              "       6.778131 ], dtype=float32)"
            ]
          },
          "metadata": {
            "tags": []
          },
          "execution_count": 362
        }
      ]
    },
    {
      "cell_type": "code",
      "metadata": {
        "id": "eoSt-2LgbeIF",
        "colab_type": "code",
        "colab": {}
      },
      "source": [
        "submit_ch = pd.DataFrame(columns=['patient_id', 'base_score'])\n",
        "submit_ch['patient_id'] = submit['patient_id']\n",
        "submit_ch['base_score'] = z_new\n",
        "submit_ch.to_csv('patanahi.csv', index=False)"
      ],
      "execution_count": 0,
      "outputs": []
    },
    {
      "cell_type": "code",
      "metadata": {
        "id": "H0WN1oG6C5km",
        "colab_type": "code",
        "colab": {}
      },
      "source": [
        ""
      ],
      "execution_count": 0,
      "outputs": []
    },
    {
      "cell_type": "markdown",
      "metadata": {
        "id": "Uydl9MjbDYWV",
        "colab_type": "text"
      },
      "source": [
        "Ek Alag hi concept pata nhi kaam karega ya nhi\n",
        "--\n",
        "par dekhte hain"
      ]
    },
    {
      "cell_type": "code",
      "metadata": {
        "id": "uCnG9XrtDkj-",
        "colab_type": "code",
        "colab": {}
      },
      "source": [
        "ex = "
      ],
      "execution_count": 0,
      "outputs": []
    }
  ]
}