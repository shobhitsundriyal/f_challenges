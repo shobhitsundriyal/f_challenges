{
  "nbformat": 4,
  "nbformat_minor": 0,
  "metadata": {
    "colab": {
      "name": "ALbert STD Drug comp.ipynb",
      "provenance": [],
      "collapsed_sections": [],
      "authorship_tag": "ABX9TyPA02kynP4GLXM3On4PH64P"
    },
    "kernelspec": {
      "name": "python3",
      "display_name": "Python 3"
    },
    "accelerator": "GPU",
    "widgets": {
      "application/vnd.jupyter.widget-state+json": {
        "833e80d242894a5b82cd0efd8043d4c5": {
          "model_module": "@jupyter-widgets/controls",
          "model_name": "HBoxModel",
          "state": {
            "_view_name": "HBoxView",
            "_dom_classes": [],
            "_model_name": "HBoxModel",
            "_view_module": "@jupyter-widgets/controls",
            "_model_module_version": "1.5.0",
            "_view_count": null,
            "_view_module_version": "1.5.0",
            "box_style": "",
            "layout": "IPY_MODEL_9ff6a4f5bd7b40c08037a19481ea9399",
            "_model_module": "@jupyter-widgets/controls",
            "children": [
              "IPY_MODEL_7966cf024ba64f24b13b22a715067edb",
              "IPY_MODEL_2ec4b8f67c83418c94d5af24bc6fa975"
            ]
          }
        },
        "9ff6a4f5bd7b40c08037a19481ea9399": {
          "model_module": "@jupyter-widgets/base",
          "model_name": "LayoutModel",
          "state": {
            "_view_name": "LayoutView",
            "grid_template_rows": null,
            "right": null,
            "justify_content": null,
            "_view_module": "@jupyter-widgets/base",
            "overflow": null,
            "_model_module_version": "1.2.0",
            "_view_count": null,
            "flex_flow": null,
            "width": null,
            "min_width": null,
            "border": null,
            "align_items": null,
            "bottom": null,
            "_model_module": "@jupyter-widgets/base",
            "top": null,
            "grid_column": null,
            "overflow_y": null,
            "overflow_x": null,
            "grid_auto_flow": null,
            "grid_area": null,
            "grid_template_columns": null,
            "flex": null,
            "_model_name": "LayoutModel",
            "justify_items": null,
            "grid_row": null,
            "max_height": null,
            "align_content": null,
            "visibility": null,
            "align_self": null,
            "height": null,
            "min_height": null,
            "padding": null,
            "grid_auto_rows": null,
            "grid_gap": null,
            "max_width": null,
            "order": null,
            "_view_module_version": "1.2.0",
            "grid_template_areas": null,
            "object_position": null,
            "object_fit": null,
            "grid_auto_columns": null,
            "margin": null,
            "display": null,
            "left": null
          }
        },
        "7966cf024ba64f24b13b22a715067edb": {
          "model_module": "@jupyter-widgets/controls",
          "model_name": "IntProgressModel",
          "state": {
            "_view_name": "ProgressView",
            "style": "IPY_MODEL_2a6cfcf1877f4592844ed1c6241c5208",
            "_dom_classes": [],
            "description": "Downloading: 100%",
            "_model_name": "IntProgressModel",
            "bar_style": "success",
            "max": 760289,
            "_view_module": "@jupyter-widgets/controls",
            "_model_module_version": "1.5.0",
            "value": 760289,
            "_view_count": null,
            "_view_module_version": "1.5.0",
            "orientation": "horizontal",
            "min": 0,
            "description_tooltip": null,
            "_model_module": "@jupyter-widgets/controls",
            "layout": "IPY_MODEL_8cf8c622522049c98426c61fb861728d"
          }
        },
        "2ec4b8f67c83418c94d5af24bc6fa975": {
          "model_module": "@jupyter-widgets/controls",
          "model_name": "HTMLModel",
          "state": {
            "_view_name": "HTMLView",
            "style": "IPY_MODEL_f32cf679f2e64063bc3e6741d69648e7",
            "_dom_classes": [],
            "description": "",
            "_model_name": "HTMLModel",
            "placeholder": "​",
            "_view_module": "@jupyter-widgets/controls",
            "_model_module_version": "1.5.0",
            "value": " 760k/760k [01:43&lt;00:00, 7.33kB/s]",
            "_view_count": null,
            "_view_module_version": "1.5.0",
            "description_tooltip": null,
            "_model_module": "@jupyter-widgets/controls",
            "layout": "IPY_MODEL_ac23dddff4944ca0a99a96b49484655f"
          }
        },
        "2a6cfcf1877f4592844ed1c6241c5208": {
          "model_module": "@jupyter-widgets/controls",
          "model_name": "ProgressStyleModel",
          "state": {
            "_view_name": "StyleView",
            "_model_name": "ProgressStyleModel",
            "description_width": "initial",
            "_view_module": "@jupyter-widgets/base",
            "_model_module_version": "1.5.0",
            "_view_count": null,
            "_view_module_version": "1.2.0",
            "bar_color": null,
            "_model_module": "@jupyter-widgets/controls"
          }
        },
        "8cf8c622522049c98426c61fb861728d": {
          "model_module": "@jupyter-widgets/base",
          "model_name": "LayoutModel",
          "state": {
            "_view_name": "LayoutView",
            "grid_template_rows": null,
            "right": null,
            "justify_content": null,
            "_view_module": "@jupyter-widgets/base",
            "overflow": null,
            "_model_module_version": "1.2.0",
            "_view_count": null,
            "flex_flow": null,
            "width": null,
            "min_width": null,
            "border": null,
            "align_items": null,
            "bottom": null,
            "_model_module": "@jupyter-widgets/base",
            "top": null,
            "grid_column": null,
            "overflow_y": null,
            "overflow_x": null,
            "grid_auto_flow": null,
            "grid_area": null,
            "grid_template_columns": null,
            "flex": null,
            "_model_name": "LayoutModel",
            "justify_items": null,
            "grid_row": null,
            "max_height": null,
            "align_content": null,
            "visibility": null,
            "align_self": null,
            "height": null,
            "min_height": null,
            "padding": null,
            "grid_auto_rows": null,
            "grid_gap": null,
            "max_width": null,
            "order": null,
            "_view_module_version": "1.2.0",
            "grid_template_areas": null,
            "object_position": null,
            "object_fit": null,
            "grid_auto_columns": null,
            "margin": null,
            "display": null,
            "left": null
          }
        },
        "f32cf679f2e64063bc3e6741d69648e7": {
          "model_module": "@jupyter-widgets/controls",
          "model_name": "DescriptionStyleModel",
          "state": {
            "_view_name": "StyleView",
            "_model_name": "DescriptionStyleModel",
            "description_width": "",
            "_view_module": "@jupyter-widgets/base",
            "_model_module_version": "1.5.0",
            "_view_count": null,
            "_view_module_version": "1.2.0",
            "_model_module": "@jupyter-widgets/controls"
          }
        },
        "ac23dddff4944ca0a99a96b49484655f": {
          "model_module": "@jupyter-widgets/base",
          "model_name": "LayoutModel",
          "state": {
            "_view_name": "LayoutView",
            "grid_template_rows": null,
            "right": null,
            "justify_content": null,
            "_view_module": "@jupyter-widgets/base",
            "overflow": null,
            "_model_module_version": "1.2.0",
            "_view_count": null,
            "flex_flow": null,
            "width": null,
            "min_width": null,
            "border": null,
            "align_items": null,
            "bottom": null,
            "_model_module": "@jupyter-widgets/base",
            "top": null,
            "grid_column": null,
            "overflow_y": null,
            "overflow_x": null,
            "grid_auto_flow": null,
            "grid_area": null,
            "grid_template_columns": null,
            "flex": null,
            "_model_name": "LayoutModel",
            "justify_items": null,
            "grid_row": null,
            "max_height": null,
            "align_content": null,
            "visibility": null,
            "align_self": null,
            "height": null,
            "min_height": null,
            "padding": null,
            "grid_auto_rows": null,
            "grid_gap": null,
            "max_width": null,
            "order": null,
            "_view_module_version": "1.2.0",
            "grid_template_areas": null,
            "object_position": null,
            "object_fit": null,
            "grid_auto_columns": null,
            "margin": null,
            "display": null,
            "left": null
          }
        },
        "652261015ff84405aad977cf863fd280": {
          "model_module": "@jupyter-widgets/controls",
          "model_name": "HBoxModel",
          "state": {
            "_view_name": "HBoxView",
            "_dom_classes": [],
            "_model_name": "HBoxModel",
            "_view_module": "@jupyter-widgets/controls",
            "_model_module_version": "1.5.0",
            "_view_count": null,
            "_view_module_version": "1.5.0",
            "box_style": "",
            "layout": "IPY_MODEL_122ee8fae1414332972a328bd10b5ecb",
            "_model_module": "@jupyter-widgets/controls",
            "children": [
              "IPY_MODEL_b4b71b5b56a04ef6adf88652eb0f85d2",
              "IPY_MODEL_4461c35728f44ff0b8174c3338dec61e"
            ]
          }
        },
        "122ee8fae1414332972a328bd10b5ecb": {
          "model_module": "@jupyter-widgets/base",
          "model_name": "LayoutModel",
          "state": {
            "_view_name": "LayoutView",
            "grid_template_rows": null,
            "right": null,
            "justify_content": null,
            "_view_module": "@jupyter-widgets/base",
            "overflow": null,
            "_model_module_version": "1.2.0",
            "_view_count": null,
            "flex_flow": null,
            "width": null,
            "min_width": null,
            "border": null,
            "align_items": null,
            "bottom": null,
            "_model_module": "@jupyter-widgets/base",
            "top": null,
            "grid_column": null,
            "overflow_y": null,
            "overflow_x": null,
            "grid_auto_flow": null,
            "grid_area": null,
            "grid_template_columns": null,
            "flex": null,
            "_model_name": "LayoutModel",
            "justify_items": null,
            "grid_row": null,
            "max_height": null,
            "align_content": null,
            "visibility": null,
            "align_self": null,
            "height": null,
            "min_height": null,
            "padding": null,
            "grid_auto_rows": null,
            "grid_gap": null,
            "max_width": null,
            "order": null,
            "_view_module_version": "1.2.0",
            "grid_template_areas": null,
            "object_position": null,
            "object_fit": null,
            "grid_auto_columns": null,
            "margin": null,
            "display": null,
            "left": null
          }
        },
        "b4b71b5b56a04ef6adf88652eb0f85d2": {
          "model_module": "@jupyter-widgets/controls",
          "model_name": "IntProgressModel",
          "state": {
            "_view_name": "ProgressView",
            "style": "IPY_MODEL_e72c1388f69242be8cbb88c3a0d5d263",
            "_dom_classes": [],
            "description": "Downloading: 100%",
            "_model_name": "IntProgressModel",
            "bar_style": "success",
            "max": 534,
            "_view_module": "@jupyter-widgets/controls",
            "_model_module_version": "1.5.0",
            "value": 534,
            "_view_count": null,
            "_view_module_version": "1.5.0",
            "orientation": "horizontal",
            "min": 0,
            "description_tooltip": null,
            "_model_module": "@jupyter-widgets/controls",
            "layout": "IPY_MODEL_e166789303a64722ad737436681e841d"
          }
        },
        "4461c35728f44ff0b8174c3338dec61e": {
          "model_module": "@jupyter-widgets/controls",
          "model_name": "HTMLModel",
          "state": {
            "_view_name": "HTMLView",
            "style": "IPY_MODEL_bb4fdb7fe7534159b7679d251049243a",
            "_dom_classes": [],
            "description": "",
            "_model_name": "HTMLModel",
            "placeholder": "​",
            "_view_module": "@jupyter-widgets/controls",
            "_model_module_version": "1.5.0",
            "value": " 534/534 [01:21&lt;00:00, 6.58B/s]",
            "_view_count": null,
            "_view_module_version": "1.5.0",
            "description_tooltip": null,
            "_model_module": "@jupyter-widgets/controls",
            "layout": "IPY_MODEL_40aa8befa8a44e81b4d317a44bde83ab"
          }
        },
        "e72c1388f69242be8cbb88c3a0d5d263": {
          "model_module": "@jupyter-widgets/controls",
          "model_name": "ProgressStyleModel",
          "state": {
            "_view_name": "StyleView",
            "_model_name": "ProgressStyleModel",
            "description_width": "initial",
            "_view_module": "@jupyter-widgets/base",
            "_model_module_version": "1.5.0",
            "_view_count": null,
            "_view_module_version": "1.2.0",
            "bar_color": null,
            "_model_module": "@jupyter-widgets/controls"
          }
        },
        "e166789303a64722ad737436681e841d": {
          "model_module": "@jupyter-widgets/base",
          "model_name": "LayoutModel",
          "state": {
            "_view_name": "LayoutView",
            "grid_template_rows": null,
            "right": null,
            "justify_content": null,
            "_view_module": "@jupyter-widgets/base",
            "overflow": null,
            "_model_module_version": "1.2.0",
            "_view_count": null,
            "flex_flow": null,
            "width": null,
            "min_width": null,
            "border": null,
            "align_items": null,
            "bottom": null,
            "_model_module": "@jupyter-widgets/base",
            "top": null,
            "grid_column": null,
            "overflow_y": null,
            "overflow_x": null,
            "grid_auto_flow": null,
            "grid_area": null,
            "grid_template_columns": null,
            "flex": null,
            "_model_name": "LayoutModel",
            "justify_items": null,
            "grid_row": null,
            "max_height": null,
            "align_content": null,
            "visibility": null,
            "align_self": null,
            "height": null,
            "min_height": null,
            "padding": null,
            "grid_auto_rows": null,
            "grid_gap": null,
            "max_width": null,
            "order": null,
            "_view_module_version": "1.2.0",
            "grid_template_areas": null,
            "object_position": null,
            "object_fit": null,
            "grid_auto_columns": null,
            "margin": null,
            "display": null,
            "left": null
          }
        },
        "bb4fdb7fe7534159b7679d251049243a": {
          "model_module": "@jupyter-widgets/controls",
          "model_name": "DescriptionStyleModel",
          "state": {
            "_view_name": "StyleView",
            "_model_name": "DescriptionStyleModel",
            "description_width": "",
            "_view_module": "@jupyter-widgets/base",
            "_model_module_version": "1.5.0",
            "_view_count": null,
            "_view_module_version": "1.2.0",
            "_model_module": "@jupyter-widgets/controls"
          }
        },
        "40aa8befa8a44e81b4d317a44bde83ab": {
          "model_module": "@jupyter-widgets/base",
          "model_name": "LayoutModel",
          "state": {
            "_view_name": "LayoutView",
            "grid_template_rows": null,
            "right": null,
            "justify_content": null,
            "_view_module": "@jupyter-widgets/base",
            "overflow": null,
            "_model_module_version": "1.2.0",
            "_view_count": null,
            "flex_flow": null,
            "width": null,
            "min_width": null,
            "border": null,
            "align_items": null,
            "bottom": null,
            "_model_module": "@jupyter-widgets/base",
            "top": null,
            "grid_column": null,
            "overflow_y": null,
            "overflow_x": null,
            "grid_auto_flow": null,
            "grid_area": null,
            "grid_template_columns": null,
            "flex": null,
            "_model_name": "LayoutModel",
            "justify_items": null,
            "grid_row": null,
            "max_height": null,
            "align_content": null,
            "visibility": null,
            "align_self": null,
            "height": null,
            "min_height": null,
            "padding": null,
            "grid_auto_rows": null,
            "grid_gap": null,
            "max_width": null,
            "order": null,
            "_view_module_version": "1.2.0",
            "grid_template_areas": null,
            "object_position": null,
            "object_fit": null,
            "grid_auto_columns": null,
            "margin": null,
            "display": null,
            "left": null
          }
        },
        "be29c72375174a218083291470b6f2e9": {
          "model_module": "@jupyter-widgets/controls",
          "model_name": "HBoxModel",
          "state": {
            "_view_name": "HBoxView",
            "_dom_classes": [],
            "_model_name": "HBoxModel",
            "_view_module": "@jupyter-widgets/controls",
            "_model_module_version": "1.5.0",
            "_view_count": null,
            "_view_module_version": "1.5.0",
            "box_style": "",
            "layout": "IPY_MODEL_3cfc1e1995da40faa2f979aaf2978218",
            "_model_module": "@jupyter-widgets/controls",
            "children": [
              "IPY_MODEL_b1509baa61e84eaaa7b2832fddb34b24",
              "IPY_MODEL_95d7f93830744a6282c55a2feff38b23"
            ]
          }
        },
        "3cfc1e1995da40faa2f979aaf2978218": {
          "model_module": "@jupyter-widgets/base",
          "model_name": "LayoutModel",
          "state": {
            "_view_name": "LayoutView",
            "grid_template_rows": null,
            "right": null,
            "justify_content": null,
            "_view_module": "@jupyter-widgets/base",
            "overflow": null,
            "_model_module_version": "1.2.0",
            "_view_count": null,
            "flex_flow": null,
            "width": null,
            "min_width": null,
            "border": null,
            "align_items": null,
            "bottom": null,
            "_model_module": "@jupyter-widgets/base",
            "top": null,
            "grid_column": null,
            "overflow_y": null,
            "overflow_x": null,
            "grid_auto_flow": null,
            "grid_area": null,
            "grid_template_columns": null,
            "flex": null,
            "_model_name": "LayoutModel",
            "justify_items": null,
            "grid_row": null,
            "max_height": null,
            "align_content": null,
            "visibility": null,
            "align_self": null,
            "height": null,
            "min_height": null,
            "padding": null,
            "grid_auto_rows": null,
            "grid_gap": null,
            "max_width": null,
            "order": null,
            "_view_module_version": "1.2.0",
            "grid_template_areas": null,
            "object_position": null,
            "object_fit": null,
            "grid_auto_columns": null,
            "margin": null,
            "display": null,
            "left": null
          }
        },
        "b1509baa61e84eaaa7b2832fddb34b24": {
          "model_module": "@jupyter-widgets/controls",
          "model_name": "IntProgressModel",
          "state": {
            "_view_name": "ProgressView",
            "style": "IPY_MODEL_018f88da185f4b9996e1e1a16d9338cf",
            "_dom_classes": [],
            "description": "Downloading: 100%",
            "_model_name": "IntProgressModel",
            "bar_style": "success",
            "max": 47376696,
            "_view_module": "@jupyter-widgets/controls",
            "_model_module_version": "1.5.0",
            "value": 47376696,
            "_view_count": null,
            "_view_module_version": "1.5.0",
            "orientation": "horizontal",
            "min": 0,
            "description_tooltip": null,
            "_model_module": "@jupyter-widgets/controls",
            "layout": "IPY_MODEL_6ff9f4204ef44c038fb75a0df438b94f"
          }
        },
        "95d7f93830744a6282c55a2feff38b23": {
          "model_module": "@jupyter-widgets/controls",
          "model_name": "HTMLModel",
          "state": {
            "_view_name": "HTMLView",
            "style": "IPY_MODEL_c8503b9126444c51b27083db77a229a6",
            "_dom_classes": [],
            "description": "",
            "_model_name": "HTMLModel",
            "placeholder": "​",
            "_view_module": "@jupyter-widgets/controls",
            "_model_module_version": "1.5.0",
            "value": " 47.4M/47.4M [00:02&lt;00:00, 16.6MB/s]",
            "_view_count": null,
            "_view_module_version": "1.5.0",
            "description_tooltip": null,
            "_model_module": "@jupyter-widgets/controls",
            "layout": "IPY_MODEL_3167a81322d34e839683818d4e49718d"
          }
        },
        "018f88da185f4b9996e1e1a16d9338cf": {
          "model_module": "@jupyter-widgets/controls",
          "model_name": "ProgressStyleModel",
          "state": {
            "_view_name": "StyleView",
            "_model_name": "ProgressStyleModel",
            "description_width": "initial",
            "_view_module": "@jupyter-widgets/base",
            "_model_module_version": "1.5.0",
            "_view_count": null,
            "_view_module_version": "1.2.0",
            "bar_color": null,
            "_model_module": "@jupyter-widgets/controls"
          }
        },
        "6ff9f4204ef44c038fb75a0df438b94f": {
          "model_module": "@jupyter-widgets/base",
          "model_name": "LayoutModel",
          "state": {
            "_view_name": "LayoutView",
            "grid_template_rows": null,
            "right": null,
            "justify_content": null,
            "_view_module": "@jupyter-widgets/base",
            "overflow": null,
            "_model_module_version": "1.2.0",
            "_view_count": null,
            "flex_flow": null,
            "width": null,
            "min_width": null,
            "border": null,
            "align_items": null,
            "bottom": null,
            "_model_module": "@jupyter-widgets/base",
            "top": null,
            "grid_column": null,
            "overflow_y": null,
            "overflow_x": null,
            "grid_auto_flow": null,
            "grid_area": null,
            "grid_template_columns": null,
            "flex": null,
            "_model_name": "LayoutModel",
            "justify_items": null,
            "grid_row": null,
            "max_height": null,
            "align_content": null,
            "visibility": null,
            "align_self": null,
            "height": null,
            "min_height": null,
            "padding": null,
            "grid_auto_rows": null,
            "grid_gap": null,
            "max_width": null,
            "order": null,
            "_view_module_version": "1.2.0",
            "grid_template_areas": null,
            "object_position": null,
            "object_fit": null,
            "grid_auto_columns": null,
            "margin": null,
            "display": null,
            "left": null
          }
        },
        "c8503b9126444c51b27083db77a229a6": {
          "model_module": "@jupyter-widgets/controls",
          "model_name": "DescriptionStyleModel",
          "state": {
            "_view_name": "StyleView",
            "_model_name": "DescriptionStyleModel",
            "description_width": "",
            "_view_module": "@jupyter-widgets/base",
            "_model_module_version": "1.5.0",
            "_view_count": null,
            "_view_module_version": "1.2.0",
            "_model_module": "@jupyter-widgets/controls"
          }
        },
        "3167a81322d34e839683818d4e49718d": {
          "model_module": "@jupyter-widgets/base",
          "model_name": "LayoutModel",
          "state": {
            "_view_name": "LayoutView",
            "grid_template_rows": null,
            "right": null,
            "justify_content": null,
            "_view_module": "@jupyter-widgets/base",
            "overflow": null,
            "_model_module_version": "1.2.0",
            "_view_count": null,
            "flex_flow": null,
            "width": null,
            "min_width": null,
            "border": null,
            "align_items": null,
            "bottom": null,
            "_model_module": "@jupyter-widgets/base",
            "top": null,
            "grid_column": null,
            "overflow_y": null,
            "overflow_x": null,
            "grid_auto_flow": null,
            "grid_area": null,
            "grid_template_columns": null,
            "flex": null,
            "_model_name": "LayoutModel",
            "justify_items": null,
            "grid_row": null,
            "max_height": null,
            "align_content": null,
            "visibility": null,
            "align_self": null,
            "height": null,
            "min_height": null,
            "padding": null,
            "grid_auto_rows": null,
            "grid_gap": null,
            "max_width": null,
            "order": null,
            "_view_module_version": "1.2.0",
            "grid_template_areas": null,
            "object_position": null,
            "object_fit": null,
            "grid_auto_columns": null,
            "margin": null,
            "display": null,
            "left": null
          }
        }
      }
    }
  },
  "cells": [
    {
      "cell_type": "code",
      "metadata": {
        "id": "Cvl00Z7Xz4vh",
        "colab_type": "code",
        "colab": {}
      },
      "source": [
        "import numpy as np\n",
        "import pandas as pd\n",
        "import matplotlib.pyplot as plt"
      ],
      "execution_count": 0,
      "outputs": []
    },
    {
      "cell_type": "code",
      "metadata": {
        "id": "qderl4Hk0Wwf",
        "colab_type": "code",
        "outputId": "6163da2e-314e-4c06-e301-eff5b631fb2b",
        "colab": {
          "base_uri": "https://localhost:8080/",
          "height": 385
        }
      },
      "source": [
        "df_train = pd.read_csv('train.csv')\n",
        "df_test = pd.read_csv('test.csv')\n",
        "df_train.head()"
      ],
      "execution_count": 40,
      "outputs": [
        {
          "output_type": "execute_result",
          "data": {
            "text/html": [
              "<div>\n",
              "<style scoped>\n",
              "    .dataframe tbody tr th:only-of-type {\n",
              "        vertical-align: middle;\n",
              "    }\n",
              "\n",
              "    .dataframe tbody tr th {\n",
              "        vertical-align: top;\n",
              "    }\n",
              "\n",
              "    .dataframe thead th {\n",
              "        text-align: right;\n",
              "    }\n",
              "</style>\n",
              "<table border=\"1\" class=\"dataframe\">\n",
              "  <thead>\n",
              "    <tr style=\"text-align: right;\">\n",
              "      <th></th>\n",
              "      <th>patient_id</th>\n",
              "      <th>name_of_drug</th>\n",
              "      <th>use_case_for_drug</th>\n",
              "      <th>review_by_patient</th>\n",
              "      <th>effectiveness_rating</th>\n",
              "      <th>drug_approved_by_UIC</th>\n",
              "      <th>number_of_times_prescribed</th>\n",
              "    </tr>\n",
              "  </thead>\n",
              "  <tbody>\n",
              "    <tr>\n",
              "      <th>0</th>\n",
              "      <td>206461</td>\n",
              "      <td>Valsartan</td>\n",
              "      <td>Left Ventricular Dysfunction</td>\n",
              "      <td>\"It has no side effect, I take it in combinati...</td>\n",
              "      <td>9</td>\n",
              "      <td>20-May-12</td>\n",
              "      <td>27</td>\n",
              "    </tr>\n",
              "    <tr>\n",
              "      <th>1</th>\n",
              "      <td>95260</td>\n",
              "      <td>Guanfacine</td>\n",
              "      <td>ADHD</td>\n",
              "      <td>\"My son is halfway through his fourth week of ...</td>\n",
              "      <td>8</td>\n",
              "      <td>27-Apr-10</td>\n",
              "      <td>192</td>\n",
              "    </tr>\n",
              "    <tr>\n",
              "      <th>2</th>\n",
              "      <td>92703</td>\n",
              "      <td>Lybrel</td>\n",
              "      <td>Birth Control</td>\n",
              "      <td>\"I used to take another oral contraceptive, wh...</td>\n",
              "      <td>5</td>\n",
              "      <td>14-Dec-09</td>\n",
              "      <td>17</td>\n",
              "    </tr>\n",
              "    <tr>\n",
              "      <th>3</th>\n",
              "      <td>35696</td>\n",
              "      <td>Buprenorphine / naloxone</td>\n",
              "      <td>Opiate Dependence</td>\n",
              "      <td>\"Suboxone has completely turned my life around...</td>\n",
              "      <td>9</td>\n",
              "      <td>27-Nov-16</td>\n",
              "      <td>37</td>\n",
              "    </tr>\n",
              "    <tr>\n",
              "      <th>4</th>\n",
              "      <td>155963</td>\n",
              "      <td>Cialis</td>\n",
              "      <td>Benign Prostatic Hyperplasia</td>\n",
              "      <td>\"2nd day on 5mg started to work with rock hard...</td>\n",
              "      <td>2</td>\n",
              "      <td>28-Nov-15</td>\n",
              "      <td>43</td>\n",
              "    </tr>\n",
              "  </tbody>\n",
              "</table>\n",
              "</div>"
            ],
            "text/plain": [
              "   patient_id  ... number_of_times_prescribed\n",
              "0      206461  ...                         27\n",
              "1       95260  ...                        192\n",
              "2       92703  ...                         17\n",
              "3       35696  ...                         37\n",
              "4      155963  ...                         43\n",
              "\n",
              "[5 rows x 7 columns]"
            ]
          },
          "metadata": {
            "tags": []
          },
          "execution_count": 40
        }
      ]
    },
    {
      "cell_type": "code",
      "metadata": {
        "id": "hbriRlXs1Xoz",
        "colab_type": "code",
        "outputId": "796f55a9-7861-4ee4-cfe9-bf396d0a2d9e",
        "colab": {
          "base_uri": "https://localhost:8080/",
          "height": 197
        }
      },
      "source": [
        "drop_cols = ['name_of_drug', 'use_case_for_drug', 'drug_approved_by_UIC', 'number_of_times_prescribed']\n",
        "train = df_train.drop(drop_cols, axis=1)\n",
        "train.head()"
      ],
      "execution_count": 41,
      "outputs": [
        {
          "output_type": "execute_result",
          "data": {
            "text/html": [
              "<div>\n",
              "<style scoped>\n",
              "    .dataframe tbody tr th:only-of-type {\n",
              "        vertical-align: middle;\n",
              "    }\n",
              "\n",
              "    .dataframe tbody tr th {\n",
              "        vertical-align: top;\n",
              "    }\n",
              "\n",
              "    .dataframe thead th {\n",
              "        text-align: right;\n",
              "    }\n",
              "</style>\n",
              "<table border=\"1\" class=\"dataframe\">\n",
              "  <thead>\n",
              "    <tr style=\"text-align: right;\">\n",
              "      <th></th>\n",
              "      <th>patient_id</th>\n",
              "      <th>review_by_patient</th>\n",
              "      <th>effectiveness_rating</th>\n",
              "    </tr>\n",
              "  </thead>\n",
              "  <tbody>\n",
              "    <tr>\n",
              "      <th>0</th>\n",
              "      <td>206461</td>\n",
              "      <td>\"It has no side effect, I take it in combinati...</td>\n",
              "      <td>9</td>\n",
              "    </tr>\n",
              "    <tr>\n",
              "      <th>1</th>\n",
              "      <td>95260</td>\n",
              "      <td>\"My son is halfway through his fourth week of ...</td>\n",
              "      <td>8</td>\n",
              "    </tr>\n",
              "    <tr>\n",
              "      <th>2</th>\n",
              "      <td>92703</td>\n",
              "      <td>\"I used to take another oral contraceptive, wh...</td>\n",
              "      <td>5</td>\n",
              "    </tr>\n",
              "    <tr>\n",
              "      <th>3</th>\n",
              "      <td>35696</td>\n",
              "      <td>\"Suboxone has completely turned my life around...</td>\n",
              "      <td>9</td>\n",
              "    </tr>\n",
              "    <tr>\n",
              "      <th>4</th>\n",
              "      <td>155963</td>\n",
              "      <td>\"2nd day on 5mg started to work with rock hard...</td>\n",
              "      <td>2</td>\n",
              "    </tr>\n",
              "  </tbody>\n",
              "</table>\n",
              "</div>"
            ],
            "text/plain": [
              "   patient_id  ... effectiveness_rating\n",
              "0      206461  ...                    9\n",
              "1       95260  ...                    8\n",
              "2       92703  ...                    5\n",
              "3       35696  ...                    9\n",
              "4      155963  ...                    2\n",
              "\n",
              "[5 rows x 3 columns]"
            ]
          },
          "metadata": {
            "tags": []
          },
          "execution_count": 41
        }
      ]
    },
    {
      "cell_type": "code",
      "metadata": {
        "id": "jYX8fZVD15pm",
        "colab_type": "code",
        "outputId": "445a68f7-4806-450a-bce3-8c988113c875",
        "colab": {
          "base_uri": "https://localhost:8080/",
          "height": 197
        }
      },
      "source": [
        "train.drop('patient_id', axis=1, inplace=True)\n",
        "train.head()"
      ],
      "execution_count": 42,
      "outputs": [
        {
          "output_type": "execute_result",
          "data": {
            "text/html": [
              "<div>\n",
              "<style scoped>\n",
              "    .dataframe tbody tr th:only-of-type {\n",
              "        vertical-align: middle;\n",
              "    }\n",
              "\n",
              "    .dataframe tbody tr th {\n",
              "        vertical-align: top;\n",
              "    }\n",
              "\n",
              "    .dataframe thead th {\n",
              "        text-align: right;\n",
              "    }\n",
              "</style>\n",
              "<table border=\"1\" class=\"dataframe\">\n",
              "  <thead>\n",
              "    <tr style=\"text-align: right;\">\n",
              "      <th></th>\n",
              "      <th>review_by_patient</th>\n",
              "      <th>effectiveness_rating</th>\n",
              "    </tr>\n",
              "  </thead>\n",
              "  <tbody>\n",
              "    <tr>\n",
              "      <th>0</th>\n",
              "      <td>\"It has no side effect, I take it in combinati...</td>\n",
              "      <td>9</td>\n",
              "    </tr>\n",
              "    <tr>\n",
              "      <th>1</th>\n",
              "      <td>\"My son is halfway through his fourth week of ...</td>\n",
              "      <td>8</td>\n",
              "    </tr>\n",
              "    <tr>\n",
              "      <th>2</th>\n",
              "      <td>\"I used to take another oral contraceptive, wh...</td>\n",
              "      <td>5</td>\n",
              "    </tr>\n",
              "    <tr>\n",
              "      <th>3</th>\n",
              "      <td>\"Suboxone has completely turned my life around...</td>\n",
              "      <td>9</td>\n",
              "    </tr>\n",
              "    <tr>\n",
              "      <th>4</th>\n",
              "      <td>\"2nd day on 5mg started to work with rock hard...</td>\n",
              "      <td>2</td>\n",
              "    </tr>\n",
              "  </tbody>\n",
              "</table>\n",
              "</div>"
            ],
            "text/plain": [
              "                                   review_by_patient  effectiveness_rating\n",
              "0  \"It has no side effect, I take it in combinati...                     9\n",
              "1  \"My son is halfway through his fourth week of ...                     8\n",
              "2  \"I used to take another oral contraceptive, wh...                     5\n",
              "3  \"Suboxone has completely turned my life around...                     9\n",
              "4  \"2nd day on 5mg started to work with rock hard...                     2"
            ]
          },
          "metadata": {
            "tags": []
          },
          "execution_count": 42
        }
      ]
    },
    {
      "cell_type": "code",
      "metadata": {
        "id": "2M0a5ixm2GCz",
        "colab_type": "code",
        "outputId": "af7152a3-097c-4b97-fc18-39b0b0eff667",
        "colab": {
          "base_uri": "https://localhost:8080/",
          "height": 404
        }
      },
      "source": [
        "y = train['effectiveness_rating'].value_counts()\n",
        "y.plot(kind='bar', color='k', alpha=0.6)"
      ],
      "execution_count": 43,
      "outputs": [
        {
          "output_type": "execute_result",
          "data": {
            "text/plain": [
              "<matplotlib.axes._subplots.AxesSubplot at 0x7fcb51938cf8>"
            ]
          },
          "metadata": {
            "tags": []
          },
          "execution_count": 43
        },
        {
          "output_type": "display_data",
          "data": {
            "image/png": "[encoded data removed]",
            "text/plain": [
              "<Figure size 864x432 with 1 Axes>"
            ]
          },
          "metadata": {
            "tags": []
          }
        }
      ]
    },
    {
      "cell_type": "code",
      "metadata": {
        "id": "xfsj1IiyUsTh",
        "colab_type": "code",
        "colab": {
          "base_uri": "https://localhost:8080/",
          "height": 191
        },
        "outputId": "9c659f9d-a1c3-4953-dde6-17f6e0b6d7ec"
      },
      "source": [
        "revs = train['review_by_patient']\n",
        "from collections import Counter\n",
        "top_n = 10\n",
        "Counter(\" \".join(revs).split()).most_common(top_n)"
      ],
      "execution_count": 44,
      "outputs": [
        {
          "output_type": "execute_result",
          "data": {
            "text/plain": [
              "[('I', 131623),\n",
              " ('and', 83968),\n",
              " ('the', 72526),\n",
              " ('to', 63438),\n",
              " ('a', 56135),\n",
              " ('my', 49439),\n",
              " ('it', 39544),\n",
              " ('for', 39046),\n",
              " ('was', 34122),\n",
              " ('of', 33753)]"
            ]
          },
          "metadata": {
            "tags": []
          },
          "execution_count": 44
        }
      ]
    },
    {
      "cell_type": "code",
      "metadata": {
        "id": "bCBwVgURUsNN",
        "colab_type": "code",
        "colab": {}
      },
      "source": [
        "# Removing"
      ],
      "execution_count": 0,
      "outputs": []
    },
    {
      "cell_type": "code",
      "metadata": {
        "id": "ICcUXJZ7UsE2",
        "colab_type": "code",
        "colab": {}
      },
      "source": [
        ""
      ],
      "execution_count": 0,
      "outputs": []
    },
    {
      "cell_type": "code",
      "metadata": {
        "id": "FrDhmfyuUr8c",
        "colab_type": "code",
        "colab": {}
      },
      "source": [
        ""
      ],
      "execution_count": 0,
      "outputs": []
    },
    {
      "cell_type": "code",
      "metadata": {
        "id": "vuuxeZUeUr5E",
        "colab_type": "code",
        "colab": {}
      },
      "source": [
        ""
      ],
      "execution_count": 0,
      "outputs": []
    },
    {
      "cell_type": "markdown",
      "metadata": {
        "id": "tCtsDeGp5EWG",
        "colab_type": "text"
      },
      "source": [
        "--------------------------------------------------------------"
      ]
    },
    {
      "cell_type": "code",
      "metadata": {
        "id": "2dF7HraB2WYB",
        "colab_type": "code",
        "outputId": "91ec6184-7381-4b99-a58a-5f20a135857c",
        "colab": {
          "base_uri": "https://localhost:8080/",
          "height": 437
        }
      },
      "source": [
        "!pip install bert-for-tf2 \n",
        "!pip install sentencepiece"
      ],
      "execution_count": 0,
      "outputs": [
        {
          "output_type": "stream",
          "text": [
            "Collecting bert-for-tf2\n",
            "\u001b[?25l  Downloading https://files.pythonhosted.org/packages/4c/2a/79f44178ac6f5b6995bc7804898fce2654da70e0c5c7f76332748420d6fd/bert-for-tf2-0.13.5.tar.gz (40kB)\n",
            "\r\u001b[K     |████████▏                       | 10kB 29.6MB/s eta 0:00:01\r\u001b[K     |████████████████▎               | 20kB 6.0MB/s eta 0:00:01\r\u001b[K     |████████████████████████▍       | 30kB 8.5MB/s eta 0:00:01\r\u001b[K     |████████████████████████████████| 40kB 4.7MB/s \n",
            "\u001b[?25hCollecting py-params>=0.7.3\n",
            "  Downloading https://files.pythonhosted.org/packages/99/a1/501bef7494a9e6e092ad55b11153b552075d70bae9b50cffc69a0ee8c3ea/py-params-0.9.2.tar.gz\n",
            "Collecting params-flow>=0.7.1\n",
            "  Downloading https://files.pythonhosted.org/packages/0d/12/2604f88932f285a473015a5adabf08496d88dad0f9c1228fab1547ccc9b5/params-flow-0.7.4.tar.gz\n",
            "Requirement already satisfied: numpy in /usr/local/lib/python3.6/dist-packages (from params-flow>=0.7.1->bert-for-tf2) (1.18.2)\n",
            "Requirement already satisfied: tqdm in /usr/local/lib/python3.6/dist-packages (from params-flow>=0.7.1->bert-for-tf2) (4.38.0)\n",
            "Building wheels for collected packages: bert-for-tf2, py-params, params-flow\n",
            "  Building wheel for bert-for-tf2 (setup.py) ... \u001b[?25l\u001b[?25hdone\n",
            "  Created wheel for bert-for-tf2: filename=bert_for_tf2-0.13.5-cp36-none-any.whl size=29948 sha256=a10666fc0bb0126f4f06e4dbe820719b8f3a910c2b7b3734752b300298e446d8\n",
            "  Stored in directory: /root/.cache/pip/wheels/ed/11/48/86aff8a0442aa4728c921027a4100ac28878e9d977e76e2d52\n",
            "  Building wheel for py-params (setup.py) ... \u001b[?25l\u001b[?25hdone\n",
            "  Created wheel for py-params: filename=py_params-0.9.2-cp36-none-any.whl size=6003 sha256=8a7235e93499f75432edb541d93c77a36291b136742acaba26a3cd9e84c97da3\n",
            "  Stored in directory: /root/.cache/pip/wheels/da/d9/3a/d0b0aa570115d3a1a978deac820abc2afe34d7ca5e85dc236f\n",
            "  Building wheel for params-flow (setup.py) ... \u001b[?25l\u001b[?25hdone\n",
            "  Created wheel for params-flow: filename=params_flow-0.7.4-cp36-none-any.whl size=16195 sha256=27c1a8480b43d27d07d493109ddf8584f5dc55a46caf458eadc50c2ff7200c28\n",
            "  Stored in directory: /root/.cache/pip/wheels/86/30/40/507b60d68b67ac87f35e95c98f5b296a32f146d5ae1d1d5aa7\n",
            "Successfully built bert-for-tf2 py-params params-flow\n",
            "Installing collected packages: py-params, params-flow, bert-for-tf2\n",
            "Successfully installed bert-for-tf2-0.13.5 params-flow-0.7.4 py-params-0.9.2\n",
            "Requirement already satisfied: sentencepiece in /usr/local/lib/python3.6/dist-packages (0.1.85)\n"
          ],
          "name": "stdout"
        }
      ]
    },
    {
      "cell_type": "code",
      "metadata": {
        "id": "nftLCPTh3s5Z",
        "colab_type": "code",
        "colab": {}
      },
      "source": [
        "import tensorflow_hub as hub\n",
        "from tensorflow.keras.models import Model\n",
        "from bert.tokenization.bert_tokenization import FullTokenizer"
      ],
      "execution_count": 0,
      "outputs": []
    },
    {
      "cell_type": "code",
      "metadata": {
        "id": "mGeUx3sj6O7M",
        "colab_type": "code",
        "colab": {}
      },
      "source": [
        "bert_layer = hub.KerasLayer(\"https://tfhub.dev/tensorflow/bert_en_uncased_L-12_H-768_A-12/1\",trainable=True)"
      ],
      "execution_count": 0,
      "outputs": []
    },
    {
      "cell_type": "markdown",
      "metadata": {
        "id": "5iSlnvcF8jlH",
        "colab_type": "text"
      },
      "source": [
        "-------------------------------------------------------------------"
      ]
    },
    {
      "cell_type": "code",
      "metadata": {
        "id": "BB-1Knty6U59",
        "colab_type": "code",
        "colab": {}
      },
      "source": [
        "import tensorflow as tf\n",
        "import tensorflow_hub as hub\n",
        "import re\n",
        "import seaborn as sns"
      ],
      "execution_count": 0,
      "outputs": []
    },
    {
      "cell_type": "code",
      "metadata": {
        "id": "elIlxpem8o-D",
        "colab_type": "code",
        "outputId": "b213f92d-a6cd-415b-cc50-50f3188a3bd9",
        "colab": {
          "base_uri": "https://localhost:8080/",
          "height": 34
        }
      },
      "source": [
        "import torch\n",
        "\n",
        "if torch.cuda.is_available():    \n",
        "   device = torch.device(\"cuda\")\n",
        "   print('GPU:', torch.cuda.get_device_name(0))\n",
        "\n",
        "import os\n",
        "os.environ['CUDA_LAUNCH_BLOCKING'] = '1'"
      ],
      "execution_count": 7,
      "outputs": [
        {
          "output_type": "stream",
          "text": [
            "GPU: Tesla T4\n"
          ],
          "name": "stdout"
        }
      ]
    },
    {
      "cell_type": "code",
      "metadata": {
        "id": "P7trgXqa87EX",
        "colab_type": "code",
        "colab": {}
      },
      "source": [
        "!pip install transformers"
      ],
      "execution_count": 0,
      "outputs": []
    },
    {
      "cell_type": "code",
      "metadata": {
        "id": "Yic3mvo2Dbxg",
        "colab_type": "code",
        "colab": {}
      },
      "source": [
        "labels = train['effectiveness_rating']\n",
        "reviews = train['review_by_patient']"
      ],
      "execution_count": 0,
      "outputs": []
    },
    {
      "cell_type": "code",
      "metadata": {
        "id": "hFLuBStNEKMH",
        "colab_type": "code",
        "colab": {
          "base_uri": "https://localhost:8080/",
          "height": 66,
          "referenced_widgets": [
            "833e80d242894a5b82cd0efd8043d4c5",
            "9ff6a4f5bd7b40c08037a19481ea9399",
            "7966cf024ba64f24b13b22a715067edb",
            "2ec4b8f67c83418c94d5af24bc6fa975",
            "2a6cfcf1877f4592844ed1c6241c5208",
            "8cf8c622522049c98426c61fb861728d",
            "f32cf679f2e64063bc3e6741d69648e7",
            "ac23dddff4944ca0a99a96b49484655f"
          ]
        },
        "outputId": "e2a52931-2d94-497b-c7c2-8736dbdce4e3"
      },
      "source": [
        "# model building\n",
        "from transformers import AlbertTokenizer \n",
        "tokenizer = AlbertTokenizer.from_pretrained('albert-base-v2', do_lower_case=True)"
      ],
      "execution_count": 12,
      "outputs": [
        {
          "output_type": "display_data",
          "data": {
            "application/vnd.jupyter.widget-view+json": {
              "model_id": "833e80d242894a5b82cd0efd8043d4c5",
              "version_minor": 0,
              "version_major": 2
            },
            "text/plain": [
              "HBox(children=(IntProgress(value=0, description='Downloading', max=760289, style=ProgressStyle(description_wid…"
            ]
          },
          "metadata": {
            "tags": []
          }
        },
        {
          "output_type": "stream",
          "text": [
            "\n"
          ],
          "name": "stdout"
        }
      ]
    },
    {
      "cell_type": "code",
      "metadata": {
        "id": "zQVKemCfEaZD",
        "colab_type": "code",
        "outputId": "b85d8d15-627a-41f2-91d4-67598017c359",
        "colab": {
          "base_uri": "https://localhost:8080/",
          "height": 89
        }
      },
      "source": [
        "print(' Original: ', reviews[0])\n",
        "print('Tokenized: ', tokenizer.tokenize(reviews[0]))\n",
        "print('Token IDs: ', tokenizer.convert_tokens_to_ids(tokenizer.tokenize(reviews[0])))"
      ],
      "execution_count": 13,
      "outputs": [
        {
          "output_type": "stream",
          "text": [
            " Original:  \"It has no side effect, I take it in combination of Bystolic 5 Mg and Fish Oil\"\n",
            "Tokenized:  ['▁', '\"', 'it', '▁has', '▁no', '▁side', '▁effect', ',', '▁i', '▁take', '▁it', '▁in', '▁combination', '▁of', '▁by', 'st', 'olic', '▁5', '▁mg', '▁and', '▁fish', '▁oil', '\"']\n",
            "Token IDs:  [13, 7, 242, 63, 90, 270, 1590, 15, 31, 247, 32, 19, 3733, 16, 34, 384, 18156, 331, 11791, 17, 1968, 1585, 7]\n"
          ],
          "name": "stdout"
        }
      ]
    },
    {
      "cell_type": "code",
      "metadata": {
        "id": "3xiuTYAAEx9N",
        "colab_type": "code",
        "outputId": "af862485-cca0-4fb0-8915-3c12642dd07f",
        "colab": {
          "base_uri": "https://localhost:8080/",
          "height": 176
        }
      },
      "source": [
        "max_len = 0\n",
        "\n",
        "# For every sentence...\n",
        "for sent in reviews:\n",
        "\n",
        "    # Tokenize the text and add `[CLS]` and `[SEP]` tokens.\n",
        "    input_ids = tokenizer.encode(sent, add_special_tokens=True)\n",
        "\n",
        "    # Update the maximum sentence length.\n",
        "    max_len = max(max_len, len(input_ids))\n",
        "\n",
        "print('Max sentence length: ', max_len)"
      ],
      "execution_count": 14,
      "outputs": [
        {
          "output_type": "stream",
          "text": [
            "Token indices sequence length is longer than the specified maximum sequence length for this model (522 > 512). Running this sequence through the model will result in indexing errors\n",
            "Token indices sequence length is longer than the specified maximum sequence length for this model (528 > 512). Running this sequence through the model will result in indexing errors\n",
            "Token indices sequence length is longer than the specified maximum sequence length for this model (868 > 512). Running this sequence through the model will result in indexing errors\n",
            "Token indices sequence length is longer than the specified maximum sequence length for this model (637 > 512). Running this sequence through the model will result in indexing errors\n",
            "Token indices sequence length is longer than the specified maximum sequence length for this model (522 > 512). Running this sequence through the model will result in indexing errors\n",
            "Token indices sequence length is longer than the specified maximum sequence length for this model (613 > 512). Running this sequence through the model will result in indexing errors\n",
            "Token indices sequence length is longer than the specified maximum sequence length for this model (607 > 512). Running this sequence through the model will result in indexing errors\n"
          ],
          "name": "stderr"
        },
        {
          "output_type": "stream",
          "text": [
            "Max sentence length:  870\n"
          ],
          "name": "stdout"
        }
      ]
    },
    {
      "cell_type": "code",
      "metadata": {
        "id": "JMRzIyg3HuyS",
        "colab_type": "code",
        "colab": {}
      },
      "source": [
        "# Tokenize all of the sentences and map the tokens to thier word IDs.\n",
        "input_ids = []\n",
        "attention_masks = []\n",
        "\n",
        "# For every sentence...\n",
        "for sent in reviews:\n",
        "    # `encode_plus` will:\n",
        "    #   (1) Tokenize the sentence.\n",
        "    #   (2) Prepend the `[CLS]` token to the start.\n",
        "    #   (3) Append the `[SEP]` token to the end.\n",
        "    #   (4) Map tokens to their IDs.\n",
        "    #   (5) Pad or truncate the sentence to `max_length`\n",
        "    #   (6) Create attention masks for [PAD] tokens.\n",
        "    encoded_dict = tokenizer.encode_plus(\n",
        "                        sent,                      # Sentence to encode.\n",
        "                        add_special_tokens = True, # Add '[CLS]' and '[SEP]'\n",
        "                        max_length = 64,           # Pad & truncate all sentences.\n",
        "                        pad_to_max_length = True,\n",
        "                        return_attention_mask = True,   # Construct attn. masks.\n",
        "                        return_tensors = 'pt',     # Return pytorch tensors.\n",
        "                   )\n",
        "    \n",
        "    # Add the encoded sentence to the list.    \n",
        "    input_ids.append(encoded_dict['input_ids'])\n",
        "    \n",
        "    # And its attention mask (simply differentiates padding from non-padding).\n",
        "    attention_masks.append(encoded_dict['attention_mask'])\n",
        "\n",
        "# Convert the lists into tensors.\n",
        "input_ids = torch.cat(input_ids, dim=0)\n",
        "attention_masks = torch.cat(attention_masks, dim=0)\n",
        "labels = torch.tensor(labels)"
      ],
      "execution_count": 0,
      "outputs": []
    },
    {
      "cell_type": "code",
      "metadata": {
        "id": "Bygjq6kGIMVg",
        "colab_type": "code",
        "outputId": "a68b3b89-fe2a-4dab-a94b-d2167f5fbc67",
        "colab": {
          "base_uri": "https://localhost:8080/",
          "height": 156
        }
      },
      "source": [
        "# Print sentence 0, now as a list of IDs.\n",
        "print('Original: ', reviews[0])\n",
        "print('Token IDs:', input_ids[0])"
      ],
      "execution_count": 16,
      "outputs": [
        {
          "output_type": "stream",
          "text": [
            "Original:  \"It has no side effect, I take it in combination of Bystolic 5 Mg and Fish Oil\"\n",
            "Token IDs: tensor([    2,    13,     7,   242,    63,    90,   270,  1590,    15,    31,\n",
            "          247,    32,    19,  3733,    16,    34,   384, 18156,   331, 11791,\n",
            "           17,  1968,  1585,     7,     3,     0,     0,     0,     0,     0,\n",
            "            0,     0,     0,     0,     0,     0,     0,     0,     0,     0,\n",
            "            0,     0,     0,     0,     0,     0,     0,     0,     0,     0,\n",
            "            0,     0,     0,     0,     0,     0,     0,     0,     0,     0,\n",
            "            0,     0,     0,     0])\n"
          ],
          "name": "stdout"
        }
      ]
    },
    {
      "cell_type": "code",
      "metadata": {
        "id": "Tt9H1iueIupa",
        "colab_type": "code",
        "outputId": "0974f7b9-fd1b-478a-e761-38887c622618",
        "colab": {
          "base_uri": "https://localhost:8080/",
          "height": 51
        }
      },
      "source": [
        "from torch.utils.data import TensorDataset, random_split\n",
        "\n",
        "# Combine the training inputs into a TensorDataset.\n",
        "dataset = TensorDataset(input_ids, attention_masks, labels)\n",
        "\n",
        "# Create a 98-02 train-validation split.\n",
        "\n",
        "# Calculate the number of samples to include in each set.\n",
        "train_size = int(0.98 * len(dataset))\n",
        "val_size = len(dataset) - train_size\n",
        "\n",
        "# Divide the dataset by randomly selecting samples.\n",
        "train_dataset, val_dataset = random_split(dataset, [train_size, val_size])\n",
        "\n",
        "print('{:>5,} training samples'.format(train_size))\n",
        "print('{:>5,} validation samples'.format(val_size))"
      ],
      "execution_count": 17,
      "outputs": [
        {
          "output_type": "stream",
          "text": [
            "31,521 training samples\n",
            "  644 validation samples\n"
          ],
          "name": "stdout"
        }
      ]
    },
    {
      "cell_type": "code",
      "metadata": {
        "id": "SguWsp9-JTOo",
        "colab_type": "code",
        "colab": {}
      },
      "source": [
        "from torch.utils.data import DataLoader, RandomSampler, SequentialSampler\n",
        "\n",
        "# The DataLoader needs to know our batch size for training, so we specify it \n",
        "# here. For fine-tuning BERT on a specific task, the authors recommend a batch \n",
        "# size of 16 or 32.\n",
        "batch_size = 32\n",
        "\n",
        "# Create the DataLoaders for our training and validation sets.\n",
        "# We'll take training samples in random order. \n",
        "train_dataloader = DataLoader(\n",
        "            train_dataset,  # The training samples.\n",
        "            sampler = RandomSampler(train_dataset), # Select batches randomly\n",
        "            batch_size = batch_size # Trains with this batch size.\n",
        "        )\n",
        "\n",
        "# For validation the order doesn't matter, so we'll just read them sequentially.\n",
        "validation_dataloader = DataLoader(\n",
        "            val_dataset, # The validation samples.\n",
        "            sampler = SequentialSampler(val_dataset), # Pull out batches sequentially.\n",
        "            batch_size = batch_size # Evaluate with this batch size.\n",
        "        )"
      ],
      "execution_count": 0,
      "outputs": []
    },
    {
      "cell_type": "code",
      "metadata": {
        "id": "w2PRM1aaJvIM",
        "colab_type": "code",
        "colab": {}
      },
      "source": [
        "#---------------------Training-----------------------"
      ],
      "execution_count": 0,
      "outputs": []
    },
    {
      "cell_type": "code",
      "metadata": {
        "id": "UTe4xxisJ9da",
        "colab_type": "code",
        "outputId": "2ac553bd-768b-4b2b-9b7c-854ab7e63295",
        "colab": {
          "base_uri": "https://localhost:8080/",
          "height": 759,
          "referenced_widgets": [
            "652261015ff84405aad977cf863fd280",
            "122ee8fae1414332972a328bd10b5ecb",
            "b4b71b5b56a04ef6adf88652eb0f85d2",
            "4461c35728f44ff0b8174c3338dec61e",
            "e72c1388f69242be8cbb88c3a0d5d263",
            "e166789303a64722ad737436681e841d",
            "bb4fdb7fe7534159b7679d251049243a",
            "40aa8befa8a44e81b4d317a44bde83ab",
            "be29c72375174a218083291470b6f2e9",
            "3cfc1e1995da40faa2f979aaf2978218",
            "b1509baa61e84eaaa7b2832fddb34b24",
            "95d7f93830744a6282c55a2feff38b23",
            "018f88da185f4b9996e1e1a16d9338cf",
            "6ff9f4204ef44c038fb75a0df438b94f",
            "c8503b9126444c51b27083db77a229a6",
            "3167a81322d34e839683818d4e49718d"
          ]
        }
      },
      "source": [
        "from transformers import AlbertForSequenceClassification, AdamW, AlbertConfig\n",
        "\n",
        "# Load BertForSequenceClassification, the pretrained BERT model with a single \n",
        "# linear classification layer on top. \n",
        "model = AlbertForSequenceClassification.from_pretrained(\n",
        "    \"albert-base-v2\", # Use the 12-layer BERT model, with an uncased vocab.\n",
        "    num_labels = 10, # The number of output labels--2 for binary classification.\n",
        "                    # You can increase this for multi-class tasks.   \n",
        "    output_attentions = False, # Whether the model returns attentions weights.\n",
        "    output_hidden_states = False, # Whether the model returns all hidden-states.\n",
        ")\n",
        "\n",
        "# Tell pytorch to run this model on the GPU.\n",
        "model.cuda()"
      ],
      "execution_count": 19,
      "outputs": [
        {
          "output_type": "display_data",
          "data": {
            "application/vnd.jupyter.widget-view+json": {
              "model_id": "652261015ff84405aad977cf863fd280",
              "version_minor": 0,
              "version_major": 2
            },
            "text/plain": [
              "HBox(children=(IntProgress(value=0, description='Downloading', max=534, style=ProgressStyle(description_width=…"
            ]
          },
          "metadata": {
            "tags": []
          }
        },
        {
          "output_type": "stream",
          "text": [
            "\n"
          ],
          "name": "stdout"
        },
        {
          "output_type": "display_data",
          "data": {
            "application/vnd.jupyter.widget-view+json": {
              "model_id": "be29c72375174a218083291470b6f2e9",
              "version_minor": 0,
              "version_major": 2
            },
            "text/plain": [
              "HBox(children=(IntProgress(value=0, description='Downloading', max=47376696, style=ProgressStyle(description_w…"
            ]
          },
          "metadata": {
            "tags": []
          }
        },
        {
          "output_type": "stream",
          "text": [
            "\n"
          ],
          "name": "stdout"
        },
        {
          "output_type": "execute_result",
          "data": {
            "text/plain": [
              "AlbertForSequenceClassification(\n",
              "  (albert): AlbertModel(\n",
              "    (embeddings): AlbertEmbeddings(\n",
              "      (word_embeddings): Embedding(30000, 128, padding_idx=0)\n",
              "      (position_embeddings): Embedding(512, 128)\n",
              "      (token_type_embeddings): Embedding(2, 128)\n",
              "      (LayerNorm): LayerNorm((128,), eps=1e-12, elementwise_affine=True)\n",
              "      (dropout): Dropout(p=0, inplace=False)\n",
              "    )\n",
              "    (encoder): AlbertTransformer(\n",
              "      (embedding_hidden_mapping_in): Linear(in_features=128, out_features=768, bias=True)\n",
              "      (albert_layer_groups): ModuleList(\n",
              "        (0): AlbertLayerGroup(\n",
              "          (albert_layers): ModuleList(\n",
              "            (0): AlbertLayer(\n",
              "              (full_layer_layer_norm): LayerNorm((768,), eps=1e-12, elementwise_affine=True)\n",
              "              (attention): AlbertAttention(\n",
              "                (query): Linear(in_features=768, out_features=768, bias=True)\n",
              "                (key): Linear(in_features=768, out_features=768, bias=True)\n",
              "                (value): Linear(in_features=768, out_features=768, bias=True)\n",
              "                (dropout): Dropout(p=0, inplace=False)\n",
              "                (dense): Linear(in_features=768, out_features=768, bias=True)\n",
              "                (LayerNorm): LayerNorm((768,), eps=1e-12, elementwise_affine=True)\n",
              "              )\n",
              "              (ffn): Linear(in_features=768, out_features=3072, bias=True)\n",
              "              (ffn_output): Linear(in_features=3072, out_features=768, bias=True)\n",
              "            )\n",
              "          )\n",
              "        )\n",
              "      )\n",
              "    )\n",
              "    (pooler): Linear(in_features=768, out_features=768, bias=True)\n",
              "    (pooler_activation): Tanh()\n",
              "  )\n",
              "  (dropout): Dropout(p=0.1, inplace=False)\n",
              "  (classifier): Linear(in_features=768, out_features=10, bias=True)\n",
              ")"
            ]
          },
          "metadata": {
            "tags": []
          },
          "execution_count": 19
        }
      ]
    },
    {
      "cell_type": "code",
      "metadata": {
        "id": "9rPK4KngKVeI",
        "colab_type": "code",
        "outputId": "72e20974-402c-4551-a2c0-1ea8a99650b5",
        "colab": {
          "base_uri": "https://localhost:8080/",
          "height": 626
        }
      },
      "source": [
        "# Interesting\n",
        "# Get all of the model's parameters as a list of tuples.\n",
        "params = list(model.named_parameters())\n",
        "\n",
        "print('The BERT model has {:} different named parameters.\\n'.format(len(params)))\n",
        "\n",
        "print('==== Embedding Layer ====\\n')\n",
        "\n",
        "for p in params[0:5]:\n",
        "    print(\"{:<55} {:>12}\".format(p[0], str(tuple(p[1].size()))))\n",
        "\n",
        "print('\\n==== First Transformer ====\\n')\n",
        "\n",
        "for p in params[5:21]:\n",
        "    print(\"{:<55} {:>12}\".format(p[0], str(tuple(p[1].size()))))\n",
        "\n",
        "print('\\n==== Output Layer ====\\n')\n",
        "\n",
        "for p in params[-4:]:\n",
        "    print(\"{:<55} {:>12}\".format(p[0], str(tuple(p[1].size()))))"
      ],
      "execution_count": 20,
      "outputs": [
        {
          "output_type": "stream",
          "text": [
            "The BERT model has 27 different named parameters.\n",
            "\n",
            "==== Embedding Layer ====\n",
            "\n",
            "albert.embeddings.word_embeddings.weight                (30000, 128)\n",
            "albert.embeddings.position_embeddings.weight              (512, 128)\n",
            "albert.embeddings.token_type_embeddings.weight              (2, 128)\n",
            "albert.embeddings.LayerNorm.weight                            (128,)\n",
            "albert.embeddings.LayerNorm.bias                              (128,)\n",
            "\n",
            "==== First Transformer ====\n",
            "\n",
            "albert.encoder.embedding_hidden_mapping_in.weight         (768, 128)\n",
            "albert.encoder.embedding_hidden_mapping_in.bias               (768,)\n",
            "albert.encoder.albert_layer_groups.0.albert_layers.0.full_layer_layer_norm.weight       (768,)\n",
            "albert.encoder.albert_layer_groups.0.albert_layers.0.full_layer_layer_norm.bias       (768,)\n",
            "albert.encoder.albert_layer_groups.0.albert_layers.0.attention.query.weight   (768, 768)\n",
            "albert.encoder.albert_layer_groups.0.albert_layers.0.attention.query.bias       (768,)\n",
            "albert.encoder.albert_layer_groups.0.albert_layers.0.attention.key.weight   (768, 768)\n",
            "albert.encoder.albert_layer_groups.0.albert_layers.0.attention.key.bias       (768,)\n",
            "albert.encoder.albert_layer_groups.0.albert_layers.0.attention.value.weight   (768, 768)\n",
            "albert.encoder.albert_layer_groups.0.albert_layers.0.attention.value.bias       (768,)\n",
            "albert.encoder.albert_layer_groups.0.albert_layers.0.attention.dense.weight   (768, 768)\n",
            "albert.encoder.albert_layer_groups.0.albert_layers.0.attention.dense.bias       (768,)\n",
            "albert.encoder.albert_layer_groups.0.albert_layers.0.attention.LayerNorm.weight       (768,)\n",
            "albert.encoder.albert_layer_groups.0.albert_layers.0.attention.LayerNorm.bias       (768,)\n",
            "albert.encoder.albert_layer_groups.0.albert_layers.0.ffn.weight  (3072, 768)\n",
            "albert.encoder.albert_layer_groups.0.albert_layers.0.ffn.bias      (3072,)\n",
            "\n",
            "==== Output Layer ====\n",
            "\n",
            "albert.pooler.weight                                      (768, 768)\n",
            "albert.pooler.bias                                            (768,)\n",
            "classifier.weight                                          (10, 768)\n",
            "classifier.bias                                                (10,)\n"
          ],
          "name": "stdout"
        }
      ]
    },
    {
      "cell_type": "code",
      "metadata": {
        "id": "GTbpsVuyKnr_",
        "colab_type": "code",
        "colab": {}
      },
      "source": [
        "optimizer = AdamW(model.parameters(),\n",
        "                  lr = 2e-5, # args.learning_rate - default is 5e-5, our notebook had 2e-5\n",
        "                  eps = 1e-8 # args.adam_epsilon  - default is 1e-8.\n",
        "                )"
      ],
      "execution_count": 0,
      "outputs": []
    },
    {
      "cell_type": "code",
      "metadata": {
        "id": "PHP370UDLBOR",
        "colab_type": "code",
        "colab": {}
      },
      "source": [
        "from transformers import get_linear_schedule_with_warmup\n",
        "\n",
        "# Number of training epochs. The BERT authors recommend between 2 and 4. \n",
        "# We chose to run for 4, but we'll see later that this may be over-fitting the\n",
        "# training data.\n",
        "epochs = 10\n",
        "\n",
        "# Total number of training steps is [number of batches] x [number of epochs]. \n",
        "# (Note that this is not the same as the number of training samples).\n",
        "total_steps = len(train_dataloader) * epochs\n",
        "\n",
        "# Create the learning rate scheduler.\n",
        "scheduler = get_linear_schedule_with_warmup(optimizer, \n",
        "                                            num_warmup_steps = 0, # Default value in run_glue.py\n",
        "                                            num_training_steps = total_steps)"
      ],
      "execution_count": 0,
      "outputs": []
    },
    {
      "cell_type": "code",
      "metadata": {
        "id": "ECHhZWgELaen",
        "colab_type": "code",
        "colab": {}
      },
      "source": [
        "def flat_accuracy(preds, labels):\n",
        "    pred_flat = np.argmax(preds, axis=1).flatten()\n",
        "    labels_flat = labels.flatten()\n",
        "    return np.sum(pred_flat == labels_flat) / len(labels_flat)"
      ],
      "execution_count": 0,
      "outputs": []
    },
    {
      "cell_type": "code",
      "metadata": {
        "id": "2KtnKNaaLgo8",
        "colab_type": "code",
        "colab": {}
      },
      "source": [
        "import time\n",
        "import datetime\n",
        "\n",
        "def format_time(elapsed):\n",
        "    '''\n",
        "    Takes a time in seconds and returns a string hh:mm:ss\n",
        "    '''\n",
        "    # Round to the nearest second.\n",
        "    elapsed_rounded = int(round((elapsed)))\n",
        "    \n",
        "    # Format as hh:mm:ss\n",
        "    return str(datetime.timedelta(seconds=elapsed_rounded))\n"
      ],
      "execution_count": 0,
      "outputs": []
    },
    {
      "cell_type": "markdown",
      "metadata": {
        "id": "eww20CmrLxUW",
        "colab_type": "text"
      },
      "source": [
        "Loop---------"
      ]
    },
    {
      "cell_type": "code",
      "metadata": {
        "id": "UwUxdIh7LlEv",
        "colab_type": "code",
        "outputId": "eaca3c00-213b-409a-d18b-317937fd15b2",
        "colab": {
          "base_uri": "https://localhost:8080/",
          "height": 1000
        }
      },
      "source": [
        "import random\n",
        "import numpy as np\n",
        "\n",
        "# This training code is based on the `run_glue.py` script here:\n",
        "# https://github.com/huggingface/transformers/blob/5bfcd0485ece086ebcbed2d008813037968a9e58/examples/run_glue.py#L128\n",
        "\n",
        "# Set the seed value all over the place to make this reproducible.\n",
        "seed_val = 42\n",
        "\n",
        "random.seed(seed_val)\n",
        "np.random.seed(seed_val)\n",
        "torch.manual_seed(seed_val)\n",
        "torch.cuda.manual_seed_all(seed_val)\n",
        "\n",
        "# We'll store a number of quantities such as training and validation loss, \n",
        "# validation accuracy, and timings.\n",
        "training_stats = []\n",
        "\n",
        "# Measure the total training time for the whole run.\n",
        "total_t0 = time.time()\n",
        "\n",
        "# For each epoch...\n",
        "for epoch_i in range(0, epochs):\n",
        "    \n",
        "    # ========================================\n",
        "    #               Training\n",
        "    # ========================================\n",
        "    \n",
        "    # Perform one full pass over the training set.\n",
        "\n",
        "    print(\"\")\n",
        "    print('======== Epoch {:} / {:} ========'.format(epoch_i + 1, epochs))\n",
        "    print('Training...')\n",
        "\n",
        "    # Measure how long the training epoch takes.\n",
        "    t0 = time.time()\n",
        "\n",
        "    # Reset the total loss for this epoch.\n",
        "    total_train_loss = 0\n",
        "\n",
        "    # Put the model into training mode. Don't be mislead--the call to \n",
        "    # `train` just changes the *mode*, it doesn't *perform* the training.\n",
        "    # `dropout` and `batchnorm` layers behave differently during training\n",
        "    # vs. test (source: https://stackoverflow.com/questions/51433378/what-does-model-train-do-in-pytorch)\n",
        "    model.train()\n",
        "\n",
        "    # For each batch of training data...\n",
        "    for step, batch in enumerate(train_dataloader):\n",
        "        #print('============\\n', len(batch))\n",
        "\n",
        "        # Progress update every 40 batches.\n",
        "        if step % 40 == 0 and not step == 0:\n",
        "            # Calculate elapsed time in minutes.\n",
        "            elapsed = format_time(time.time() - t0)\n",
        "            \n",
        "            # Report progress.\n",
        "            print('  Batch {:>5,}  of  {:>5,}.    Elapsed: {:}.'.format(step, len(train_dataloader), elapsed))\n",
        "\n",
        "        # Unpack this training batch from our dataloader. \n",
        "        #\n",
        "        # As we unpack the batch, we'll also copy each tensor to the GPU using the \n",
        "        # `to` method.\n",
        "        #\n",
        "        # `batch` contains three pytorch tensors:\n",
        "        #   [0]: input ids \n",
        "        #   [1]: attention masks\n",
        "        #   [2]: labels \n",
        "        b_input_ids = batch[0].to(device)\n",
        "        b_input_mask = batch[1].to(device)\n",
        "        b_labels = batch[2] - 1\n",
        "        b_labels = b_labels.to(device)\n",
        "\n",
        "        # Always clear any previously calculated gradients before performing a\n",
        "        # backward pass. PyTorch doesn't do this automatically because \n",
        "        # accumulating the gradients is \"convenient while training RNNs\". \n",
        "        # (source: https://stackoverflow.com/questions/48001598/why-do-we-need-to-call-zero-grad-in-pytorch)\n",
        "        model.zero_grad()        \n",
        "\n",
        "        # Perform a forward pass (evaluate the model on this training batch).\n",
        "        # The documentation for this `model` function is here: \n",
        "        # https://huggingface.co/transformers/v2.2.0/model_doc/bert.html#transformers.BertForSequenceClassification\n",
        "        # It returns different numbers of parameters depending on what arguments\n",
        "        # arge given and what flags are set. For our useage here, it returns\n",
        "        # the loss (because we provided labels) and the \"logits\"--the model\n",
        "        # outputs prior to activation.\n",
        "        #print(b_labels)\n",
        "        loss, logits = model(b_input_ids, \n",
        "                             token_type_ids=None, \n",
        "                             attention_mask=b_input_mask, \n",
        "                             labels=b_labels)\n",
        "\n",
        "        # Accumulate the training loss over all of the batches so that we can\n",
        "        # calculate the average loss at the end. `loss` is a Tensor containing a\n",
        "        # single value; the `.item()` function just returns the Python value \n",
        "        # from the tensor.\n",
        "        total_train_loss += loss.item()\n",
        "\n",
        "        # Perform a backward pass to calculate the gradients.\n",
        "        loss.backward()\n",
        "\n",
        "        # Clip the norm of the gradients to 1.0.\n",
        "        # This is to help prevent the \"exploding gradients\" problem.\n",
        "        torch.nn.utils.clip_grad_norm_(model.parameters(), 1.0)\n",
        "\n",
        "        # Update parameters and take a step using the computed gradient.\n",
        "        # The optimizer dictates the \"update rule\"--how the parameters are\n",
        "        # modified based on their gradients, the learning rate, etc.\n",
        "        optimizer.step()\n",
        "\n",
        "        # Update the learning rate.\n",
        "        scheduler.step()\n",
        "\n",
        "    # Calculate the average loss over all of the batches.\n",
        "    avg_train_loss = total_train_loss / len(train_dataloader)            \n",
        "    \n",
        "    # Measure how long this epoch took.\n",
        "    training_time = format_time(time.time() - t0)\n",
        "\n",
        "    print(\"\")\n",
        "    print(\"  Average training loss: {0:.2f}\".format(avg_train_loss))\n",
        "    print(\"  Training epcoh took: {:}\".format(training_time))\n",
        "        \n",
        "    # ========================================\n",
        "    #               Validation\n",
        "    # ========================================\n",
        "    # After the completion of each training epoch, measure our performance on\n",
        "    # our validation set.\n",
        "\n",
        "    print(\"\")\n",
        "    print(\"Running Validation...\")\n",
        "\n",
        "    t0 = time.time()\n",
        "\n",
        "    # Put the model in evaluation mode--the dropout layers behave differently\n",
        "    # during evaluation.\n",
        "    model.eval()\n",
        "\n",
        "    # Tracking variables \n",
        "    total_eval_accuracy = 0\n",
        "    total_eval_loss = 0\n",
        "    nb_eval_steps = 0\n",
        "\n",
        "    # Evaluate data for one epoch\n",
        "    for batch in validation_dataloader:\n",
        "        #print('============\\n', batch)\n",
        "        # Unpack this training batch from our dataloader. \n",
        "        #\n",
        "        # As we unpack the batch, we'll also copy each tensor to the GPU using \n",
        "        # the `to` method.\n",
        "        #\n",
        "        # `batch` contains three pytorch tensors:\n",
        "        #   [0]: input ids \n",
        "        #   [1]: attention masks\n",
        "        #   [2]: labels \n",
        "        b_input_ids = batch[0].to(device)\n",
        "        b_input_mask = batch[1].to(device)\n",
        "        b_labels = batch[2] - 1\n",
        "        b_labels = b_labels.to(device)\n",
        "        \n",
        "        # Tell pytorch not to bother with constructing the compute graph during\n",
        "        # the forward pass, since this is only needed for backprop (training).\n",
        "        with torch.no_grad():        \n",
        "\n",
        "            # Forward pass, calculate logit predictions.\n",
        "            # token_type_ids is the same as the \"segment ids\", which \n",
        "            # differentiates sentence 1 and 2 in 2-sentence tasks.\n",
        "            # The documentation for this `model` function is here: \n",
        "            # https://huggingface.co/transformers/v2.2.0/model_doc/bert.html#transformers.BertForSequenceClassification\n",
        "            # Get the \"logits\" output by the model. The \"logits\" are the output\n",
        "            # values prior to applying an activation function like the softmax.\n",
        "            (loss, logits) = model(b_input_ids, \n",
        "                                   token_type_ids=None, \n",
        "                                   attention_mask=b_input_mask,\n",
        "                                   labels=b_labels)\n",
        "            \n",
        "        # Accumulate the validation loss.\n",
        "        total_eval_loss += loss.item()\n",
        "\n",
        "        # Move logits and labels to CPU\n",
        "        logits = logits.detach().cpu().numpy()\n",
        "        label_ids = b_labels.to('cpu').numpy()\n",
        "\n",
        "        # Calculate the accuracy for this batch of test sentences, and\n",
        "        # accumulate it over all batches.\n",
        "        total_eval_accuracy += flat_accuracy(logits, label_ids)\n",
        "        \n",
        "\n",
        "    # Report the final accuracy for this validation run.\n",
        "    avg_val_accuracy = total_eval_accuracy / len(validation_dataloader)\n",
        "    print(\"  Accuracy: {0:.2f}\".format(avg_val_accuracy))\n",
        "\n",
        "    # Calculate the average loss over all of the batches.\n",
        "    avg_val_loss = total_eval_loss / len(validation_dataloader)\n",
        "    \n",
        "    # Measure how long the validation run took.\n",
        "    validation_time = format_time(time.time() - t0)\n",
        "    \n",
        "    print(\"  Validation Loss: {0:.2f}\".format(avg_val_loss))\n",
        "    print(\"  Validation took: {:}\".format(validation_time))\n",
        "\n",
        "    # Record all statistics from this epoch.\n",
        "    training_stats.append(\n",
        "        {\n",
        "            'epoch': epoch_i + 1,\n",
        "            'Training Loss': avg_train_loss,\n",
        "            'Valid. Loss': avg_val_loss,\n",
        "            'Valid. Accur.': avg_val_accuracy,\n",
        "            'Training Time': training_time,\n",
        "            'Validation Time': validation_time\n",
        "        }\n",
        "    )\n",
        "\n",
        "print(\"\")\n",
        "print(\"Training complete!\")\n",
        "\n",
        "print(\"Total training took {:} (h:mm:ss)\".format(format_time(time.time()-total_t0)))"
      ],
      "execution_count": 25,
      "outputs": [
        {
          "output_type": "stream",
          "text": [
            "\n",
            "======== Epoch 1 / 10 ========\n",
            "Training...\n",
            "  Batch    40  of    986.    Elapsed: 0:00:15.\n",
            "  Batch    80  of    986.    Elapsed: 0:00:31.\n",
            "  Batch   120  of    986.    Elapsed: 0:00:46.\n",
            "  Batch   160  of    986.    Elapsed: 0:01:02.\n",
            "  Batch   200  of    986.    Elapsed: 0:01:18.\n",
            "  Batch   240  of    986.    Elapsed: 0:01:34.\n",
            "  Batch   280  of    986.    Elapsed: 0:01:50.\n",
            "  Batch   320  of    986.    Elapsed: 0:02:06.\n",
            "  Batch   360  of    986.    Elapsed: 0:02:22.\n",
            "  Batch   400  of    986.    Elapsed: 0:02:38.\n",
            "  Batch   440  of    986.    Elapsed: 0:02:54.\n",
            "  Batch   480  of    986.    Elapsed: 0:03:10.\n",
            "  Batch   520  of    986.    Elapsed: 0:03:26.\n",
            "  Batch   560  of    986.    Elapsed: 0:03:42.\n",
            "  Batch   600  of    986.    Elapsed: 0:03:59.\n",
            "  Batch   640  of    986.    Elapsed: 0:04:15.\n",
            "  Batch   680  of    986.    Elapsed: 0:04:31.\n",
            "  Batch   720  of    986.    Elapsed: 0:04:47.\n",
            "  Batch   760  of    986.    Elapsed: 0:05:03.\n",
            "  Batch   800  of    986.    Elapsed: 0:05:19.\n",
            "  Batch   840  of    986.    Elapsed: 0:05:35.\n",
            "  Batch   880  of    986.    Elapsed: 0:05:51.\n",
            "  Batch   920  of    986.    Elapsed: 0:06:07.\n",
            "  Batch   960  of    986.    Elapsed: 0:06:23.\n",
            "\n",
            "  Average training loss: 1.84\n",
            "  Training epcoh took: 0:06:33\n",
            "\n",
            "Running Validation...\n",
            "  Accuracy: 0.40\n",
            "  Validation Loss: 1.68\n",
            "  Validation took: 0:00:03\n",
            "\n",
            "======== Epoch 2 / 10 ========\n",
            "Training...\n",
            "  Batch    40  of    986.    Elapsed: 0:00:16.\n",
            "  Batch    80  of    986.    Elapsed: 0:00:32.\n",
            "  Batch   120  of    986.    Elapsed: 0:00:48.\n",
            "  Batch   160  of    986.    Elapsed: 0:01:04.\n",
            "  Batch   200  of    986.    Elapsed: 0:01:20.\n",
            "  Batch   240  of    986.    Elapsed: 0:01:36.\n",
            "  Batch   280  of    986.    Elapsed: 0:01:52.\n",
            "  Batch   320  of    986.    Elapsed: 0:02:08.\n",
            "  Batch   360  of    986.    Elapsed: 0:02:24.\n",
            "  Batch   400  of    986.    Elapsed: 0:02:40.\n",
            "  Batch   440  of    986.    Elapsed: 0:02:56.\n",
            "  Batch   480  of    986.    Elapsed: 0:03:13.\n",
            "  Batch   520  of    986.    Elapsed: 0:03:29.\n",
            "  Batch   560  of    986.    Elapsed: 0:03:45.\n",
            "  Batch   600  of    986.    Elapsed: 0:04:01.\n",
            "  Batch   640  of    986.    Elapsed: 0:04:17.\n",
            "  Batch   680  of    986.    Elapsed: 0:04:33.\n",
            "  Batch   720  of    986.    Elapsed: 0:04:49.\n",
            "  Batch   760  of    986.    Elapsed: 0:05:05.\n",
            "  Batch   800  of    986.    Elapsed: 0:05:21.\n",
            "  Batch   840  of    986.    Elapsed: 0:05:37.\n",
            "  Batch   880  of    986.    Elapsed: 0:05:53.\n",
            "  Batch   920  of    986.    Elapsed: 0:06:09.\n",
            "  Batch   960  of    986.    Elapsed: 0:06:25.\n",
            "\n",
            "  Average training loss: 1.59\n",
            "  Training epcoh took: 0:06:36\n",
            "\n",
            "Running Validation...\n",
            "  Accuracy: 0.41\n",
            "  Validation Loss: 1.62\n",
            "  Validation took: 0:00:03\n",
            "\n",
            "======== Epoch 3 / 10 ========\n",
            "Training...\n",
            "  Batch    40  of    986.    Elapsed: 0:00:16.\n",
            "  Batch    80  of    986.    Elapsed: 0:00:32.\n",
            "  Batch   120  of    986.    Elapsed: 0:00:48.\n",
            "  Batch   160  of    986.    Elapsed: 0:01:04.\n",
            "  Batch   200  of    986.    Elapsed: 0:01:20.\n",
            "  Batch   240  of    986.    Elapsed: 0:01:36.\n",
            "  Batch   280  of    986.    Elapsed: 0:01:52.\n",
            "  Batch   320  of    986.    Elapsed: 0:02:08.\n",
            "  Batch   360  of    986.    Elapsed: 0:02:25.\n",
            "  Batch   400  of    986.    Elapsed: 0:02:41.\n",
            "  Batch   440  of    986.    Elapsed: 0:02:57.\n",
            "  Batch   480  of    986.    Elapsed: 0:03:13.\n",
            "  Batch   520  of    986.    Elapsed: 0:03:29.\n",
            "  Batch   560  of    986.    Elapsed: 0:03:45.\n",
            "  Batch   600  of    986.    Elapsed: 0:04:01.\n",
            "  Batch   640  of    986.    Elapsed: 0:04:17.\n",
            "  Batch   680  of    986.    Elapsed: 0:04:33.\n",
            "  Batch   720  of    986.    Elapsed: 0:04:49.\n",
            "  Batch   760  of    986.    Elapsed: 0:05:05.\n",
            "  Batch   800  of    986.    Elapsed: 0:05:21.\n",
            "  Batch   840  of    986.    Elapsed: 0:05:37.\n",
            "  Batch   880  of    986.    Elapsed: 0:05:53.\n",
            "  Batch   920  of    986.    Elapsed: 0:06:09.\n",
            "  Batch   960  of    986.    Elapsed: 0:06:25.\n",
            "\n",
            "  Average training loss: 1.44\n",
            "  Training epcoh took: 0:06:35\n",
            "\n",
            "Running Validation...\n",
            "  Accuracy: 0.41\n",
            "  Validation Loss: 1.61\n",
            "  Validation took: 0:00:03\n",
            "\n",
            "======== Epoch 4 / 10 ========\n",
            "Training...\n",
            "  Batch    40  of    986.    Elapsed: 0:00:16.\n",
            "  Batch    80  of    986.    Elapsed: 0:00:32.\n",
            "  Batch   120  of    986.    Elapsed: 0:00:48.\n",
            "  Batch   160  of    986.    Elapsed: 0:01:04.\n",
            "  Batch   200  of    986.    Elapsed: 0:01:20.\n",
            "  Batch   240  of    986.    Elapsed: 0:01:36.\n",
            "  Batch   280  of    986.    Elapsed: 0:01:53.\n",
            "  Batch   320  of    986.    Elapsed: 0:02:09.\n",
            "  Batch   360  of    986.    Elapsed: 0:02:25.\n",
            "  Batch   400  of    986.    Elapsed: 0:02:41.\n",
            "  Batch   440  of    986.    Elapsed: 0:02:57.\n",
            "  Batch   480  of    986.    Elapsed: 0:03:13.\n",
            "  Batch   520  of    986.    Elapsed: 0:03:30.\n",
            "  Batch   560  of    986.    Elapsed: 0:03:46.\n",
            "  Batch   600  of    986.    Elapsed: 0:04:02.\n",
            "  Batch   640  of    986.    Elapsed: 0:04:18.\n",
            "  Batch   680  of    986.    Elapsed: 0:04:34.\n",
            "  Batch   720  of    986.    Elapsed: 0:04:50.\n",
            "  Batch   760  of    986.    Elapsed: 0:05:06.\n",
            "  Batch   800  of    986.    Elapsed: 0:05:22.\n",
            "  Batch   840  of    986.    Elapsed: 0:05:39.\n",
            "  Batch   880  of    986.    Elapsed: 0:05:55.\n",
            "  Batch   920  of    986.    Elapsed: 0:06:11.\n",
            "  Batch   960  of    986.    Elapsed: 0:06:27.\n",
            "\n",
            "  Average training loss: 1.23\n",
            "  Training epcoh took: 0:06:37\n",
            "\n",
            "Running Validation...\n",
            "  Accuracy: 0.40\n",
            "  Validation Loss: 1.69\n",
            "  Validation took: 0:00:03\n",
            "\n",
            "======== Epoch 5 / 10 ========\n",
            "Training...\n",
            "  Batch    40  of    986.    Elapsed: 0:00:16.\n",
            "  Batch    80  of    986.    Elapsed: 0:00:32.\n",
            "  Batch   120  of    986.    Elapsed: 0:00:48.\n",
            "  Batch   160  of    986.    Elapsed: 0:01:04.\n",
            "  Batch   200  of    986.    Elapsed: 0:01:20.\n",
            "  Batch   240  of    986.    Elapsed: 0:01:37.\n",
            "  Batch   280  of    986.    Elapsed: 0:01:53.\n",
            "  Batch   320  of    986.    Elapsed: 0:02:09.\n",
            "  Batch   360  of    986.    Elapsed: 0:02:25.\n",
            "  Batch   400  of    986.    Elapsed: 0:02:41.\n",
            "  Batch   440  of    986.    Elapsed: 0:02:57.\n",
            "  Batch   480  of    986.    Elapsed: 0:03:13.\n",
            "  Batch   520  of    986.    Elapsed: 0:03:29.\n",
            "  Batch   560  of    986.    Elapsed: 0:03:45.\n",
            "  Batch   600  of    986.    Elapsed: 0:04:01.\n",
            "  Batch   640  of    986.    Elapsed: 0:04:17.\n",
            "  Batch   680  of    986.    Elapsed: 0:04:33.\n",
            "  Batch   720  of    986.    Elapsed: 0:04:49.\n",
            "  Batch   760  of    986.    Elapsed: 0:05:05.\n",
            "  Batch   800  of    986.    Elapsed: 0:05:21.\n",
            "  Batch   840  of    986.    Elapsed: 0:05:37.\n",
            "  Batch   880  of    986.    Elapsed: 0:05:54.\n",
            "  Batch   920  of    986.    Elapsed: 0:06:10.\n",
            "  Batch   960  of    986.    Elapsed: 0:06:26.\n",
            "\n",
            "  Average training loss: 0.96\n",
            "  Training epcoh took: 0:06:36\n",
            "\n",
            "Running Validation...\n",
            "  Accuracy: 0.40\n",
            "  Validation Loss: 1.90\n",
            "  Validation took: 0:00:03\n",
            "\n",
            "======== Epoch 6 / 10 ========\n",
            "Training...\n",
            "  Batch    40  of    986.    Elapsed: 0:00:16.\n",
            "  Batch    80  of    986.    Elapsed: 0:00:32.\n",
            "  Batch   120  of    986.    Elapsed: 0:00:48.\n",
            "  Batch   160  of    986.    Elapsed: 0:01:04.\n",
            "  Batch   200  of    986.    Elapsed: 0:01:20.\n",
            "  Batch   240  of    986.    Elapsed: 0:01:36.\n",
            "  Batch   280  of    986.    Elapsed: 0:01:52.\n",
            "  Batch   320  of    986.    Elapsed: 0:02:09.\n",
            "  Batch   360  of    986.    Elapsed: 0:02:25.\n",
            "  Batch   400  of    986.    Elapsed: 0:02:41.\n",
            "  Batch   440  of    986.    Elapsed: 0:02:57.\n",
            "  Batch   480  of    986.    Elapsed: 0:03:13.\n",
            "  Batch   520  of    986.    Elapsed: 0:03:29.\n",
            "  Batch   560  of    986.    Elapsed: 0:03:45.\n",
            "  Batch   600  of    986.    Elapsed: 0:04:01.\n",
            "  Batch   640  of    986.    Elapsed: 0:04:17.\n",
            "  Batch   680  of    986.    Elapsed: 0:04:33.\n",
            "  Batch   720  of    986.    Elapsed: 0:04:49.\n",
            "  Batch   760  of    986.    Elapsed: 0:05:06.\n",
            "  Batch   800  of    986.    Elapsed: 0:05:22.\n",
            "  Batch   840  of    986.    Elapsed: 0:05:38.\n",
            "  Batch   880  of    986.    Elapsed: 0:05:54.\n",
            "  Batch   920  of    986.    Elapsed: 0:06:10.\n",
            "  Batch   960  of    986.    Elapsed: 0:06:26.\n",
            "\n",
            "  Average training loss: 0.70\n",
            "  Training epcoh took: 0:06:36\n",
            "\n",
            "Running Validation...\n",
            "  Accuracy: 0.40\n",
            "  Validation Loss: 2.14\n",
            "  Validation took: 0:00:03\n",
            "\n",
            "======== Epoch 7 / 10 ========\n",
            "Training...\n",
            "  Batch    40  of    986.    Elapsed: 0:00:16.\n",
            "  Batch    80  of    986.    Elapsed: 0:00:32.\n",
            "  Batch   120  of    986.    Elapsed: 0:00:48.\n",
            "  Batch   160  of    986.    Elapsed: 0:01:04.\n",
            "  Batch   200  of    986.    Elapsed: 0:01:20.\n",
            "  Batch   240  of    986.    Elapsed: 0:01:37.\n",
            "  Batch   280  of    986.    Elapsed: 0:01:53.\n",
            "  Batch   320  of    986.    Elapsed: 0:02:09.\n",
            "  Batch   360  of    986.    Elapsed: 0:02:25.\n",
            "  Batch   400  of    986.    Elapsed: 0:02:41.\n",
            "  Batch   440  of    986.    Elapsed: 0:02:57.\n",
            "  Batch   480  of    986.    Elapsed: 0:03:13.\n",
            "  Batch   520  of    986.    Elapsed: 0:03:29.\n",
            "  Batch   560  of    986.    Elapsed: 0:03:45.\n",
            "  Batch   600  of    986.    Elapsed: 0:04:01.\n",
            "  Batch   640  of    986.    Elapsed: 0:04:17.\n",
            "  Batch   680  of    986.    Elapsed: 0:04:33.\n",
            "  Batch   720  of    986.    Elapsed: 0:04:50.\n",
            "  Batch   760  of    986.    Elapsed: 0:05:06.\n",
            "  Batch   800  of    986.    Elapsed: 0:05:22.\n",
            "  Batch   840  of    986.    Elapsed: 0:05:38.\n",
            "  Batch   880  of    986.    Elapsed: 0:05:54.\n",
            "  Batch   920  of    986.    Elapsed: 0:06:10.\n",
            "  Batch   960  of    986.    Elapsed: 0:06:26.\n",
            "\n",
            "  Average training loss: 0.52\n",
            "  Training epcoh took: 0:06:36\n",
            "\n",
            "Running Validation...\n",
            "  Accuracy: 0.39\n",
            "  Validation Loss: 2.46\n",
            "  Validation took: 0:00:03\n",
            "\n",
            "======== Epoch 8 / 10 ========\n",
            "Training...\n",
            "  Batch    40  of    986.    Elapsed: 0:00:16.\n",
            "  Batch    80  of    986.    Elapsed: 0:00:32.\n",
            "  Batch   120  of    986.    Elapsed: 0:00:48.\n",
            "  Batch   160  of    986.    Elapsed: 0:01:05.\n",
            "  Batch   200  of    986.    Elapsed: 0:01:21.\n",
            "  Batch   240  of    986.    Elapsed: 0:01:37.\n",
            "  Batch   280  of    986.    Elapsed: 0:01:53.\n",
            "  Batch   320  of    986.    Elapsed: 0:02:09.\n",
            "  Batch   360  of    986.    Elapsed: 0:02:25.\n",
            "  Batch   400  of    986.    Elapsed: 0:02:41.\n",
            "  Batch   440  of    986.    Elapsed: 0:02:58.\n",
            "  Batch   480  of    986.    Elapsed: 0:03:14.\n",
            "  Batch   520  of    986.    Elapsed: 0:03:30.\n",
            "  Batch   560  of    986.    Elapsed: 0:03:46.\n",
            "  Batch   600  of    986.    Elapsed: 0:04:02.\n",
            "  Batch   640  of    986.    Elapsed: 0:04:18.\n",
            "  Batch   680  of    986.    Elapsed: 0:04:34.\n",
            "  Batch   720  of    986.    Elapsed: 0:04:50.\n",
            "  Batch   760  of    986.    Elapsed: 0:05:06.\n",
            "  Batch   800  of    986.    Elapsed: 0:05:22.\n",
            "  Batch   840  of    986.    Elapsed: 0:05:39.\n",
            "  Batch   880  of    986.    Elapsed: 0:05:55.\n",
            "  Batch   920  of    986.    Elapsed: 0:06:11.\n",
            "  Batch   960  of    986.    Elapsed: 0:06:27.\n",
            "\n",
            "  Average training loss: 0.36\n",
            "  Training epcoh took: 0:06:37\n",
            "\n",
            "Running Validation...\n",
            "  Accuracy: 0.41\n",
            "  Validation Loss: 2.60\n",
            "  Validation took: 0:00:03\n",
            "\n",
            "======== Epoch 9 / 10 ========\n",
            "Training...\n",
            "  Batch    40  of    986.    Elapsed: 0:00:16.\n",
            "  Batch    80  of    986.    Elapsed: 0:00:32.\n",
            "  Batch   120  of    986.    Elapsed: 0:00:48.\n",
            "  Batch   160  of    986.    Elapsed: 0:01:04.\n",
            "  Batch   200  of    986.    Elapsed: 0:01:20.\n",
            "  Batch   240  of    986.    Elapsed: 0:01:37.\n",
            "  Batch   280  of    986.    Elapsed: 0:01:53.\n",
            "  Batch   320  of    986.    Elapsed: 0:02:09.\n",
            "  Batch   360  of    986.    Elapsed: 0:02:25.\n",
            "  Batch   400  of    986.    Elapsed: 0:02:41.\n",
            "  Batch   440  of    986.    Elapsed: 0:02:57.\n",
            "  Batch   480  of    986.    Elapsed: 0:03:13.\n",
            "  Batch   520  of    986.    Elapsed: 0:03:29.\n",
            "  Batch   560  of    986.    Elapsed: 0:03:45.\n",
            "  Batch   600  of    986.    Elapsed: 0:04:02.\n",
            "  Batch   640  of    986.    Elapsed: 0:04:18.\n",
            "  Batch   680  of    986.    Elapsed: 0:04:34.\n",
            "  Batch   720  of    986.    Elapsed: 0:04:50.\n",
            "  Batch   760  of    986.    Elapsed: 0:05:06.\n",
            "  Batch   800  of    986.    Elapsed: 0:05:22.\n",
            "  Batch   840  of    986.    Elapsed: 0:05:38.\n",
            "  Batch   880  of    986.    Elapsed: 0:05:55.\n",
            "  Batch   920  of    986.    Elapsed: 0:06:11.\n",
            "  Batch   960  of    986.    Elapsed: 0:06:27.\n",
            "\n",
            "  Average training loss: 0.22\n",
            "  Training epcoh took: 0:06:37\n",
            "\n",
            "Running Validation...\n",
            "  Accuracy: 0.40\n",
            "  Validation Loss: 2.80\n",
            "  Validation took: 0:00:03\n",
            "\n",
            "======== Epoch 10 / 10 ========\n",
            "Training...\n",
            "  Batch    40  of    986.    Elapsed: 0:00:16.\n",
            "  Batch    80  of    986.    Elapsed: 0:00:32.\n",
            "  Batch   120  of    986.    Elapsed: 0:00:48.\n",
            "  Batch   160  of    986.    Elapsed: 0:01:04.\n",
            "  Batch   200  of    986.    Elapsed: 0:01:21.\n",
            "  Batch   240  of    986.    Elapsed: 0:01:37.\n",
            "  Batch   280  of    986.    Elapsed: 0:01:53.\n",
            "  Batch   320  of    986.    Elapsed: 0:02:09.\n",
            "  Batch   360  of    986.    Elapsed: 0:02:25.\n",
            "  Batch   400  of    986.    Elapsed: 0:02:41.\n",
            "  Batch   440  of    986.    Elapsed: 0:02:57.\n",
            "  Batch   480  of    986.    Elapsed: 0:03:13.\n",
            "  Batch   520  of    986.    Elapsed: 0:03:30.\n",
            "  Batch   560  of    986.    Elapsed: 0:03:46.\n",
            "  Batch   600  of    986.    Elapsed: 0:04:02.\n",
            "  Batch   640  of    986.    Elapsed: 0:04:18.\n",
            "  Batch   680  of    986.    Elapsed: 0:04:34.\n",
            "  Batch   720  of    986.    Elapsed: 0:04:50.\n",
            "  Batch   760  of    986.    Elapsed: 0:05:06.\n",
            "  Batch   800  of    986.    Elapsed: 0:05:23.\n",
            "  Batch   840  of    986.    Elapsed: 0:05:39.\n",
            "  Batch   880  of    986.    Elapsed: 0:05:55.\n",
            "  Batch   920  of    986.    Elapsed: 0:06:11.\n",
            "  Batch   960  of    986.    Elapsed: 0:06:27.\n",
            "\n",
            "  Average training loss: 0.13\n",
            "  Training epcoh took: 0:06:37\n",
            "\n",
            "Running Validation...\n",
            "  Accuracy: 0.39\n",
            "  Validation Loss: 2.91\n",
            "  Validation took: 0:00:03\n",
            "\n",
            "Training complete!\n",
            "Total training took 1:06:29 (h:mm:ss)\n"
          ],
          "name": "stdout"
        }
      ]
    },
    {
      "cell_type": "code",
      "metadata": {
        "id": "wDvvebTjM4C8",
        "colab_type": "code",
        "outputId": "94c2d111-3a8c-401a-dd4d-1a01327dd066",
        "colab": {
          "base_uri": "https://localhost:8080/",
          "height": 427
        }
      },
      "source": [
        "import pandas as pd\n",
        "\n",
        "# Display floats with two decimal places.\n",
        "pd.set_option('precision', 2)\n",
        "\n",
        "# Create a DataFrame from our training statistics.\n",
        "df_stats = pd.DataFrame(data=training_stats)\n",
        "\n",
        "# Use the 'epoch' as the row index.\n",
        "df_stats = df_stats.set_index('epoch')\n",
        "\n",
        "# A hack to force the column headers to wrap.\n",
        "#df = df.style.set_table_styles([dict(selector=\"th\",props=[('max-width', '70px')])])\n",
        "\n",
        "# Display the table.\n",
        "df_stats\n",
        "\n",
        "import matplotlib.pyplot as plt\n",
        "% matplotlib inline\n",
        "\n",
        "import seaborn as sns\n",
        "\n",
        "# Use plot styling from seaborn.\n",
        "sns.set(style='darkgrid')\n",
        "\n",
        "# Increase the plot size and font size.\n",
        "sns.set(font_scale=1.5)\n",
        "plt.rcParams[\"figure.figsize\"] = (12,6)\n",
        "\n",
        "# Plot the learning curve.\n",
        "plt.plot(df_stats['Training Loss'], 'b-o', label=\"Training\")\n",
        "plt.plot(df_stats['Valid. Loss'], 'g-o', label=\"Validation\")\n",
        "\n",
        "# Label the plot.\n",
        "plt.title(\"Training & Validation Loss\")\n",
        "plt.xlabel(\"Epoch\")\n",
        "plt.ylabel(\"Loss\")\n",
        "plt.legend()\n",
        "plt.xticks([1, 2, 3, 4])\n",
        "\n",
        "plt.show()"
      ],
      "execution_count": 26,
      "outputs": [
        {
          "output_type": "display_data",
          "data": {
            "image/png": "[encoded data removed]",
            "text/plain": [
              "<Figure size 864x432 with 1 Axes>"
            ]
          },
          "metadata": {
            "tags": []
          }
        }
      ]
    },
    {
      "cell_type": "code",
      "metadata": {
        "id": "5_YGE2P_NlQt",
        "colab_type": "code",
        "outputId": "5af2870d-8154-4408-c884-aa6d9f8c5b39",
        "colab": {
          "base_uri": "https://localhost:8080/",
          "height": 281
        }
      },
      "source": [
        "df_test.head()"
      ],
      "execution_count": 27,
      "outputs": [
        {
          "output_type": "execute_result",
          "data": {
            "text/html": [
              "<div>\n",
              "<style scoped>\n",
              "    .dataframe tbody tr th:only-of-type {\n",
              "        vertical-align: middle;\n",
              "    }\n",
              "\n",
              "    .dataframe tbody tr th {\n",
              "        vertical-align: top;\n",
              "    }\n",
              "\n",
              "    .dataframe thead th {\n",
              "        text-align: right;\n",
              "    }\n",
              "</style>\n",
              "<table border=\"1\" class=\"dataframe\">\n",
              "  <thead>\n",
              "    <tr style=\"text-align: right;\">\n",
              "      <th></th>\n",
              "      <th>patient_id</th>\n",
              "      <th>name_of_drug</th>\n",
              "      <th>review_by_patient</th>\n",
              "      <th>drug_approved_by_UIC</th>\n",
              "      <th>number_of_times_prescribed</th>\n",
              "      <th>use_case_for_drug</th>\n",
              "    </tr>\n",
              "  </thead>\n",
              "  <tbody>\n",
              "    <tr>\n",
              "      <th>0</th>\n",
              "      <td>163740</td>\n",
              "      <td>Mirtazapine</td>\n",
              "      <td>\"I&amp;#039;ve tried a few antidepressants over th...</td>\n",
              "      <td>28-Feb-12</td>\n",
              "      <td>22</td>\n",
              "      <td>Depression</td>\n",
              "    </tr>\n",
              "    <tr>\n",
              "      <th>1</th>\n",
              "      <td>39293</td>\n",
              "      <td>Contrave</td>\n",
              "      <td>\"Contrave combines drugs that were used for al...</td>\n",
              "      <td>5-Mar-17</td>\n",
              "      <td>35</td>\n",
              "      <td>Weight Loss</td>\n",
              "    </tr>\n",
              "    <tr>\n",
              "      <th>2</th>\n",
              "      <td>208087</td>\n",
              "      <td>Zyclara</td>\n",
              "      <td>\"4 days in on first 2 weeks.  Using on arms an...</td>\n",
              "      <td>3-Jul-14</td>\n",
              "      <td>13</td>\n",
              "      <td>Keratosis</td>\n",
              "    </tr>\n",
              "    <tr>\n",
              "      <th>3</th>\n",
              "      <td>23295</td>\n",
              "      <td>Methadone</td>\n",
              "      <td>\"Ive been on Methadone for over ten years and ...</td>\n",
              "      <td>18-Oct-16</td>\n",
              "      <td>21</td>\n",
              "      <td>Opiate Withdrawal</td>\n",
              "    </tr>\n",
              "    <tr>\n",
              "      <th>4</th>\n",
              "      <td>97013</td>\n",
              "      <td>Ambien</td>\n",
              "      <td>\"Ditto on rebound sleepless when discontinued....</td>\n",
              "      <td>13-Jan-15</td>\n",
              "      <td>44</td>\n",
              "      <td>Insomnia</td>\n",
              "    </tr>\n",
              "  </tbody>\n",
              "</table>\n",
              "</div>"
            ],
            "text/plain": [
              "   patient_id name_of_drug  ... number_of_times_prescribed  use_case_for_drug\n",
              "0      163740  Mirtazapine  ...                         22         Depression\n",
              "1       39293     Contrave  ...                         35        Weight Loss\n",
              "2      208087      Zyclara  ...                         13          Keratosis\n",
              "3       23295    Methadone  ...                         21  Opiate Withdrawal\n",
              "4       97013       Ambien  ...                         44           Insomnia\n",
              "\n",
              "[5 rows x 6 columns]"
            ]
          },
          "metadata": {
            "tags": []
          },
          "execution_count": 27
        }
      ]
    },
    {
      "cell_type": "code",
      "metadata": {
        "id": "wJilx1YLstqW",
        "colab_type": "code",
        "outputId": "dd5a58ca-9cc9-47e4-ae66-2481c72dbe15",
        "colab": {
          "base_uri": "https://localhost:8080/",
          "height": 197
        }
      },
      "source": [
        "test = df_test.drop(drop_cols, axis=1)\n",
        "test.head()"
      ],
      "execution_count": 28,
      "outputs": [
        {
          "output_type": "execute_result",
          "data": {
            "text/html": [
              "<div>\n",
              "<style scoped>\n",
              "    .dataframe tbody tr th:only-of-type {\n",
              "        vertical-align: middle;\n",
              "    }\n",
              "\n",
              "    .dataframe tbody tr th {\n",
              "        vertical-align: top;\n",
              "    }\n",
              "\n",
              "    .dataframe thead th {\n",
              "        text-align: right;\n",
              "    }\n",
              "</style>\n",
              "<table border=\"1\" class=\"dataframe\">\n",
              "  <thead>\n",
              "    <tr style=\"text-align: right;\">\n",
              "      <th></th>\n",
              "      <th>patient_id</th>\n",
              "      <th>review_by_patient</th>\n",
              "    </tr>\n",
              "  </thead>\n",
              "  <tbody>\n",
              "    <tr>\n",
              "      <th>0</th>\n",
              "      <td>163740</td>\n",
              "      <td>\"I&amp;#039;ve tried a few antidepressants over th...</td>\n",
              "    </tr>\n",
              "    <tr>\n",
              "      <th>1</th>\n",
              "      <td>39293</td>\n",
              "      <td>\"Contrave combines drugs that were used for al...</td>\n",
              "    </tr>\n",
              "    <tr>\n",
              "      <th>2</th>\n",
              "      <td>208087</td>\n",
              "      <td>\"4 days in on first 2 weeks.  Using on arms an...</td>\n",
              "    </tr>\n",
              "    <tr>\n",
              "      <th>3</th>\n",
              "      <td>23295</td>\n",
              "      <td>\"Ive been on Methadone for over ten years and ...</td>\n",
              "    </tr>\n",
              "    <tr>\n",
              "      <th>4</th>\n",
              "      <td>97013</td>\n",
              "      <td>\"Ditto on rebound sleepless when discontinued....</td>\n",
              "    </tr>\n",
              "  </tbody>\n",
              "</table>\n",
              "</div>"
            ],
            "text/plain": [
              "   patient_id                                  review_by_patient\n",
              "0      163740  \"I&#039;ve tried a few antidepressants over th...\n",
              "1       39293  \"Contrave combines drugs that were used for al...\n",
              "2      208087  \"4 days in on first 2 weeks.  Using on arms an...\n",
              "3       23295  \"Ive been on Methadone for over ten years and ...\n",
              "4       97013  \"Ditto on rebound sleepless when discontinued...."
            ]
          },
          "metadata": {
            "tags": []
          },
          "execution_count": 28
        }
      ]
    },
    {
      "cell_type": "code",
      "metadata": {
        "id": "J_e5ycIas4cv",
        "colab_type": "code",
        "colab": {}
      },
      "source": [
        "test_rev = test['review_by_patient']"
      ],
      "execution_count": 0,
      "outputs": []
    },
    {
      "cell_type": "code",
      "metadata": {
        "id": "tZcIEstYs_BK",
        "colab_type": "code",
        "outputId": "70ee8152-1081-4471-bf60-7e24884ec5ff",
        "colab": {
          "base_uri": "https://localhost:8080/",
          "height": 51
        }
      },
      "source": [
        "print('Number of test sentences: {:,}\\n'.format(len(test_rev)))\n",
        "\n",
        "# Create sentence and label lists\n",
        "sentences = test_rev\n",
        "#labels = df.label.values\n",
        "\n",
        "# Tokenize all of the sentences and map the tokens to thier word IDs.\n",
        "input_ids = []\n",
        "attention_masks = []\n",
        "\n",
        "# For every sentence...\n",
        "for sent in sentences:\n",
        "    # `encode_plus` will:\n",
        "    #   (1) Tokenize the sentence.\n",
        "    #   (2) Prepend the `[CLS]` token to the start.\n",
        "    #   (3) Append the `[SEP]` token to the end.\n",
        "    #   (4) Map tokens to their IDs.\n",
        "    #   (5) Pad or truncate the sentence to `max_length`\n",
        "    #   (6) Create attention masks for [PAD] tokens.\n",
        "    encoded_dict = tokenizer.encode_plus(\n",
        "                        sent,                      # Sentence to encode.\n",
        "                        add_special_tokens = True, # Add '[CLS]' and '[SEP]'\n",
        "                        max_length = 64,           # Pad & truncate all sentences.\n",
        "                        pad_to_max_length = True,\n",
        "                        return_attention_mask = True,   # Construct attn. masks.\n",
        "                        return_tensors = 'pt',     # Return pytorch tensors.\n",
        "                   )\n",
        "    \n",
        "    # Add the encoded sentence to the list.    \n",
        "    input_ids.append(encoded_dict['input_ids'])\n",
        "    \n",
        "    # And its attention mask (simply differentiates padding from non-padding).\n",
        "    attention_masks.append(encoded_dict['attention_mask'])\n",
        "\n",
        "# Convert the lists into tensors.\n",
        "input_ids = torch.cat(input_ids, dim=0)\n",
        "attention_masks = torch.cat(attention_masks, dim=0)\n",
        "#labels = torch.tensor(labels)\n",
        "\n",
        "# Set the batch size.  \n",
        "batch_size = 32  \n",
        "\n",
        "# Create the DataLoader.\n",
        "prediction_data = TensorDataset(input_ids, attention_masks)#, labels)\n",
        "prediction_sampler = SequentialSampler(prediction_data)\n",
        "prediction_dataloader = DataLoader(prediction_data, sampler=prediction_sampler, batch_size=batch_size)"
      ],
      "execution_count": 30,
      "outputs": [
        {
          "output_type": "stream",
          "text": [
            "Number of test sentences: 10,760\n",
            "\n"
          ],
          "name": "stdout"
        }
      ]
    },
    {
      "cell_type": "code",
      "metadata": {
        "id": "LQhqliLCtMeo",
        "colab_type": "code",
        "outputId": "68e2127b-6d85-4a74-ccfc-22a0f298df53",
        "colab": {
          "base_uri": "https://localhost:8080/",
          "height": 51
        }
      },
      "source": [
        "# Prediction on test set\n",
        "\n",
        "print('Predicting labels for {:,} test sentences...'.format(len(input_ids)))\n",
        "\n",
        "# Put model in evaluation mode\n",
        "model.eval()\n",
        "\n",
        "# Tracking variables \n",
        "predictions , true_labels = [], []\n",
        "\n",
        "# Predict \n",
        "for batch in prediction_dataloader:\n",
        "  # Add batch to GPU\n",
        "  batch = tuple(t.to(device) for t in batch)\n",
        "\n",
        "  \n",
        "  # Unpack the inputs from our dataloader\n",
        "  #b_input_ids, b_input_mask, b_labels = batch\n",
        "  b_input_ids, b_input_mask= batch\n",
        "  \n",
        "  # Telling the model not to compute or store gradients, saving memory and \n",
        "  # speeding up prediction\n",
        "  with torch.no_grad():\n",
        "      # Forward pass, calculate logit predictions\n",
        "      outputs = model(b_input_ids, token_type_ids=None, \n",
        "                      attention_mask=b_input_mask)\n",
        "\n",
        "  logits = outputs[0]\n",
        "\n",
        "  # Move logits and labels to CPU\n",
        "  logits = logits.detach().cpu().numpy()\n",
        "  label_ids = b_labels.to('cpu').numpy()\n",
        "  \n",
        "  # Store predictions and true labels\n",
        "  predictions.append(logits)\n",
        "  true_labels.append(label_ids)\n",
        "\n",
        "print('    DONE.')\n"
      ],
      "execution_count": 31,
      "outputs": [
        {
          "output_type": "stream",
          "text": [
            "Predicting labels for 10,760 test sentences...\n",
            "    DONE.\n"
          ],
          "name": "stdout"
        }
      ]
    },
    {
      "cell_type": "code",
      "metadata": {
        "id": "yTqkqfFiuZcM",
        "colab_type": "code",
        "outputId": "cd60d0a5-c563-4361-adb6-cdc58ce73b25",
        "colab": {
          "base_uri": "https://localhost:8080/",
          "height": 34
        }
      },
      "source": [
        "pred = np.array(predictions)\n",
        "pred.shape"
      ],
      "execution_count": 0,
      "outputs": [
        {
          "output_type": "execute_result",
          "data": {
            "text/plain": [
              "(337,)"
            ]
          },
          "metadata": {
            "tags": []
          },
          "execution_count": 39
        }
      ]
    },
    {
      "cell_type": "code",
      "metadata": {
        "id": "xzCTxBqvvFn8",
        "colab_type": "code",
        "outputId": "2a6da40a-1f76-47c5-ef7b-61d6cfe5b162",
        "colab": {
          "base_uri": "https://localhost:8080/",
          "height": 34
        }
      },
      "source": [
        "len(predictions)"
      ],
      "execution_count": 32,
      "outputs": [
        {
          "output_type": "execute_result",
          "data": {
            "text/plain": [
              "337"
            ]
          },
          "metadata": {
            "tags": []
          },
          "execution_count": 32
        }
      ]
    },
    {
      "cell_type": "code",
      "metadata": {
        "id": "RBYvjolhvn8j",
        "colab_type": "code",
        "outputId": "ea7f9640-d193-4864-c600-148373a97228",
        "colab": {
          "base_uri": "https://localhost:8080/",
          "height": 34
        }
      },
      "source": [
        "labels_pre = []\n",
        "for i in range(len(predictions)):\n",
        "  for k in predictions[i]:\n",
        "    maxx = np.argmax(k)\n",
        "    labels_pre.append(maxx)\n",
        "\n",
        "len(labels_pre)"
      ],
      "execution_count": 33,
      "outputs": [
        {
          "output_type": "execute_result",
          "data": {
            "text/plain": [
              "10760"
            ]
          },
          "metadata": {
            "tags": []
          },
          "execution_count": 33
        }
      ]
    },
    {
      "cell_type": "code",
      "metadata": {
        "id": "B0_V36snw_YL",
        "colab_type": "code",
        "outputId": "bcc59bb8-c590-4eeb-fcc1-8efc3a385b42",
        "colab": {
          "base_uri": "https://localhost:8080/",
          "height": 47
        }
      },
      "source": [
        "submit = pd.DataFrame(columns=['patient_id', 'effectiveness_rating'],)\n",
        "submit"
      ],
      "execution_count": 34,
      "outputs": [
        {
          "output_type": "execute_result",
          "data": {
            "text/html": [
              "<div>\n",
              "<style scoped>\n",
              "    .dataframe tbody tr th:only-of-type {\n",
              "        vertical-align: middle;\n",
              "    }\n",
              "\n",
              "    .dataframe tbody tr th {\n",
              "        vertical-align: top;\n",
              "    }\n",
              "\n",
              "    .dataframe thead th {\n",
              "        text-align: right;\n",
              "    }\n",
              "</style>\n",
              "<table border=\"1\" class=\"dataframe\">\n",
              "  <thead>\n",
              "    <tr style=\"text-align: right;\">\n",
              "      <th></th>\n",
              "      <th>patient_id</th>\n",
              "      <th>effectiveness_rating</th>\n",
              "    </tr>\n",
              "  </thead>\n",
              "  <tbody>\n",
              "  </tbody>\n",
              "</table>\n",
              "</div>"
            ],
            "text/plain": [
              "Empty DataFrame\n",
              "Columns: [patient_id, effectiveness_rating]\n",
              "Index: []"
            ]
          },
          "metadata": {
            "tags": []
          },
          "execution_count": 34
        }
      ]
    },
    {
      "cell_type": "code",
      "metadata": {
        "id": "92H7f-sPx7Jz",
        "colab_type": "code",
        "outputId": "f644d5aa-856f-4685-81d2-2c9de5b8c7d8",
        "colab": {
          "base_uri": "https://localhost:8080/",
          "height": 197
        }
      },
      "source": [
        "submit['patient_id'] = test['patient_id']\n",
        "submit.head()"
      ],
      "execution_count": 35,
      "outputs": [
        {
          "output_type": "execute_result",
          "data": {
            "text/html": [
              "<div>\n",
              "<style scoped>\n",
              "    .dataframe tbody tr th:only-of-type {\n",
              "        vertical-align: middle;\n",
              "    }\n",
              "\n",
              "    .dataframe tbody tr th {\n",
              "        vertical-align: top;\n",
              "    }\n",
              "\n",
              "    .dataframe thead th {\n",
              "        text-align: right;\n",
              "    }\n",
              "</style>\n",
              "<table border=\"1\" class=\"dataframe\">\n",
              "  <thead>\n",
              "    <tr style=\"text-align: right;\">\n",
              "      <th></th>\n",
              "      <th>patient_id</th>\n",
              "      <th>effectiveness_rating</th>\n",
              "    </tr>\n",
              "  </thead>\n",
              "  <tbody>\n",
              "    <tr>\n",
              "      <th>0</th>\n",
              "      <td>163740</td>\n",
              "      <td>NaN</td>\n",
              "    </tr>\n",
              "    <tr>\n",
              "      <th>1</th>\n",
              "      <td>39293</td>\n",
              "      <td>NaN</td>\n",
              "    </tr>\n",
              "    <tr>\n",
              "      <th>2</th>\n",
              "      <td>208087</td>\n",
              "      <td>NaN</td>\n",
              "    </tr>\n",
              "    <tr>\n",
              "      <th>3</th>\n",
              "      <td>23295</td>\n",
              "      <td>NaN</td>\n",
              "    </tr>\n",
              "    <tr>\n",
              "      <th>4</th>\n",
              "      <td>97013</td>\n",
              "      <td>NaN</td>\n",
              "    </tr>\n",
              "  </tbody>\n",
              "</table>\n",
              "</div>"
            ],
            "text/plain": [
              "   patient_id effectiveness_rating\n",
              "0      163740                  NaN\n",
              "1       39293                  NaN\n",
              "2      208087                  NaN\n",
              "3       23295                  NaN\n",
              "4       97013                  NaN"
            ]
          },
          "metadata": {
            "tags": []
          },
          "execution_count": 35
        }
      ]
    },
    {
      "cell_type": "code",
      "metadata": {
        "id": "4q9ZPWv0ykxb",
        "colab_type": "code",
        "colab": {}
      },
      "source": [
        "labels_pre = np.array(labels_pre)\n",
        "labels_pre = labels_pre + 1"
      ],
      "execution_count": 0,
      "outputs": []
    },
    {
      "cell_type": "code",
      "metadata": {
        "id": "Lb1898l3ycMD",
        "colab_type": "code",
        "outputId": "ec0a30f3-3851-4600-8dd9-c405331ef9fc",
        "colab": {
          "base_uri": "https://localhost:8080/",
          "height": 197
        }
      },
      "source": [
        "submit['effectiveness_rating'] = labels_pre\n",
        "submit.head()"
      ],
      "execution_count": 37,
      "outputs": [
        {
          "output_type": "execute_result",
          "data": {
            "text/html": [
              "<div>\n",
              "<style scoped>\n",
              "    .dataframe tbody tr th:only-of-type {\n",
              "        vertical-align: middle;\n",
              "    }\n",
              "\n",
              "    .dataframe tbody tr th {\n",
              "        vertical-align: top;\n",
              "    }\n",
              "\n",
              "    .dataframe thead th {\n",
              "        text-align: right;\n",
              "    }\n",
              "</style>\n",
              "<table border=\"1\" class=\"dataframe\">\n",
              "  <thead>\n",
              "    <tr style=\"text-align: right;\">\n",
              "      <th></th>\n",
              "      <th>patient_id</th>\n",
              "      <th>effectiveness_rating</th>\n",
              "    </tr>\n",
              "  </thead>\n",
              "  <tbody>\n",
              "    <tr>\n",
              "      <th>0</th>\n",
              "      <td>163740</td>\n",
              "      <td>9</td>\n",
              "    </tr>\n",
              "    <tr>\n",
              "      <th>1</th>\n",
              "      <td>39293</td>\n",
              "      <td>8</td>\n",
              "    </tr>\n",
              "    <tr>\n",
              "      <th>2</th>\n",
              "      <td>208087</td>\n",
              "      <td>10</td>\n",
              "    </tr>\n",
              "    <tr>\n",
              "      <th>3</th>\n",
              "      <td>23295</td>\n",
              "      <td>5</td>\n",
              "    </tr>\n",
              "    <tr>\n",
              "      <th>4</th>\n",
              "      <td>97013</td>\n",
              "      <td>5</td>\n",
              "    </tr>\n",
              "  </tbody>\n",
              "</table>\n",
              "</div>"
            ],
            "text/plain": [
              "   patient_id  effectiveness_rating\n",
              "0      163740                     9\n",
              "1       39293                     8\n",
              "2      208087                    10\n",
              "3       23295                     5\n",
              "4       97013                     5"
            ]
          },
          "metadata": {
            "tags": []
          },
          "execution_count": 37
        }
      ]
    },
    {
      "cell_type": "code",
      "metadata": {
        "id": "leSw5XDCzHBG",
        "colab_type": "code",
        "colab": {}
      },
      "source": [
        "submit.to_csv('dedoyaar.csv', index=False)"
      ],
      "execution_count": 0,
      "outputs": []
    },
    {
      "cell_type": "code",
      "metadata": {
        "id": "CBet_mIazVQu",
        "colab_type": "code",
        "outputId": "18025ff3-4339-479b-83da-03dadd0cc261",
        "colab": {
          "base_uri": "https://localhost:8080/",
          "height": 208
        }
      },
      "source": [
        "submit['effectiveness_rating'].value_counts() #  10 9 1 8 7 5 2 6 3 4"
      ],
      "execution_count": 0,
      "outputs": [
        {
          "output_type": "execute_result",
          "data": {
            "text/plain": [
              "10    4437\n",
              "1     1860\n",
              "8     1372\n",
              "9     1304\n",
              "5      742\n",
              "7      454\n",
              "2      251\n",
              "3      204\n",
              "6       89\n",
              "4       47\n",
              "Name: effectiveness_rating, dtype: int64"
            ]
          },
          "metadata": {
            "tags": []
          },
          "execution_count": 66
        }
      ]
    },
    {
      "cell_type": "code",
      "metadata": {
        "id": "J2dKoJMgzwoT",
        "colab_type": "code",
        "colab": {}
      },
      "source": [
        "submit.effectiveness_rating[labels_pre == 1] = 9\n",
        "submit.effectiveness_rating[labels_pre == 8] = 1\n",
        "submit.effectiveness_rating[labels_pre == 9] = 8\n",
        "submit.effectiveness_rating[labels_pre == 5] = 7\n",
        "submit.effectiveness_rating[labels_pre == 7] = 5\n",
        "submit.effectiveness_rating[labels_pre == 2] = 2\n",
        "submit.effectiveness_rating[labels_pre == 3] = 6\n",
        "submit.effectiveness_rating[labels_pre == 6] = 3\n",
        "\n",
        "#submit[labels_pre == 10] = 10\n",
        "#submit[labels_pre == 4] = 4"
      ],
      "execution_count": 0,
      "outputs": []
    },
    {
      "cell_type": "code",
      "metadata": {
        "id": "sJEk5bkh3WTt",
        "colab_type": "code",
        "colab": {}
      },
      "source": [
        "submit.to_csv('nabhey_do.csv', index=False)"
      ],
      "execution_count": 0,
      "outputs": []
    },
    {
      "cell_type": "code",
      "metadata": {
        "id": "0Y_NIarO3e8z",
        "colab_type": "code",
        "outputId": "92f5404c-2bec-4ce3-baf9-ff9f13f62238",
        "colab": {
          "base_uri": "https://localhost:8080/",
          "height": 47
        }
      },
      "source": [
        "submit[submit['patient_id'] == 16384]"
      ],
      "execution_count": 0,
      "outputs": [
        {
          "output_type": "execute_result",
          "data": {
            "text/html": [
              "<div>\n",
              "<style scoped>\n",
              "    .dataframe tbody tr th:only-of-type {\n",
              "        vertical-align: middle;\n",
              "    }\n",
              "\n",
              "    .dataframe tbody tr th {\n",
              "        vertical-align: top;\n",
              "    }\n",
              "\n",
              "    .dataframe thead th {\n",
              "        text-align: right;\n",
              "    }\n",
              "</style>\n",
              "<table border=\"1\" class=\"dataframe\">\n",
              "  <thead>\n",
              "    <tr style=\"text-align: right;\">\n",
              "      <th></th>\n",
              "      <th>patient_id</th>\n",
              "      <th>effectiveness_rating</th>\n",
              "    </tr>\n",
              "  </thead>\n",
              "  <tbody>\n",
              "  </tbody>\n",
              "</table>\n",
              "</div>"
            ],
            "text/plain": [
              "Empty DataFrame\n",
              "Columns: [patient_id, effectiveness_rating]\n",
              "Index: []"
            ]
          },
          "metadata": {
            "tags": []
          },
          "execution_count": 72
        }
      ]
    },
    {
      "cell_type": "code",
      "metadata": {
        "id": "a86HHr-H3zKL",
        "colab_type": "code",
        "colab": {}
      },
      "source": [
        ""
      ],
      "execution_count": 0,
      "outputs": []
    }
  ]
}